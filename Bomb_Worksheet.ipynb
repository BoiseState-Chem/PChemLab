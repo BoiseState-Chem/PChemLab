{
 "cells": [
  {
   "attachments": {},
   "cell_type": "markdown",
   "metadata": {},
   "source": [
    "Student's Name and Email Address\n",
    "\n",
    "Boise State University, Department of Chemistry and Biochemistry"
   ]
  },
  {
   "attachments": {},
   "cell_type": "markdown",
   "metadata": {},
   "source": [
    "## CHEM 324: PChem Lab {-}\n",
    "# Worksheet 3: Bomb Calorimetry {-}"
   ]
  },
  {
   "cell_type": "code",
   "execution_count": null,
   "metadata": {},
   "outputs": [],
   "source": [
    "# Import the main modules used in this worksheet\n",
    "import numpy as np\n",
    "import matplotlib.pyplot as plt\n",
    "import pandas as pd\n",
    "from sklearn.linear_model import LinearRegression"
   ]
  },
  {
   "cell_type": "code",
   "execution_count": null,
   "metadata": {},
   "outputs": [],
   "source": [
    "# Load the google drive with your files \n",
    "from google.colab import drive\n",
    "drive.mount('/content/drive')\n",
    "# The following needs to be the path of the folder with all your collected data in .csv format\n",
    "path='/content/drive/MyDrive/Colab Notebooks/Bomb_Data/'"
   ]
  },
  {
   "cell_type": "code",
   "execution_count": null,
   "metadata": {},
   "outputs": [],
   "source": [
    "# The following functions have been designed to help you fit the calorimetry data\n",
    "#\n",
    "def fit_bomb_data(data,time_start,time_post,time_exp,timestep):\n",
    "    \"\"\"\n",
    "    Function to fit calorimetry curves with three regimes\n",
    "\n",
    "    Input variables:\n",
    "        data = a DataFrame with a 'time' and the SECOND column with temperatures\n",
    "        time_start = skip the first part of the curve\n",
    "        time_post = arbitrary time after the ignition\n",
    "        time_exp = reasonable time to perform the fit of the exponential part\n",
    "        timestep = time interval between collected datapoints\n",
    "\n",
    "    Output:\n",
    "        deltaT_corrected = the temperature jump at the middle of combustion\n",
    "    \"\"\"\n",
    "    time_pre = find_preignition_time(data,time_start,time_post,timestep)\n",
    "    preignition_lr = LinearRegression()\n",
    "    preignition_data = data.query('time > {} and time < {}'.format(time_start,time_pre))\n",
    "    x = preignition_data['time'].values.reshape(-1,1)\n",
    "    y = preignition_data.iloc[:,1].values\n",
    "    preignition_lr.fit(x,y)\n",
    "    temperature_preignition = preignition_lr.predict(np.array([[time_pre]]))[0]\n",
    "    \n",
    "    postignition_lr = LinearRegression()\n",
    "    postignition_data=data.query('time > {} '.format(time_post)).dropna()\n",
    "    x = postignition_data['time'].values.reshape(-1,1)\n",
    "    y = postignition_data.iloc[:,1].values\n",
    "    postignition_lr.fit(x,y)\n",
    "    temperature_postignition = postignition_lr.predict(np.array([[time_post]]))[0]\n",
    "    deltaT = temperature_postignition - temperature_preignition\n",
    "\n",
    "    time_det= time_pre+1/rate\n",
    "    temperature_preignition_corrected = preignition_lr.predict(np.array([[time_det]]))[0]\n",
    "    temperature_postignition_corrected = postignition_lr.predict(np.array([[time_det]]))[0]\n",
    "    deltaT_corrected = temperature_postignition_corrected - temperature_preignition_corrected\n",
    "    return deltaT_corrected\n",
    "\n",
    "def find_preignition_time(data,time_start,time_post,timestep,threshold=0.8):\n",
    "    \"\"\"\n",
    "    Function to identify the pre-ignition time from calorimetry curves\n",
    "\n",
    "    Input variables:\n",
    "        data = a DataFrame with a 'time' and the SECOND column with temperatures\n",
    "        time_start = skip the first part of the curve\n",
    "        time_post = arbitrary time after the ignition\n",
    "        timestep = time interval between collected datapoints\n",
    "        threshold = the score at which we decide the curve deviates from linear (optional)\n",
    "\n",
    "    Output:\n",
    "        preignition_time = the time at which the curve deviates from a linear drift\n",
    "    \"\"\"\n",
    "    times=np.arange(time_start+5*timestep,time_post,timestep)\n",
    "    preignition_lr=LinearRegression()\n",
    "    for time in times:\n",
    "        preignition_data=data.query('time > {} and time < {}'.format(time_start,time))\n",
    "        x=preignition_data['time'].values.reshape(-1,1)\n",
    "        y=preignition_data.iloc[:,1].values\n",
    "        preignition_lr.fit(x,y)\n",
    "        if preignition_lr.score(x,y) < threshold : \n",
    "            preignition_time = time - 10.\n",
    "            break\n",
    "    return preignition_time"
   ]
  },
  {
   "attachments": {},
   "cell_type": "markdown",
   "metadata": {},
   "source": [
    "## Task 1: Calibration {-}"
   ]
  },
  {
   "attachments": {},
   "cell_type": "markdown",
   "metadata": {},
   "source": [
    "In the lab you performed a series of experiments with a known compound for which you know the enthalpy of combustion. You should have analyzed at least three samples of the benzoic acid standard (abbreviated to BA in the following) to determine the standard deviation in your calorimeter constant."
   ]
  },
  {
   "attachments": {},
   "cell_type": "markdown",
   "metadata": {},
   "source": [
    "* Fit the calorimetry curves for the calibration runs and collect the corresponding temperature jumps"
   ]
  },
  {
   "cell_type": "code",
   "execution_count": null,
   "metadata": {},
   "outputs": [],
   "source": [
    "# The following commands will read all the .csv files related to the\n",
    "# calibration runs and will create a DataFrame with all the calorimetry curves \n",
    "# for the different runs\n",
    "#\n",
    "calibration_files=['BA1.csv','BA2.csv','BA3.csv'] # make sure to put the names of your actual files\n",
    "# \n",
    "# this loop will find the longest time in the different runs\n",
    "#\n",
    "maxtime=0\n",
    "for file in calibration_files : \n",
    "    data=pd.read_csv(path+file,usecols=(1,2),names=['temperature','time']).dropna()\n",
    "    time = float(data.loc[len(data.index)-1,'time'])\n",
    "    if time > maxtime : maxtime = time\n",
    "# \n",
    "# now we create the DataFrame with all the experiments\n",
    "#\n",
    "calibration_data=pd.DataFrame({'time':np.arange(0.,maxtime,10.)})\n",
    "for index,file in enumerate(calibration_files) : \n",
    "    calibration_data['run'+str(index)]=pd.read_csv(path+file,usecols=(1,2),names=['temperature','time'])['temperature']"
   ]
  },
  {
   "cell_type": "code",
   "execution_count": null,
   "metadata": {},
   "outputs": [],
   "source": [
    "#\n",
    "# you can now get the temperature jump of one experiment by using the custom-made fit_bomb_data() function\n",
    "#\n",
    "detaT1 = fit_bomb_data(calibration_data[['time','run0']],150,800,600,10)"
   ]
  },
  {
   "attachments": {},
   "cell_type": "markdown",
   "metadata": {},
   "source": [
    "YOUR COMMENTS HERE"
   ]
  },
  {
   "attachments": {},
   "cell_type": "markdown",
   "metadata": {},
   "source": [
    "* Use the measured weights and the molar weight of BA to convert the temperature jumps into estimated calorimeter constants. Use error propagation to estimate the error in each computed constant. You can use the NIST value of $-3228. \\pm 4$ kJ/mol for the enthalpy of combustion value "
   ]
  },
  {
   "cell_type": "code",
   "execution_count": null,
   "metadata": {},
   "outputs": [],
   "source": [
    "# \n",
    "# \n",
    "DeltaH_BA = -3228\n",
    "DeltaH_error = 4"
   ]
  },
  {
   "attachments": {},
   "cell_type": "markdown",
   "metadata": {},
   "source": [
    "YOUR COMMENTS HERE"
   ]
  },
  {
   "attachments": {},
   "cell_type": "markdown",
   "metadata": {},
   "source": [
    "* Determine the best estimate of the calorimeter constant, with error using t-stats, for your instrument."
   ]
  },
  {
   "cell_type": "code",
   "execution_count": null,
   "metadata": {},
   "outputs": [],
   "source": [
    "C=0.\n",
    "C_error=0.\n",
    "print(\"The best estimate for the calorimeter constant is {}\".format(C))\n",
    "print(\"The standard error associated with this estimate is {}\".format(C_error))"
   ]
  },
  {
   "attachments": {},
   "cell_type": "markdown",
   "metadata": {},
   "source": [
    "YOUR COMMENTS HERE"
   ]
  },
  {
   "attachments": {},
   "cell_type": "markdown",
   "metadata": {},
   "source": [
    "## Task 2: Enthalpy of Combustion of 1,4-Cyclohexane Dicarboxylic Acid {-}"
   ]
  },
  {
   "attachments": {},
   "cell_type": "markdown",
   "metadata": {},
   "source": [
    "Your second set of experiments was aimed at collecting the enthalpy of combustion of 1,4-Cyclohexane Dicarboxylic Acid (abbreviated to CHex in the following). "
   ]
  },
  {
   "attachments": {},
   "cell_type": "markdown",
   "metadata": {},
   "source": [
    "* Fit the calorimetry curves to determine the temperature jumps in the experiments.\n",
    "* Using the weights of your samples and the molar weight of CHex, together with the calorimetry constant in the previous step, convert your measures into changes of internal energy."
   ]
  },
  {
   "cell_type": "code",
   "execution_count": null,
   "metadata": {},
   "outputs": [],
   "source": [
    "# you can copy the commands from above"
   ]
  },
  {
   "attachments": {},
   "cell_type": "markdown",
   "metadata": {},
   "source": [
    "YOUR COMMENTS HERE"
   ]
  },
  {
   "attachments": {},
   "cell_type": "markdown",
   "metadata": {},
   "source": [
    "* Convert the internal energy changes into enthalpies and report the best estimate of the combustion enthalpy at $25^{\\circ}$ C for CHex, together with its associated error using t-statistics.\n",
    "* Compare your result with the literature values"
   ]
  },
  {
   "cell_type": "code",
   "execution_count": null,
   "metadata": {},
   "outputs": [],
   "source": [
    "DeltaH_CHex = 0.\n",
    "DeltaH_CHex_error = 0.\n",
    "print(\"The best estimate for the enthalpy of combustion of CHex is {}\".format(DeltaH_CHex))\n",
    "print(\"The standard error associated with this estimate is {}\".format(DeltaH_CHex_error))"
   ]
  },
  {
   "attachments": {},
   "cell_type": "markdown",
   "metadata": {},
   "source": [
    "YOUR COMMENTS HERE"
   ]
  },
  {
   "attachments": {},
   "cell_type": "markdown",
   "metadata": {},
   "source": [
    "## Task 3: Enthalpy of Combustion of Cyclopropane Carboxylic Acid {-}"
   ]
  },
  {
   "attachments": {},
   "cell_type": "markdown",
   "metadata": {},
   "source": [
    "Your last set of experiments was aimed at collecting the enthalpy of combustion of Cyclopropane Carboxylic Acid (abbreviated to CPro in the following). "
   ]
  },
  {
   "attachments": {},
   "cell_type": "markdown",
   "metadata": {},
   "source": [
    "* Fit the calorimetry curves to determine the temperature jumps in the experiments.\n",
    "* Using the weights of your samples and the molar weight of CPro, together with the calorimetry constant in the previous step, convert your measures into changes of internal energy."
   ]
  },
  {
   "cell_type": "code",
   "execution_count": null,
   "metadata": {},
   "outputs": [],
   "source": [
    "# you can copy the commands from above"
   ]
  },
  {
   "attachments": {},
   "cell_type": "markdown",
   "metadata": {},
   "source": [
    "YOUR COMMENTS HERE"
   ]
  },
  {
   "attachments": {},
   "cell_type": "markdown",
   "metadata": {},
   "source": [
    "* Convert the internal energy changes into enthalpies and report the best estimate of the combustion enthalpy at $25^{\\circ}$ C for CPro, together with its associated error using t-statistics.\n",
    "* Compare your result with the literature values"
   ]
  },
  {
   "cell_type": "code",
   "execution_count": null,
   "metadata": {},
   "outputs": [],
   "source": [
    "DeltaH_CPro = 0.\n",
    "DeltaH_CPro_error = 0.\n",
    "print(\"The best estimate for the enthalpy of combustion of CPro is {}\".format(DeltaH_CPro))\n",
    "print(\"The standard error associated with this estimate is {}\".format(DeltaH_CPro_error))"
   ]
  },
  {
   "attachments": {},
   "cell_type": "markdown",
   "metadata": {},
   "source": [
    "YOUR COMMENTS HERE"
   ]
  },
  {
   "attachments": {},
   "cell_type": "markdown",
   "metadata": {},
   "source": [
    "## Task 4: Ring Strain Energy {-}"
   ]
  },
  {
   "attachments": {},
   "cell_type": "markdown",
   "metadata": {},
   "source": [
    "By comparing the two sets of experiments you should be able to estimate how much energy is involved in the formation of small rings. The following questions will only require you to compare results from the steps above."
   ]
  },
  {
   "attachments": {},
   "cell_type": "markdown",
   "metadata": {},
   "source": [
    "* Report a graph for at least one combustion run for both CHex and CPro. These should be placed in the same graph with axes properly labeled. "
   ]
  },
  {
   "cell_type": "code",
   "execution_count": null,
   "metadata": {},
   "outputs": [],
   "source": [
    "# Be creative in your graphs! "
   ]
  },
  {
   "attachments": {},
   "cell_type": "markdown",
   "metadata": {},
   "source": [
    "* Compute your best estimate of the ring strain energy and its associated error.\n",
    "* Compare your value to the same results in the literature with percent error."
   ]
  },
  {
   "cell_type": "code",
   "execution_count": null,
   "metadata": {},
   "outputs": [],
   "source": [
    "RingStrain = 0.\n",
    "RingStrain_error = 0.\n",
    "print(\"The best estimate for the ring strain energy is {}\".format(RingStrain))\n",
    "print(\"The standard error associated with this estimate is {}\".format(RingStrain_error))"
   ]
  },
  {
   "attachments": {},
   "cell_type": "markdown",
   "metadata": {},
   "source": [
    "YOUR COMMENTS HERE"
   ]
  },
  {
   "cell_type": "code",
   "execution_count": null,
   "metadata": {},
   "outputs": [],
   "source": [
    "# This cell is used to allow Google Colab to install the tools to convert the notebook to a pdf file\n",
    "# Un-comment the following lines when you are ready to export the pdf \n",
    "#!apt-get install texlive texlive-xetex texlive-latex-extra pandoc\n",
    "#!pip install pypandoc"
   ]
  },
  {
   "cell_type": "code",
   "execution_count": null,
   "metadata": {},
   "outputs": [],
   "source": [
    "# Use this command to convert the finished worksheet into a pdf \n",
    "# NOTE : you may want to change the path of the file, if you are working in a different folder of the Google Drive\n",
    "#!jupyter nbconvert --no-input --to PDF \"/content/drive/MyDrive/Colab Notebooks/Bomb_Worksheet.ipynb\""
   ]
  }
 ],
 "metadata": {
  "kernelspec": {
   "display_name": "Python 3",
   "language": "python",
   "name": "python3"
  },
  "language_info": {
   "codemirror_mode": {
    "name": "ipython",
    "version": 3
   },
   "file_extension": ".py",
   "mimetype": "text/x-python",
   "name": "python",
   "nbconvert_exporter": "python",
   "pygments_lexer": "ipython3"
  },
  "vscode": {
   "interpreter": {
    "hash": "949777d72b0d2535278d3dc13498b2535136f6dfe0678499012e853ee9abcab1"
   }
  }
 },
 "nbformat": 4,
 "nbformat_minor": 2
}

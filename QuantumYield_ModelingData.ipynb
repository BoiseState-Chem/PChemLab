{
 "cells": [
  {
   "attachments": {},
   "cell_type": "markdown",
   "metadata": {},
   "source": [
    "Dr Oliviero Andreussi, olivieroandreuss@boisestate.edu\n",
    "\n",
    "Boise State University, Department of Chemistry and Biochemistry"
   ]
  },
  {
   "attachments": {},
   "cell_type": "markdown",
   "metadata": {},
   "source": [
    "# Fitting and Data Analysis for the Fluorescence Quantum Yield Experiment {-}    "
   ]
  },
  {
   "attachments": {},
   "cell_type": "markdown",
   "metadata": {},
   "source": [
    "Before we start, let us import the main modules that we will need for this lecture. You may see some new modules in the list below, we will add more details in the right sections."
   ]
  },
  {
   "cell_type": "code",
   "execution_count": null,
   "metadata": {},
   "outputs": [],
   "source": [
    "# @title Notebook Setup { display-mode: \"form\" }\n",
    "# Import the main modules used in this worksheet\n",
    "import numpy as np\n",
    "import matplotlib.pyplot as plt\n",
    "import pandas as pd\n",
    "from sklearn.linear_model import LinearRegression\n",
    "# Load the google drive with your files \n",
    "from google.colab import drive\n",
    "drive.mount('/content/drive')\n",
    "# The following needs to be the path of the folder with all your datafile in .csv format\n",
    "base_path = '/content/drive/MyDrive/'"
   ]
  },
  {
   "cell_type": "code",
   "execution_count": null,
   "metadata": {},
   "outputs": [],
   "source": [
    "# @title Set Local Path { display-mode: \"form\" }\n",
    "# The following needs to be the path of the folder with all your collected data in .csv format\n",
    "local_path=\"Colab Notebooks/QuantumYield_Data/\" # @param {type:\"string\"}\n",
    "path = base_path+local_path"
   ]
  },
  {
   "cell_type": "markdown",
   "metadata": {},
   "source": [
    "## Visualize the Systems"
   ]
  },
  {
   "cell_type": "markdown",
   "metadata": {},
   "source": [
    "The following module needs to be installed on Colab. We won't need it too much for this analysis, but they offer a lot of nice features for chemistry programming. "
   ]
  },
  {
   "cell_type": "code",
   "execution_count": null,
   "metadata": {},
   "outputs": [],
   "source": [
    "# @title Install and load RDKit { display-mode: \"form\" }\n",
    "!pip install rdkit\n",
    "from rdkit import Chem\n",
    "from rdkit.Chem import Draw\n",
    "!pip install cirpy\n",
    "import cirpy"
   ]
  },
  {
   "cell_type": "markdown",
   "metadata": {},
   "source": [
    "In particular we can use them to draw the molecules in our experiments. While for some molecules you can just write their names and RDKit will plot them, for most molecules you will need to provide their SMILE or their CAS numbers. "
   ]
  },
  {
   "cell_type": "code",
   "execution_count": null,
   "metadata": {},
   "outputs": [],
   "source": [
    "# @title Choose the molecule to draw { display-mode: \"form\" }\n",
    "use_smiles = False # @param {type:\"boolean\"}\n",
    "smile = 'COC1=CC2=C(C=CN=C2C=C1)[C@H]([C@@H]3C[C@@H]4CCN3C[C@@H]4C=C)O' # @param {type:\"string\"}\n",
    "name = 'fluorescein' # @param {type:\"string\"}\n",
    "if not use_smiles :\n",
    "    smile=cirpy.resolve( name,'smiles')\n",
    "img = Draw.MolToImage( Chem.MolFromSmiles(smile), size=(150, 150) )\n",
    "display(img)"
   ]
  },
  {
   "cell_type": "markdown",
   "metadata": {},
   "source": [
    "## Load and Visualize the First Experiment"
   ]
  },
  {
   "attachments": {},
   "cell_type": "markdown",
   "metadata": {},
   "source": [
    "We can read the files into a `Pandas.DataFrame` object using the `pd.read_csv()` function. Note that both the emission and absorption files have two columns and the label for the columns are in the second row. The first column contains the wavelenght in nanometers, the second column contains the emission/absorbance of the solution recorded by the spectrometers. However, at the end of the files there are several lines with information on the experiment. When `Pandas` reads these lines it gets confused on the type of data in the columns and on the number of columns. We could clean up the files before processing them or we can help `Pandas` clean up the data. "
   ]
  },
  {
   "cell_type": "code",
   "execution_count": null,
   "metadata": {},
   "outputs": [],
   "source": [
    "# @title Load data from a file { display-mode: \"form\" }\n",
    "file = '2 F.csv' # @param {type:\"string\"}\n",
    "plot = True # @param {type:\"boolean\"}\n",
    "# The header=1 option tells Pandas to find the column names in the second line of the file\n",
    "# The usecols=(0,1) options tells Pandas to only collect the first two columns of data\n",
    "data=pd.read_csv(path+file,header=1,usecols=(0,1))\n",
    "# The data read so far contains strings and strange things at the end of the file\n",
    "# We can clean it by forcing Pandas to convert the strings to numbers\n",
    "# Actual strings will return an error, which Pandas will save as NaN\n",
    "# adding the .dropna() function at the end get rids of these cells\n",
    "data=data.apply(pd.to_numeric,errors='coerce').dropna()\n",
    "data.info()\n",
    "if plot :\n",
    "  data.plot(x='Wavelength (nm)', y=data.columns[1], label=file)\n",
    "  plt.xlabel('Wavelength (nm)',fontsize=14)\n",
    "  plt.ylabel(data.columns[1],fontsize=14)\n",
    "  plt.show()"
   ]
  },
  {
   "attachments": {},
   "cell_type": "markdown",
   "metadata": {},
   "source": [
    "## Normalize the Curve wrt the Highest Peak {-}"
   ]
  },
  {
   "attachments": {},
   "cell_type": "markdown",
   "metadata": {},
   "source": [
    "The units of the plotted spectrum are arbitrary (in this case a.u. means arbitrary units, not atomic units) and it is customable to compare the general shape of spectra by scaling them with respect to their peak of highest intensity. In order to do this, we need to figure out the intensity of the highest peak and divide the spectrum by it. How can we do it with Python?"
   ]
  },
  {
   "cell_type": "markdown",
   "metadata": {},
   "source": [
    "Let's load a data file to work with"
   ]
  },
  {
   "cell_type": "code",
   "execution_count": null,
   "metadata": {},
   "outputs": [],
   "source": [
    "file = 'Stock Q.csv'\n",
    "data=pd.read_csv(path+file,header=1,usecols=(0,1))\n",
    "data=data.apply(pd.to_numeric,errors='coerce').dropna()\n",
    "data.info()"
   ]
  },
  {
   "cell_type": "markdown",
   "metadata": {},
   "source": [
    "and create a new column of data with the scaled intensity defined as the spectrum intensity divided by the maximum value:"
   ]
  },
  {
   "cell_type": "markdown",
   "metadata": {},
   "source": [
    "It may be useful to not only know the value of the maximum intenstiy, but also know the corresponding position of the peak on the horizontal axis, i.e., the value of the wavelength at which the molecule has the maximum fluorescence. In order to find this the process is slightly more convoluted:\n",
    "1. we first find the index of the row at which the 'Intensity (a.u.)' is maximum using the `.idxmax()` method\n",
    "2. we then look up the row that corresponds to that index and pick the value of the corresponding 'Wavelenght (nm)' "
   ]
  },
  {
   "cell_type": "code",
   "execution_count": null,
   "metadata": {},
   "outputs": [],
   "source": [
    "data['Intensity (a.u.)'].idxmax()"
   ]
  },
  {
   "cell_type": "code",
   "execution_count": null,
   "metadata": {},
   "outputs": [],
   "source": [
    "data.loc[data['Intensity (a.u.)'].idxmax(),'Wavelength (nm)']"
   ]
  },
  {
   "attachments": {},
   "cell_type": "markdown",
   "metadata": {},
   "source": [
    "## Integral of a Curve using Numpy {-} "
   ]
  },
  {
   "cell_type": "code",
   "execution_count": null,
   "metadata": {},
   "outputs": [],
   "source": [
    "# @title Integrate the curve within an interval { display-mode: \"form\" }\n",
    "lambda_min = 350 # @param {type:\"integer\"}\n",
    "lambda_max = 632 # @param {type:\"integer\"}\n",
    "file = 'Stock F.csv' # @param {type:\"string\"}\n",
    "plot = True # @param {type:\"boolean\"}\n",
    "emission_data=pd.read_csv(path+file,header=1,usecols=(0,1))\n",
    "emission_data=emission_data.apply(pd.to_numeric,errors='coerce').dropna()\n",
    "if 'Intensity (a.u.)' not in emission_data.columns:\n",
    "    print('The file does not contain the expected column')\n",
    "else:\n",
    "    filterdata = emission_data.query(f'`Wavelength (nm)`>{lambda_min} and `Wavelength (nm)`<{lambda_max}')\n",
    "    x = filterdata['Wavelength (nm)'].values\n",
    "    y = filterdata['Intensity (a.u.)'].values\n",
    "    area =  np.trapz(y,x)\n",
    "if not plot :\n",
    "    print(f'The integral of the spectrum between {lambda_min} nm and {lambda_max} nm is {area :.1f}')\n",
    "else:\n",
    "    ax = emission_data.plot(x='Wavelength (nm)', y=emission_data.columns[1], label=file,legend=False)\n",
    "    plt.xlabel('Wavelength (nm)',fontsize=14)\n",
    "    plt.ylabel('Intensity (a.u.)',fontsize=14)\n",
    "    plt.legend()\n",
    "    plt.text(0.9, 0.8, f'Area: {area:.2f}', fontsize=14, ha='right', va='top', transform=plt.gca().transAxes)\n",
    "    plt.fill_between(x, y, 0, alpha=0.3, color='green', label='Area')  # Filled area \n",
    "    plt.show()"
   ]
  },
  {
   "cell_type": "markdown",
   "metadata": {},
   "source": [
    "## Value of a Curve at a Specific Abscissa "
   ]
  },
  {
   "cell_type": "code",
   "execution_count": null,
   "metadata": {},
   "outputs": [],
   "source": [
    "# @title Find the intensity of a spectrum at a specific wavelength { display-mode: \"form\" }\n",
    "wavelength = 335 # @param {type:\"integer\"}\n",
    "file = '2 F UV.csv' # @param {type:\"string\"}\n",
    "plot = True # @param {type:\"boolean\"}\n",
    "data=pd.read_csv(path+file,header=1,usecols=(0,1))\n",
    "data=data.apply(pd.to_numeric,errors='coerce').dropna()\n",
    "data['Relative Wavelength'] = np.abs(data['Wavelength (nm)'] - wavelength)\n",
    "idx = data['Relative Wavelength'].idxmin()\n",
    "data = data.drop(columns='Relative Wavelength')\n",
    "intensity_value = data.iloc[idx,1]\n",
    "if not plot:\n",
    "    print(f'The intesity at {wavelength} nm is :{intensity_value :.8f}')\n",
    "else:\n",
    "    data.plot(x='Wavelength (nm)', y=data.columns[1], label=file,legend=False)\n",
    "    plt.plot(wavelength,intensity_value,'ro')\n",
    "    plt.axhline(y=intensity_value, color='r', linestyle=':')\n",
    "    plt.axvline(x=wavelength, color='r', linestyle=':')\n",
    "    plt.text(wavelength+10, intensity_value, f'{intensity_value:.6f}', color='red', ha='left', va='bottom',fontsize=12)\n",
    "    plt.xlabel('Wavelength (nm)',fontsize=14)\n",
    "    plt.ylabel('Intensity (a.u.)',fontsize=14)\n",
    "    plt.legend()\n",
    "    plt.show()"
   ]
  }
 ],
 "metadata": {
  "kernelspec": {
   "display_name": "Python 3",
   "language": "python",
   "name": "python3"
  },
  "language_info": {
   "codemirror_mode": {
    "name": "ipython",
    "version": 3
   },
   "file_extension": ".py",
   "mimetype": "text/x-python",
   "name": "python",
   "nbconvert_exporter": "python",
   "pygments_lexer": "ipython3"
  },
  "vscode": {
   "interpreter": {
    "hash": "949777d72b0d2535278d3dc13498b2535136f6dfe0678499012e853ee9abcab1"
   }
  }
 },
 "nbformat": 4,
 "nbformat_minor": 2
}

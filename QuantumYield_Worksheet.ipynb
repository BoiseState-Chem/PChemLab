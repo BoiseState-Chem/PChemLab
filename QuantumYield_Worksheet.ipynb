{
 "cells": [
  {
   "attachments": {},
   "cell_type": "markdown",
   "metadata": {},
   "source": [
    "Student's Name and Email Address\n",
    "\n",
    "Boise State University, Department of Chemistry and Biochemistry"
   ]
  },
  {
   "attachments": {},
   "cell_type": "markdown",
   "metadata": {},
   "source": [
    "## CHEM 324: PChem Lab {-}\n",
    "# Worksheet 7: Fluorescence Quantum Yield {-}"
   ]
  },
  {
   "cell_type": "code",
   "execution_count": null,
   "metadata": {},
   "outputs": [],
   "source": [
    "# Import the main modules used in this worksheet\n",
    "import numpy as np\n",
    "import matplotlib.pyplot as plt\n",
    "import pandas as pd\n",
    "from sklearn.linear_model import LinearRegression"
   ]
  },
  {
   "cell_type": "code",
   "execution_count": null,
   "metadata": {},
   "outputs": [],
   "source": [
    "# I am assuming the file in question will be located in a `Quantumyield_Data/` subfolder in your `Colab Notebook/` folder. \n",
    "# Make sure to change these names if you use different files.\n",
    "# Load the google drive with your files \n",
    "from google.colab import drive\n",
    "drive.mount('/content/drive')\n",
    "# The following needs to be the path of the folder with all your datafile in .csv format\n",
    "path='/content/drive/MyDrive/Colab Notebooks/QuantumYield_Data/'"
   ]
  },
  {
   "attachments": {},
   "cell_type": "markdown",
   "metadata": {},
   "source": [
    "## Task 1: Emission and Excitation Spectra {-}"
   ]
  },
  {
   "attachments": {},
   "cell_type": "markdown",
   "metadata": {},
   "source": [
    "* Visualize the chemical structures of quninine sulfate (CAS 6119-70-6) and fluorescein (CAS 2321-07-5) and comment on why these molecules are fluorophores/dyes.\n",
    "* Plot the emission and excitation spectra for fluorescein and quinine. You will need to present one figure for each molecule, with two spectra per figure. \n",
    "* Report the integrated areas for each spectrum of each molecule.\n",
    "* Explicitly report all the other constants and/or known experimental values that you will need to compute the quantum yield at infinite dilution of fluorescein. "
   ]
  },
  {
   "attachments": {},
   "cell_type": "markdown",
   "metadata": {},
   "source": [
    "## Task 2: Quantum Yield of the Standard {-}"
   ]
  },
  {
   "attachments": {},
   "cell_type": "markdown",
   "metadata": {},
   "source": [
    "The Stern-Volmer equation for self-quenching of solutions allows you to compute the quantum yield of fluorescence from the molar concentration of the dye, $C$, as  \n",
    "\n",
    "$\\frac{\\phi _0}{\\phi _f}=1+14.5\\cdot C$\n",
    "\n",
    "where $\\phi _0$ is the quantum yield at infinite dilution.\n",
    "\n",
    "* Given that for quinine you know $\\phi _0=0.545$, use the Stern-Volmer equation to compute the quantum yield of quinine, $\\phi _f$, at the two concentrations used in the experiments. "
   ]
  },
  {
   "attachments": {},
   "cell_type": "markdown",
   "metadata": {},
   "source": [
    "## Task 3: Quantum yield of the Unknown {-}"
   ]
  },
  {
   "attachments": {},
   "cell_type": "markdown",
   "metadata": {},
   "source": [
    "Although the absolute incident intensity of the radiation is unkonwn, the relative incident intensity between an unknown sample and a standard sample will be the same. The quantum yield of the analyte, fluorescein, can thus be determined by comparing the intesity of fluorescence with the one of quinine. \n",
    "\n",
    "$\\frac{\\phi ^u_f}{\\phi ^s_f}=\\frac{I^u_f\\cdot(1-10^{-A_s})}{I^u_s\\cdot(1-10^{-A_u})}$\n",
    "\n",
    "where $I^{u/s}_f$ is the area under the emission spectrum of the unknown/standard (i.e. fluorescein/quinine), while $A_{s/u}$ is the absorbance if the standard/unknown measured at the excitation wavelength. \n",
    "\n",
    "* Use the formula above and the results from the previous tasks to compute the fluorescence quantum yield of fluorescein at the two concentrations used in the experiments "
   ]
  },
  {
   "attachments": {},
   "cell_type": "markdown",
   "metadata": {},
   "source": [
    "## Task 4: Stern-Volmer Curve for Fluorescein {-}"
   ]
  },
  {
   "attachments": {},
   "cell_type": "markdown",
   "metadata": {},
   "source": [
    "* Perform a linear fit of the fluorescence quantum yield of fluorescein as a function of concentration. From the intercept of your linear fit you should obtain the fluorescence quantum yield at infinite dilution for fluorescein.\n",
    "* Plot the Stern-Volmer curve for fluorescein."
   ]
  }
 ],
 "metadata": {
  "kernelspec": {
   "display_name": "Python 3",
   "language": "python",
   "name": "python3"
  },
  "language_info": {
   "codemirror_mode": {
    "name": "ipython",
    "version": 3
   },
   "file_extension": ".py",
   "mimetype": "text/x-python",
   "name": "python",
   "nbconvert_exporter": "python",
   "pygments_lexer": "ipython3"
  }
 },
 "nbformat": 4,
 "nbformat_minor": 2
}

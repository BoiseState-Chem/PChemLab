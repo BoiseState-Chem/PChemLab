{
 "cells": [
  {
   "attachments": {},
   "cell_type": "markdown",
   "metadata": {},
   "source": [
    "Student's Name and Email Address\n",
    "\n",
    "Boise State University, Department of Chemistry and Biochemistry"
   ]
  },
  {
   "attachments": {},
   "cell_type": "markdown",
   "metadata": {},
   "source": [
    "## CHEM 324: PChem Lab {-}\n",
    "# Worksheet 2: Kinetics of Methylene-Blue RedOx {-}"
   ]
  },
  {
   "cell_type": "code",
   "execution_count": null,
   "metadata": {},
   "outputs": [],
   "source": [
    "# Import the main modules used in this worksheet\n",
    "import numpy as np\n",
    "import matplotlib.pyplot as plt\n",
    "import pandas as pd\n",
    "from sklearn.linear_model import LinearRegression\n",
    "import scipy.optimize"
   ]
  },
  {
   "cell_type": "code",
   "execution_count": null,
   "metadata": {},
   "outputs": [],
   "source": [
    "# Load the google drive with your files \n",
    "from google.colab import drive\n",
    "drive.mount('/content/drive')\n",
    "# The following needs to be the path of the folder with all your collected data in .csv format\n",
    "path='/content/drive/MyDrive/Colab Notebooks/Kinetics_Data/'"
   ]
  },
  {
   "cell_type": "code",
   "execution_count": null,
   "metadata": {},
   "outputs": [],
   "source": [
    "# As a preliminary step, you need to create a .csv file with the important \n",
    "# information on each experiment and the corresponding filename.\n",
    "# You can use the template provided by the instructors, but make sure check\n",
    "# your experimental data and filenames\n",
    "concentration_file='concentrations.csv'"
   ]
  },
  {
   "cell_type": "code",
   "execution_count": null,
   "metadata": {},
   "outputs": [],
   "source": [
    "# The following commands will read all the .csv files and will create a \n",
    "# DataFrame with all the absorbance curves for the different experiments\n",
    "#\n",
    "concentrations=pd.read_csv(path+concentration_file)\n",
    "maxtime = 0.\n",
    "for index,row in concentrations.iterrows() : \n",
    "    data=pd.read_csv(path+row['Filename'],header=1,usecols=(0,1))\n",
    "    data=data.apply(pd.to_numeric,errors='coerce').dropna()\n",
    "    time = data.loc[len(data.index)-1,'Time (sec)']\n",
    "    if time > maxtime : maxtime = time\n",
    "full_data=pd.DataFrame({'time':np.arange(0.25,maxtime,0.5)})\n",
    "for index,row in concentrations.iterrows() : \n",
    "    data=pd.read_csv(path+row['Filename'],header=1,usecols=(0,1))\n",
    "    data=data.apply(pd.to_numeric,errors='coerce').dropna()\n",
    "    full_data['abs'+row['Set']+str(row['Run'])]=data['Abs']"
   ]
  },
  {
   "attachments": {},
   "cell_type": "markdown",
   "metadata": {},
   "source": [
    "## Task 1: Order of the Reaction with Respect to Methylene Blue {-}"
   ]
  },
  {
   "attachments": {},
   "cell_type": "markdown",
   "metadata": {},
   "source": [
    "* Fit the absorbance decay curve for one of the experiments in Set A with three alternative models, each corresponding to a different kinetic order with respect to methylene blue. From the three plots verifies that the model that best describes the kinetics is the first order one. In fitting the three models, you will realize that the very first part of your experiment does not fit well with any of the models. This is because the transient regimes that occurs at the beginning of the experiment as you mix your reactants has a complicated behavior that does involve mass transport in the liquid and does not follow any of the steady-state kinetic models that you have studied. As part of this task, adjust the transient time until at least one of the fits appears reasonable. Report this transient time with your comments and keep it in mind for the later tasks."
   ]
  },
  {
   "attachments": {},
   "cell_type": "markdown",
   "metadata": {},
   "source": [
    "YOUR COMMENTS HERE"
   ]
  },
  {
   "cell_type": "code",
   "execution_count": null,
   "metadata": {},
   "outputs": [],
   "source": [
    "def linear(t, a, k, o):\n",
    "    \"\"\" \n",
    "    Function that returns a linear decaying function that saturates to an offset\n",
    "    f(t) = o + a - k * t (for t < a/k) or o (for t > a/k)\n",
    "\n",
    "    input variables\n",
    "    t: input value (units of time)\n",
    "    a: amplitude (units of absorbance or concentration)\n",
    "    k: decay rate (units of 1/time)\n",
    "    o: offset (units of absorbance or concentration)\n",
    "    \"\"\"\n",
    "    filter = t < a/k\n",
    "    return o + filter * (a - k * t)\n",
    "\n",
    "def exponential(t, a, k, o):\n",
    "    \"\"\" \n",
    "    Function that returns an exponentially decaying function plus offset\n",
    "    f(t) = o + a*e^(-k*t)\n",
    "\n",
    "    input variables\n",
    "    t: input value (units of time)\n",
    "    a: amplitude (units of absorbance or concentration)\n",
    "    k: decay rate (units of 1/time)\n",
    "    o: offset (units of absorbance or concentration)\n",
    "    \"\"\"\n",
    "    return a * np.exp(-k*t) + o\n",
    "\n",
    "def inverse(t, a, k, o):\n",
    "    \"\"\" \n",
    "    Function that returns a inverse decaying function plus offset\n",
    "    f(t) = o + 1/(1/a + 2*k*t) \n",
    "\n",
    "    input variables\n",
    "    t: input value (units of time)\n",
    "    a: amplitude (units of absorbance or concentration)\n",
    "    k: decay rate (units of 1/time)\n",
    "    o: offset (units of absorbance or concentration)\n",
    "    \"\"\"\n",
    "    return o + 1/(1/a+2*k*t)"
   ]
  },
  {
   "cell_type": "code",
   "execution_count": null,
   "metadata": {},
   "outputs": [],
   "source": [
    "trans_time = 50 # transient time\n",
    "end_time=400 # final collection time\n",
    "dataset = 'absA1'\n",
    "x,y=np.split(full_data.query('time > {} and time < {}'.format(trans_time,end_time))[['time',dataset]].dropna().values,2,1)\n",
    "plt.plot(x,y)\n",
    "#\n",
    "# order 0: y(t) = y0 - k * t + offset\n",
    "#\n",
    "p0 = (0.45, 0.002, 0.05)\n",
    "params, cv = scipy.optimize.curve_fit(linear, x.flatten(), y.flatten(), p0)\n",
    "plt.plot(x,linear(x,params[0],params[1],params[2]))\n",
    "#\n",
    "# order 1: y(t) = y0 * exp(-k*t) + offset\n",
    "#\n",
    "p0 = (0.5, 1/85., 0.05)\n",
    "params, cv = scipy.optimize.curve_fit(exponential, x.flatten(), y.flatten(), p0)\n",
    "plt.plot(x,exponential(x,params[0],params[1],params[2]))\n",
    "#\n",
    "# order 2: y(t) = 1 / ( 1/y0 + k*t ) + offset\n",
    "#\n",
    "p0 = (0.5, 1/85., 0.05)\n",
    "params, cv = scipy.optimize.curve_fit(inverse, x.flatten(), y.flatten(), p0)\n",
    "plt.plot(x,inverse(x,params[0],params[1],params[2]))\n",
    "#\n",
    "plt.show()"
   ]
  },
  {
   "attachments": {},
   "cell_type": "markdown",
   "metadata": {},
   "source": [
    "* Describe the model that best fits your experiment, e.g. qualitatively and/or by comparing the $R^2$ coefficients of the different fits. Remember that the coefficient of determination can be computed as $R^2=1-RSS/TSS$, where $RSS$ is the residual sum of squares while $TSS$ is the total sum of squares. Add any additional comment or explanation."
   ]
  },
  {
   "attachments": {},
   "cell_type": "markdown",
   "metadata": {},
   "source": [
    "YOUR COMMENTS HERE"
   ]
  },
  {
   "attachments": {},
   "cell_type": "markdown",
   "metadata": {},
   "source": [
    "* Knowing that methylene blue is the only chemical in the reaction that absorbs at around 665 nm, provide a plausible explanation of the offset observed in the decays of methylene blue."
   ]
  },
  {
   "attachments": {},
   "cell_type": "markdown",
   "metadata": {},
   "source": [
    "YOUR COMMENTS HERE"
   ]
  },
  {
   "attachments": {},
   "cell_type": "markdown",
   "metadata": {},
   "source": [
    "## Task 2: Rate Constant in Flooding Conditions {-}"
   ]
  },
  {
   "attachments": {},
   "cell_type": "markdown",
   "metadata": {},
   "source": [
    "The first set of experiments (Set A) was performed under flooding conditions, i.e. with a much larger pH and concentration of ascorbic acid, [AA], than the concentration of methylene blue, [MB]. Under these conditions, the kinetics is first order in [MB] and the fit using an expontential function plus offset should provide a good estimate of the effective rate constant.\n",
    "* Fit the absorbance decay curves for the experiments. Plot the decay curves together with the fitted curves. Make sure the plots look good and have all the necessary information in them. \n",
    "* Do the effective rate constants that you determine depend on precisely konwing the starting concentration of methylene blue? Why or why not?"
   ]
  },
  {
   "cell_type": "code",
   "execution_count": null,
   "metadata": {},
   "outputs": [],
   "source": [
    "trans_time = 50 # transient time\n",
    "end_time = 400 # final collection time\n",
    "p0 = (0.5, 1/85., 0.05)\n",
    "for index,row in concentrations[concentrations['Set']=='A'].iterrows() : \n",
    "    x,y=np.split(full_data[full_data['time']>80][['time','absA'+str(row['Run'])]].dropna().values,2,1)\n",
    "    params, cv = scipy.optimize.curve_fit(exponential, x.flatten(), y.flatten(), p0)\n",
    "    concentrations.loc[index,'y0']=params[0]\n",
    "    concentrations.loc[index,'y0_sigma']=np.sqrt(cv[0,0])\n",
    "    concentrations.loc[index,'k']=params[1]\n",
    "    concentrations.loc[index,'k_sigma']=np.sqrt(cv[1,1])\n",
    "    concentrations.loc[index,'offset']=params[2]\n",
    "    concentrations.loc[index,'offset_sigma']=np.sqrt(cv[2,2])\n",
    "    full_data['fitA'+str(row['Run'])]=exponential(full_data['time'].values,params[0],params[1],params[2]) \n",
    "plt.semilogy(full_data['time'],full_data['absA1'])\n",
    "plt.semilogy(full_data['time'],full_data['fitA1'])\n",
    "plt.semilogy(full_data['time'],full_data['absA2'])\n",
    "plt.semilogy(full_data['time'],full_data['fitA2'])\n",
    "plt.semilogy(full_data['time'],full_data['absA3'])\n",
    "plt.semilogy(full_data['time'],full_data['fitA3'])\n",
    "plt.semilogy(full_data['time'],full_data['absA4'])\n",
    "plt.semilogy(full_data['time'],full_data['fitA4'])\n",
    "plt.show()"
   ]
  },
  {
   "attachments": {},
   "cell_type": "markdown",
   "metadata": {},
   "source": [
    "YOUR COMMENTS HERE"
   ]
  },
  {
   "attachments": {},
   "cell_type": "markdown",
   "metadata": {},
   "source": [
    "* Report your best estimate for the effective rate constant and try to address these points in your discussion of the results:\n",
    "  * Do your estimates in the four runs have the same accuracy? \n",
    "  * If not, which one is less accurate? Why? "
   ]
  },
  {
   "cell_type": "code",
   "execution_count": null,
   "metadata": {},
   "outputs": [],
   "source": [
    "print(\"The best estimate of the effective decay rate for MB redox under flooding conditions is {} 1/s\".format(0.))\n",
    "print(\"This estimate was obtained under the following conditions: [AA] = {} M and [HCl] = {} M\".format(0.,0.))\n",
    "print(\"The error on the estimated decay rate is {} 1/s\".format(0.0))"
   ]
  },
  {
   "attachments": {},
   "cell_type": "markdown",
   "metadata": {},
   "source": [
    "YOUR COMMENTS HERE"
   ]
  },
  {
   "attachments": {},
   "cell_type": "markdown",
   "metadata": {},
   "source": [
    "## Task 3: Reaction Order with Respect to Ascorbic Acid {-}"
   ]
  },
  {
   "attachments": {},
   "cell_type": "markdown",
   "metadata": {},
   "source": [
    "In the second set of experiments (Set B) you kept $[MB]$ fixed and varied the concentration of ascorbic acid. However, your UV/Vis apparatus is still tracking the behavior of the methylene blue. The effective decay rate of MB will be given by $k_{eff}^B=k[MB]^m[AA]^n[HCl]^p$, where the $[MB]$ and $[HCl]$ terms will be the same in the four runs. By fitting the effective decay rate as a function of $[AA]$ we can determine the reaction order with respect to the second redox compound. "
   ]
  },
  {
   "attachments": {},
   "cell_type": "markdown",
   "metadata": {},
   "source": [
    "* Fit the exponential decays of the different runs and extract the effective decay rates. \n",
    "* Plot the behavior of $\\log(k_{eff}^B)$ vs. $\\log([AA])$, the slope of the plot should provide an estimate for the order $n$ of the reaction vs. [AA]. \n",
    "  * Is the order of the reaction the one you expected? Why or why not?"
   ]
  },
  {
   "cell_type": "code",
   "execution_count": null,
   "metadata": {},
   "outputs": [],
   "source": [
    "trans_time = 0 # transient time\n",
    "end_time = 400 # final collection time\n",
    "p0 = (0.5, 1/85., 0.05)\n",
    "for index,row in concentrations[concentrations['Set']=='B'].iterrows() : \n",
    "    x,y=np.split(full_data[full_data['time']>80][['time','absB'+str(row['Run'])]].dropna().values,2,1)\n",
    "    params, cv = scipy.optimize.curve_fit(exponential, x.flatten(), y.flatten(), p0)\n",
    "    concentrations.loc[index,'y0']=params[0]\n",
    "    concentrations.loc[index,'y0_sigma']=np.sqrt(cv[0,0])\n",
    "    concentrations.loc[index,'k']=params[1]\n",
    "    concentrations.loc[index,'k_sigma']=np.sqrt(cv[1,1])\n",
    "    concentrations.loc[index,'offset']=params[2]\n",
    "    concentrations.loc[index,'offset_sigma']=np.sqrt(cv[2,2])\n",
    "    full_data['fitB'+str(row['Run'])]=exponential(full_data['time'].values,params[0],params[1],params[2])"
   ]
  },
  {
   "cell_type": "code",
   "execution_count": null,
   "metadata": {},
   "outputs": [],
   "source": [
    "x=np.log(concentrations[concentrations['Set']=='B']['AA'].values[:-1].reshape(-1,1))\n",
    "y=np.log(concentrations[concentrations['Set']=='B']['k'].values[:-1])\n",
    "aa_order=LinearRegression()\n",
    "aa_order.fit(x,y)\n",
    "print(\"The order of the reaction with respect to [AA] is {}\".format(aa_order.coef_[0]))\n",
    "plt.plot(x,y,'o')\n",
    "plt.plot(x,aa_order.predict(x))\n",
    "plt.show()"
   ]
  },
  {
   "attachments": {},
   "cell_type": "markdown",
   "metadata": {},
   "source": [
    "YOUR COMMENTS HERE"
   ]
  },
  {
   "attachments": {},
   "cell_type": "markdown",
   "metadata": {},
   "source": [
    "## Task 4: Reaction Order with Respect to pH {-}"
   ]
  },
  {
   "attachments": {},
   "cell_type": "markdown",
   "metadata": {},
   "source": [
    "In the second set of experiments (Set B) you kept $[MB]$ fixed and varied the concentration of HCl, i.e. you changed the pH of the solution. However, your UV/Vis apparatus is still tracking the behavior of the methylene blue. The effective decay rate of MB will be given by $k_{eff}^C=k[MB]^m[AA]^n[HCl]^p$, where the $[MB]$ and $[AA]$ terms will be the same in the four runs. By fitting the effective decay rate as a function of $[HCl]$ or pH we can determine the reaction order with respect to a potential component of the redox reaction. "
   ]
  },
  {
   "attachments": {},
   "cell_type": "markdown",
   "metadata": {},
   "source": [
    "* Fit the exponential decays of the different runs and extract the effective decay rates. \n",
    "* Plot the behavior of $\\log(k_{eff}^C)$ vs. $\\log([HCl])$, the slope of the plot should provide an estimate for the order of the reaction vs. [HCl].\n",
    "  * Is there a clear order of the reaction with respect to [HCl]? What could be the role of pH?"
   ]
  },
  {
   "cell_type": "code",
   "execution_count": null,
   "metadata": {},
   "outputs": [],
   "source": [
    "trans_time = 0 # transient time\n",
    "end_time = 400 # final collection time\n",
    "p0 = (0.5, 1/85., 0.05)\n",
    "for index,row in concentrations[concentrations['Set']=='C'].iterrows() : \n",
    "    x,y=np.split(full_data[full_data['time']>80][['time','absC'+str(row['Run'])]].dropna().values,2,1)\n",
    "    params, cv = scipy.optimize.curve_fit(exponential, x.flatten(), y.flatten(), p0)\n",
    "    concentrations.loc[index,'y0']=params[0]\n",
    "    concentrations.loc[index,'y0_sigma']=np.sqrt(cv[0,0])\n",
    "    concentrations.loc[index,'k']=params[1]\n",
    "    concentrations.loc[index,'k_sigma']=np.sqrt(cv[1,1])\n",
    "    concentrations.loc[index,'offset']=params[2]\n",
    "    concentrations.loc[index,'offset_sigma']=np.sqrt(cv[2,2])\n",
    "    full_data['fitC'+str(row['Run'])]=exponential(full_data['time'].values,params[0],params[1],params[2])"
   ]
  },
  {
   "cell_type": "code",
   "execution_count": null,
   "metadata": {},
   "outputs": [],
   "source": [
    "x=np.log(concentrations[concentrations['Set']=='C']['HCl'].values[:-1].reshape(-1,1))\n",
    "y=np.log(concentrations[concentrations['Set']=='C']['k'].values[:-1])\n",
    "hcl_order=LinearRegression()\n",
    "hcl_order.fit(x,y)\n",
    "print(\"The order of the reaction with respect to [HCl] is {}\".format(hcl_order.coef_[0]))\n",
    "plt.plot(x,y,'o')\n",
    "plt.plot(x,hcl_order.predict(x))\n",
    "plt.show()"
   ]
  },
  {
   "attachments": {},
   "cell_type": "markdown",
   "metadata": {},
   "source": [
    "YOUR COMMENTS HERE"
   ]
  },
  {
   "cell_type": "code",
   "execution_count": null,
   "metadata": {},
   "outputs": [],
   "source": [
    "# This cell is used to allow Google Colab to install the tools to convert the notebook to a pdf file\n",
    "# Un-comment the following lines when you are ready to export the pdf \n",
    "#!apt-get install texlive texlive-xetex texlive-latex-extra pandoc\n",
    "#!pip install pypandoc"
   ]
  },
  {
   "cell_type": "code",
   "execution_count": null,
   "metadata": {},
   "outputs": [],
   "source": [
    "# Use this command to convert the finished worksheet into a pdf \n",
    "# NOTE : you may want to change the path of the file, if you are working in a different folder of the Google Drive\n",
    "#!jupyter nbconvert --no-input --to PDF \"/content/drive/MyDrive/Colab Notebooks/Kinetics_Worksheet.ipynb\""
   ]
  }
 ],
 "metadata": {
  "kernelspec": {
   "display_name": "Python 3",
   "language": "python",
   "name": "python3"
  },
  "language_info": {
   "codemirror_mode": {
    "name": "ipython",
    "version": 3
   },
   "file_extension": ".py",
   "mimetype": "text/x-python",
   "name": "python",
   "nbconvert_exporter": "python",
   "pygments_lexer": "ipython3"
  },
  "vscode": {
   "interpreter": {
    "hash": "949777d72b0d2535278d3dc13498b2535136f6dfe0678499012e853ee9abcab1"
   }
  }
 },
 "nbformat": 4,
 "nbformat_minor": 2
}

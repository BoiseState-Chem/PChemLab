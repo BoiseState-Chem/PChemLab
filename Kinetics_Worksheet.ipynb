{
 "cells": [
  {
   "attachments": {},
   "cell_type": "markdown",
   "metadata": {},
   "source": [
    "Student's Name and Email Address\n",
    "\n",
    "Boise State University, Department of Chemistry and Biochemistry"
   ]
  },
  {
   "attachments": {},
   "cell_type": "markdown",
   "metadata": {},
   "source": [
    "## CHEM 324: PChem Lab {-}\n",
    "# Worksheet 2: Kinetics of Methylene-Blue RedOx {-}"
   ]
  },
  {
   "cell_type": "code",
   "execution_count": null,
   "metadata": {},
   "outputs": [],
   "source": [
    "# @title Notebook Setup { display-mode: \"form\" }\n",
    "# Import the main modules used in this worksheet\n",
    "import numpy as np\n",
    "import matplotlib.pyplot as plt\n",
    "import pandas as pd\n",
    "from sklearn.linear_model import LinearRegression\n",
    "import scipy.optimize\n",
    "import warnings\n",
    "# suppress warnings\n",
    "warnings.filterwarnings('ignore')\n",
    "# Load the google drive with your files \n",
    "from google.colab import drive\n",
    "drive.mount('/content/drive')\n",
    "# The following needs to be the path of the folder with all your datafile in .csv format\n",
    "base_path = '/content/drive/MyDrive/'"
   ]
  },
  {
   "cell_type": "code",
   "execution_count": null,
   "metadata": {},
   "outputs": [],
   "source": [
    "# @title Functions to load the data { display-mode: \"form\" }\n",
    "def load_data_to_file_dict(file_dict):\n",
    "    \"\"\"\n",
    "    Load a uv-vis .csv file. \n",
    "    The format of the file should have two rows of headers and two columns of data (time and absorbance)\n",
    "    The file may have additional information from the instrument saved at the bottom\n",
    "\n",
    "    Input variables:\n",
    "        file_dict : a dictionary with 'path' and 'name' keys corresponding to the file to be loaded\n",
    "    \n",
    "    Action: \n",
    "        Add to file_dict a Pandas DataFrame with two columns: time (in seconds) and absorbance (in input units)   \n",
    "    \"\"\"\n",
    "    data = pd.read_csv(file_dict['path']+file_dict['name'],header=1,usecols=(0,1)).apply(pd.to_numeric,errors='coerce').dropna()\n",
    "    if data.keys()[0] == 'Time (sec)' :\n",
    "        data = data.rename(columns={'Time (sec)':'time'})\n",
    "    elif data.keys()[0] == 'Time (min)' :\n",
    "        data['time'] = data['Time (min)'] * 60\n",
    "        data = data.drop('Time (min)',axis=1)\n",
    "    data = data.rename(columns={'Abs':'absorbance'})\n",
    "    file_dict['data'] = data\n",
    "    return\n",
    "\n",
    "def load_data_to_file_list(file_list):\n",
    "    \"\"\"\n",
    "    Given a list of dictionary files, recursively use load_data_to_file_dict to load the data into each of the dictionaries\n",
    "\n",
    "    Input variables:\n",
    "        file_list : a list of dictionary files, each with 'path' and 'name' keys corresponding to the file to be loaded\n",
    "    \n",
    "    Action: \n",
    "        Add to each file_dict a Pandas DataFrame with two columns: time (in seconds) and temperature (in input units)   \n",
    "    \"\"\"\n",
    "    for f in file_list : \n",
    "        if not ('data' in f): load_data_to_file_dict(f)\n",
    "    return\n",
    "\n",
    "def plot_file_dict(file_dict, semilog=False, with_fit=False):\n",
    "    \"\"\"\n",
    "    Given a dictionary file of a bomb calorimetry experiment, plot temperature vs. time.\n",
    "\n",
    "    Input variables:\n",
    "        file_dict : a dictionary file with 'path' and 'name' keys corresponding to the file to be loaded\n",
    "        semilog : use a logarithmic scale for the absorbance axis\n",
    "        with_fit : plot the fitted curve, if present\n",
    "    \n",
    "    Action: \n",
    "        Plot absorbance vs. time for the selected file \n",
    "    \"\"\"\n",
    "    fig, ax = plt.subplots()\n",
    "    if not ('data' in file_dict): \n",
    "        load_data_to_file_dict(f)\n",
    "    if semilog :\n",
    "        plt.semilogy(file_dict['data']['time'],file_dict['data']['absorbance'],label=file_dict['label'])\n",
    "        if with_fit and 'absorbance_fitted' in file_dict['data'].keys(): \n",
    "            plt.semilogy(file_dict['data']['time'],file_dict['data']['absorbance_fitted'],':',label=file_dict['label']+' fit')\n",
    "    else:\n",
    "        plt.plot(file_dict['data']['time'],file_dict['data']['absorbance'],label=file_dict['label'])\n",
    "        if with_fit and 'absorbance_fitted' in file_dict['data'].keys(): \n",
    "            plt.plot(file_dict['data']['time'],file_dict['data']['absorbance_fitted'],':',label=file_dict['label']+' fit')\n",
    "    plt.xlabel('Time (s)')\n",
    "    plt.ylabel('Absorbance (a.u.)')\n",
    "    plt.legend()\n",
    "    plt.show()\n",
    "\n",
    "def plot_file_list(file_list,key='',value=[''],semilog=False,with_fit=False):\n",
    "    \"\"\"\n",
    "    Given a list of dictionary files, plot absorbance vs. time for each file into the same plot.\n",
    "    If key/value are specified, only plot the files for which the key has the specified value.\n",
    "\n",
    "    Input variables:\n",
    "        file_list : a list of dictionary files, each with 'path' and 'name' keys corresponding to the file to be loaded\n",
    "        key: a string with the name of the key to shortlist the files\n",
    "        value: the value of the key used to select the shortlist of files\n",
    "    \n",
    "    Action: \n",
    "        Plot absorbance vs. time for the selected files  \n",
    "    \"\"\"\n",
    "    if value == '' or key == '':\n",
    "        file_shortlist = file_list\n",
    "    else :\n",
    "        file_shortlist = [f for f in file_list if f[key] in value ]\n",
    "    fig, ax = plt.subplots()\n",
    "    for f in file_shortlist : \n",
    "        if not ('data' in f): \n",
    "            load_data_to_file_dict(f)\n",
    "        if semilog :\n",
    "            plt.semilogy(f['data']['time'],f['data']['absorbance'],label=f['label'])\n",
    "            if with_fit and 'absorbance_fitted' in f['data'].keys(): \n",
    "                plt.semilogy(f['data']['time'],f['data']['absorbance_fitted'],':',label=f['label']+' fit')\n",
    "        else:\n",
    "            plt.plot(f['data']['time'],f['data']['absorbance'],label=f['label'])\n",
    "            if with_fit and 'absorbance_fitted' in f['data'].keys(): \n",
    "                plt.plot(f['data']['time'],f['data']['absorbance_fitted'],':',label=f['label']+' fit')\n",
    "    plt.xlabel('Time (s)')\n",
    "    plt.ylabel('Absorbance (a.u.)')\n",
    "    plt.legend()\n",
    "    plt.show()"
   ]
  },
  {
   "cell_type": "code",
   "execution_count": null,
   "metadata": {},
   "outputs": [],
   "source": [
    "# @title Functions to fit the data { display-mode: \"form\" }\n",
    "def linear(t, a, k, o):\n",
    "    \"\"\" \n",
    "    Function that returns a linear decaying function that saturates to an offset\n",
    "    f(t) = o + a - k * t (for t < a/k) or o (for t > a/k)\n",
    "\n",
    "    input variables\n",
    "    t: input value (units of time)\n",
    "    a: amplitude (units of absorbance or concentration)\n",
    "    k: decay rate (units of 1/time)\n",
    "    o: offset (units of absorbance or concentration)\n",
    "    \"\"\"\n",
    "    filter = t < a/k\n",
    "    return o + filter * (a - k * t)\n",
    "\n",
    "def exponential(t, a, k, o):\n",
    "    \"\"\" \n",
    "    Function that returns an exponentially decaying function plus offset\n",
    "    f(t) = o + a*e^(-k*t)\n",
    "\n",
    "    input variables\n",
    "    t: input value (units of time)\n",
    "    a: amplitude (units of absorbance or concentration)\n",
    "    k: decay rate (units of 1/time)\n",
    "    o: offset (units of absorbance or concentration)\n",
    "    \"\"\"\n",
    "    return a * np.exp(-k*t) + o\n",
    "\n",
    "def inverse(t, a, k, o):\n",
    "    \"\"\" \n",
    "    Function that returns a inverse decaying function plus offset\n",
    "    f(t) = o + 1/(1/a + 2*k*t) \n",
    "\n",
    "    input variables\n",
    "    t: input value (units of time)\n",
    "    a: amplitude (units of absorbance or concentration)\n",
    "    k: decay rate (units of 1/time)\n",
    "    o: offset (units of absorbance or concentration)\n",
    "    \"\"\"\n",
    "    return o + 1/(1/a+2*k*t)\n",
    "\n",
    "# Functions designed for fit the kinetics data\n",
    "def fit_kinetic(file_dict):\n",
    "    \"\"\" \n",
    "    Perform the fit of kinetic decay curves (uv-vis absorption spectra) using non-linear\n",
    "    functions plus offset. \n",
    "\n",
    "    Input parameters: \n",
    "    file_dict: a dictionary with information on the file with the data (path and name) and\n",
    "               adjustable parameters related to the fit:\n",
    "               time_skip : initial transient regime to remove from the fit\n",
    "               order: order of the kinetics to fit (zeroth, first, or second)\n",
    "               MB0, k, offset: starting guess of fitting parameters\n",
    "\n",
    "    Action: \n",
    "           Filter the data by removing the initial time_skip part of the curve\n",
    "           Fit one of three non-linear regimes according to the specified order (linear, exponential, inverse)\n",
    "           Save the optimized values of the parameters and their standard errors in file_dict\n",
    "           Save the fitted curve in the file_dict['data'] DataFrame\n",
    "    \"\"\"   \n",
    "    if not ('data' in file_dict): \n",
    "        load_data_to_file_dict(file_dict)\n",
    "        \n",
    "    filtered_data = file_dict['data'][file_dict['data']['time']>file_dict['time_skip']]\n",
    "    x = filtered_data['time']\n",
    "    y = filtered_data['absorbance']\n",
    "\n",
    "    if file_dict['order'] == 'zeroth' :\n",
    "        funct = linear\n",
    "    elif file_dict['order'] == 'first' :\n",
    "        funct = exponential\n",
    "    elif file_dict['order'] == 'second' :\n",
    "        funct = inverse\n",
    "\n",
    "    p0 = (file_dict['MB0_guess'],file_dict['k_guess'],file_dict['offset_guess'])\n",
    "    params, cv = scipy.optimize.curve_fit(funct,x,y,p0)\n",
    "\n",
    "    file_dict['MB0'] = params[0]\n",
    "    file_dict['MB0_SE'] = np.sqrt(cv[0,0])\n",
    "    file_dict['k'] = params[1]\n",
    "    file_dict['k_SE'] = np.sqrt(cv[1,1])\n",
    "    file_dict['offset'] = params[2] \n",
    "    file_dict['offset_SE'] = np.sqrt(cv[2,2])\n",
    "\n",
    "    file_dict['data']['absorbance_fitted'] = funct(file_dict['data']['time'],params[0],params[1],params[2])\n"
   ]
  },
  {
   "cell_type": "code",
   "execution_count": null,
   "metadata": {},
   "outputs": [],
   "source": [
    "# @title Set Local Path { display-mode: \"form\" }\n",
    "# The following needs to be the path of the folder with all your collected data in .csv format\n",
    "local_path=\"Colab Notebooks/Kinetics_Data/\" # @param {type:\"string\"}\n",
    "path = base_path+local_path"
   ]
  },
  {
   "attachments": {},
   "cell_type": "markdown",
   "metadata": {},
   "source": [
    "## Task 1: Order of the Reaction with Respect to Methylene Blue {-}"
   ]
  },
  {
   "cell_type": "markdown",
   "metadata": {},
   "source": [
    "* Visually inspect each of your curves from the first set of experiments, one by one. In fitting the different kinetic models, you will realize that the very first part of your experiment does not fit well with any of the models. This is because the transient regimes that occurs at the beginning of the experiment as you mix your reactants has a complicated behavior that does involve mass transport in the liquid and does not follow any of the steady-state kinetic models that you have studied. As part of this task, adjust the transient time (`time_skip`) until at least one of the fits appears reasonable. Report this transient time with your comments and keep it in mind for the later tasks. In the process, make sure that the starting values of the parameters used for the non-linear fit are reasonable. You can perform these checks on the Kinetics_ModelingData.ipynb notebook, but make sure to add the appropriate values to the following dictionaries. NOTE: feel free to add more dictionaries, if you performed more than four experiments."
   ]
  },
  {
   "cell_type": "code",
   "execution_count": null,
   "metadata": {},
   "outputs": [],
   "source": [
    "setA_run1 = {'path':path, 'name':'SetARun1.csv', 'label':'Run1', 'set':'A', '[MB]': 0.1, '[AA]': 0.1, '[HCl]': 0.1, 'pH': 1, 'order': 'first', 'MB0_guess': 0.4, 'k_guess': 0.2, 'offset_guess': 0.05, 'time_skip': 50 }\n",
    "setA_run2 = {'path':path, 'name':'SetARun2.csv', 'label':'Run2', 'set':'A', '[MB]': 0.01, '[AA]': 0.1, '[HCl]': 0.1, 'pH': 1, 'order': 'first', 'MB0_guess': 0.4, 'k_guess': 0.2, 'offset_guess': 0.05, 'time_skip': 50 }\n",
    "setA_run3 = {'path':path, 'name':'SetARun3.csv', 'label':'Run3', 'set':'A', '[MB]': 0.001, '[AA]': 0.1, '[HCl]': 0.1, 'pH': 1, 'order': 'first', 'MB0_guess': 0.4, 'k_guess': 0.2, 'offset_guess': 0.05, 'time_skip': 50 }\n",
    "setA_run4 = {'path':path, 'name':'SetARun4.csv', 'label':'Run4', 'set':'A', '[MB]': 0.0001, '[AA]': 0.1, '[HCl]': 0.1, 'pH': 1, 'order': 'first', 'MB0_guess': 0.4, 'k_guess': 0.2, 'offset_guess': 0.05, 'time_skip': 50 }\n",
    "\n",
    "setA_files = [setA_run1, setA_run2, setA_run3, setA_run4]"
   ]
  },
  {
   "attachments": {},
   "cell_type": "markdown",
   "metadata": {},
   "source": [
    "* Fit the absorbance decay curve for one of the experiments in Set A with three alternative models, each corresponding to a different kinetic order with respect to methylene blue. From the three plots verify that the model that best describes the kinetics is the first order one. "
   ]
  },
  {
   "cell_type": "code",
   "execution_count": null,
   "metadata": {},
   "outputs": [],
   "source": [
    "file_dict = setA_run1 # you can choose any run you want here\n",
    "load_data_to_file_dict(file_dict)\n",
    "\n",
    "# Filter the data according to time_skip\n",
    "time_skip = 0\n",
    "filtered_data = file_dict['data'][file_dict['data']['time']>time_skip]\n",
    "x = filtered_data['time']\n",
    "y = filtered_data['absorbance']\n",
    "TSS = np.sum((y-y.mean())**2) # this is the total sum of squares\n",
    "plt.plot(x,y,linewidth=3,label=file_dict['label']) # plot the experimental curve\n",
    "\n",
    "# zero-th order model, linear fit plus offset\n",
    "funct = linear\n",
    "p0 = (0.2,0.001,0.051) # initial guesses for the parameters\n",
    "params, cv = scipy.optimize.curve_fit(funct,x,y,p0)\n",
    "y_fit = funct(x,params[0],params[1],params[2])\n",
    "plt.plot(x,y_fit,label=funct.__name__)\n",
    "RSS = 0. # write here the expression for the residual sum of squares\n",
    "R2 = 1. - RSS / TSS\n",
    "print(f'The R2 for the {funct.__name__} fit is {R2:6.4f}')\n",
    "\n",
    "# first order model, exponential fit plus offset\n",
    "funct = exponential\n",
    "p0 = (0.4,0.1,0.05) # initial guesses for the parameters\n",
    "params, cv = scipy.optimize.curve_fit(funct,x,y,p0)\n",
    "y_fit = funct(x,params[0],params[1],params[2])\n",
    "plt.plot(x,y_fit,label=funct.__name__)\n",
    "RSS = 0. # write here the expression for the residual sum of squares\n",
    "R2 = 1. - RSS / TSS\n",
    "print(f'The R2 for the {funct.__name__} fit is {R2:6.4f}')\n",
    "\n",
    "# second order model, inverse fit plus offset\n",
    "funct = inverse\n",
    "p0 = (0.1,0.01,0.05) # initial guesses for the parameters\n",
    "params, cv = scipy.optimize.curve_fit(funct,x,y,p0)\n",
    "y_fit = funct(x,params[0],params[1],params[2])\n",
    "plt.plot(x,y_fit,label=funct.__name__)\n",
    "RSS = 0. # write here the expression for the residual sum of squares\n",
    "R2 = 1. - RSS / TSS\n",
    "print(f'The R2 for the {funct.__name__} fit is {R2:6.4f}')\n",
    "\n",
    "plt.legend()\n",
    "plt.xlabel('Time (s)')\n",
    "plt.ylabel('Absorbance (a.u.)')\n",
    "plt.show()"
   ]
  },
  {
   "attachments": {},
   "cell_type": "markdown",
   "metadata": {},
   "source": [
    "* Describe the model that best fits your experiment, e.g. qualitatively and/or by comparing the $R^2$ coefficients of the different fits. Remember that the coefficient of determination can be computed as $R^2=1-RSS/TSS$, where $$RSS = \\sum_i (y_i^{fit} - y_i)^2$$ is the residual sum of squares while $$TSS=\\sum_i (y_i - \\bar{y})^2$$ is the total sum of squares. Add any additional comment or explanation."
   ]
  },
  {
   "attachments": {},
   "cell_type": "markdown",
   "metadata": {},
   "source": [
    "YOUR COMMENTS HERE"
   ]
  },
  {
   "attachments": {},
   "cell_type": "markdown",
   "metadata": {},
   "source": [
    "* Knowing that methylene blue is the only chemical in the reaction that absorbs at around 665 nm, provide a plausible explanation of the offset observed in the decays of methylene blue."
   ]
  },
  {
   "attachments": {},
   "cell_type": "markdown",
   "metadata": {},
   "source": [
    "YOUR COMMENTS HERE"
   ]
  },
  {
   "attachments": {},
   "cell_type": "markdown",
   "metadata": {},
   "source": [
    "## Task 2: Rate Constant in Flooding Conditions {-}"
   ]
  },
  {
   "attachments": {},
   "cell_type": "markdown",
   "metadata": {},
   "source": [
    "The first set of experiments (Set A) was performed under flooding conditions, i.e. with a much larger pH and concentration of ascorbic acid, [AA], than the concentration of methylene blue, [MB]. Under these conditions, the kinetics is first order in [MB] and the fit using an expontential function plus offset should provide a good estimate of the effective decay rate.\n",
    "* Fit the absorbance decay curves for the experiments. Plot the decay curves together with the fitted curves. "
   ]
  },
  {
   "cell_type": "code",
   "execution_count": null,
   "metadata": {},
   "outputs": [],
   "source": [
    "for file in setA_files:\n",
    "    fit_kinetic(file)"
   ]
  },
  {
   "cell_type": "markdown",
   "metadata": {},
   "source": [
    "For plotting, you can use the utilities provided with this notebook: \n",
    "* `plot_file_dict()` allows you to plot directly one of the experiments by passing its file dictionary. You can specify if you want a semilog or a linear scale for the y axis. You can also choose to add the fitted curve together with the experimental one (provided you have run the fit). \n",
    "* `plot_file_list()` takes a list of files in input and allows you to plot all the files in the set at once. You can select a subset of files by specifying a key and the corresponding value. \n",
    "\n",
    "If you want to modify the appearance of these plots, you may need to change the functions definitions or generate the plots by yourself."
   ]
  },
  {
   "cell_type": "code",
   "execution_count": null,
   "metadata": {},
   "outputs": [],
   "source": [
    "plot_file_dict(setA_run1,semilog=False,with_fit=True)"
   ]
  },
  {
   "cell_type": "code",
   "execution_count": null,
   "metadata": {},
   "outputs": [],
   "source": [
    "plot_file_list(setA_files,semilog=True,with_fit=True)"
   ]
  },
  {
   "cell_type": "markdown",
   "metadata": {},
   "source": [
    "* Report a table with the fitted values of the decay rate for each run, together with the relevant information about the experiment. You can generate this table easily from the list of files, by converting it into a `Pandas.DataFrame`. You can then select the subset of columns you need to report and print them as a markdown table (or in any other format you like). The following command shows you how to select some of the relevant columns (you can add others). "
   ]
  },
  {
   "cell_type": "code",
   "execution_count": null,
   "metadata": {},
   "outputs": [],
   "source": [
    "setA_data = pd.DataFrame(setA_files)\n",
    "print(setA_data[['label','[MB]','k','k_SE']].to_markdown(index=False))"
   ]
  },
  {
   "cell_type": "markdown",
   "metadata": {},
   "source": [
    "You can copy and past the output above into a markdown cell. NOTE: make sure you manually adjust the final table to clean column labels, to add units, to fix the number of figures of the reported numbers, etc. "
   ]
  },
  {
   "cell_type": "markdown",
   "metadata": {},
   "source": [
    "| label   |   [MB] |         k |        k_SE |\n",
    "|:--------|-------:|----------:|------------:|\n",
    "| Run1    | 0.1    | 0.0276214 | 2.63169e-05 |\n",
    "| Run2    | 0.01   | 0.0256007 | 2.28666e-05 |\n",
    "| Run3    | 0.001  | 0.0280396 | 2.84479e-05 |\n",
    "| Run4    | 0.0001 | 0.0294602 | 4.88656e-05 |"
   ]
  },
  {
   "cell_type": "markdown",
   "metadata": {},
   "source": [
    "* Do the effective decay rates that you determine depend on precisely konwing the starting concentration of methylene blue? Why or why not?"
   ]
  },
  {
   "attachments": {},
   "cell_type": "markdown",
   "metadata": {},
   "source": [
    "YOUR COMMENTS HERE"
   ]
  },
  {
   "attachments": {},
   "cell_type": "markdown",
   "metadata": {},
   "source": [
    "* Compute and report your best estimate for the effective decay rate and try to address these points in your discussion of the results:\n",
    "  * Do your estimates in the four runs have the same accuracy? \n",
    "  * If not, which one is less accurate? Why? "
   ]
  },
  {
   "cell_type": "code",
   "execution_count": null,
   "metadata": {},
   "outputs": [],
   "source": [
    "print(f\"The best estimate of the effective decay rate for MB redox under flooding conditions is {0.0} 1/s\")\n",
    "print(f\"This estimate was obtained under the following conditions: [AA] = {0.0} M and [HCl] = {0.0} M\")\n",
    "print(f\"The 95% confidence interval on the estimated decay rate is {0.0} 1/s\")"
   ]
  },
  {
   "attachments": {},
   "cell_type": "markdown",
   "metadata": {},
   "source": [
    "YOUR COMMENTS HERE"
   ]
  },
  {
   "attachments": {},
   "cell_type": "markdown",
   "metadata": {},
   "source": [
    "## Task 3: Reaction Order with Respect to Ascorbic Acid {-}"
   ]
  },
  {
   "attachments": {},
   "cell_type": "markdown",
   "metadata": {},
   "source": [
    "In the second set of experiments (Set B) you kept $[MB]$ fixed and varied the concentration of ascorbic acid. However, your UV/Vis apparatus is still tracking the behavior of the methylene blue. The effective decay rate of MB will be given by $k_{eff}^B=k[MB]^m[AA]^n[H^+]^p$, where the $[MB]$ and $[H^+]$ terms will be the same in the four runs. By fitting the effective decay rate as a function of $[AA]$ we can determine the reaction order with respect to the second redox compound. "
   ]
  },
  {
   "cell_type": "markdown",
   "metadata": {},
   "source": [
    "* Manually inspect each of your files, one by one, and adjust the transient time (`time_skip`), the order of the fit, and the initial guesses of the fit parameters. Report the correct values in the dictionaries below for each of your runs. NOTE: you can add more dictionaries if you performed more than four experiments in this set."
   ]
  },
  {
   "cell_type": "code",
   "execution_count": null,
   "metadata": {},
   "outputs": [],
   "source": [
    "setB_run1 = {'path':path, 'name':'SetBRun1.csv', 'label':'Run1', 'set':'B', '[MB]': 0.1, '[AA]': 0.1, '[HCl]': 0.1, 'pH': 1, 'order': 'first', 'MB0_guess': 0.4, 'k_guess': 0.2, 'offset_guess': 0.05, 'time_skip': 50 }\n",
    "setB_run2 = {'path':path, 'name':'SetBRun2.csv', 'label':'Run2', 'set':'B', '[MB]': 0.1, '[AA]': 0.01, '[HCl]': 0.1, 'pH': 1, 'order': 'first', 'MB0_guess': 0.4, 'k_guess': 0.2, 'offset_guess': 0.05, 'time_skip': 50 }\n",
    "setB_run3 = {'path':path, 'name':'SetBRun3.csv', 'label':'Run3', 'set':'B', '[MB]': 0.1, '[AA]': 0.001, '[HCl]': 0.1, 'pH': 1, 'order': 'first', 'MB0_guess': 0.4, 'k_guess': 0.001, 'offset_guess': 0.05, 'time_skip': 100 }\n",
    "setB_run4 = {'path':path, 'name':'SetBRun4.csv', 'label':'Run4', 'set':'B', '[MB]': 0.1, '[AA]': 0.000, '[HCl]': 0.1, 'pH': 1, 'order': 'first', 'MB0_guess': 0.4, 'k_guess': 0.2, 'offset_guess': 0.05, 'time_skip': 50 }\n",
    "\n",
    "setB_files = [setB_run1, setB_run2, setB_run3, setB_run4]"
   ]
  },
  {
   "attachments": {},
   "cell_type": "markdown",
   "metadata": {},
   "source": [
    "* Fit the exponential decays of the different runs and extract the effective decay rates. Report your experimental curves with their corresponding fits."
   ]
  },
  {
   "cell_type": "code",
   "execution_count": null,
   "metadata": {},
   "outputs": [],
   "source": [
    "for file in setB_files:\n",
    "    fit_kinetic(file)"
   ]
  },
  {
   "cell_type": "code",
   "execution_count": null,
   "metadata": {},
   "outputs": [],
   "source": [
    "plot_file_list(setB_files,semilog=True,with_fit=True)"
   ]
  },
  {
   "cell_type": "markdown",
   "metadata": {},
   "source": [
    "* Report a table with the fitted values of the decay rate for each run, together with the relevant information about the experiment. You can generate this table easily from the list of files, by converting it into a `Pandas.DataFrame`. You can then select the subset of columns you need to report and print them as a markdown table (or in any other format you like). The following command shows you how to select some of the relevant columns (you can add others). NOTE: also in this case, make sure you adjust the final table so that it has clean labels, units, currect number of significant figures, etc. "
   ]
  },
  {
   "cell_type": "code",
   "execution_count": null,
   "metadata": {},
   "outputs": [],
   "source": [
    "setB_data = pd.DataFrame(setB_files)\n",
    "print(setB_data[['label','[AA]','k','k_SE']].to_markdown(index=False))"
   ]
  },
  {
   "cell_type": "markdown",
   "metadata": {},
   "source": [
    "| label   |   [AA] |       k_fit |          k_SE |\n",
    "|:--------|-------:|------------:|--------------:|\n",
    "| Run1    |  0.1   |   0.0357727 |   9.03933e-06 |\n",
    "| Run2    |  0.01  |   0.0279188 |   1.8088e-05  |\n",
    "| Run3    |  0.001 |   0.0131579 |   1.54417e-05 |\n",
    "| Run4    |  0     | 144.173     | inf           |"
   ]
  },
  {
   "cell_type": "markdown",
   "metadata": {},
   "source": [
    "* Plot the behavior of $\\log(k_{eff}^B)$ vs. $\\log([AA])$, and fit it with a linear regression model. NOTE: we need to skip the run with no ascorbic acid. The slope of the plot should provide an estimate for the order $n$ of the reaction wrt [AA]. \n",
    "  * Is the order of the reaction the one you expected? Why or why not?"
   ]
  },
  {
   "cell_type": "code",
   "execution_count": null,
   "metadata": {},
   "outputs": [],
   "source": [
    "# skip the point with [AA] = 0 (its log() is not defined)\n",
    "filtered_data = setB_data[setB_data['[AA]']>0.]\n",
    "#\n",
    "x=np.log(filtered_data['[AA]'].values.reshape(-1,1))\n",
    "y=np.log(filtered_data['k'].values)\n",
    "aa_order=LinearRegression()\n",
    "aa_order.fit(x,y)\n",
    "print(\"The order of the reaction with respect to [AA] is {}\".format(aa_order.coef_[0]))\n",
    "plt.plot(x,y,'o')\n",
    "plt.plot(x,aa_order.predict(x))\n",
    "plt.xlabel('$\\log{[AA]}$')\n",
    "plt.ylabel('$\\log{k^{eff}}$')\n",
    "plt.show()"
   ]
  },
  {
   "attachments": {},
   "cell_type": "markdown",
   "metadata": {},
   "source": [
    "YOUR COMMENTS HERE"
   ]
  },
  {
   "attachments": {},
   "cell_type": "markdown",
   "metadata": {},
   "source": [
    "## Task 4: Reaction Order with Respect to pH {-}"
   ]
  },
  {
   "attachments": {},
   "cell_type": "markdown",
   "metadata": {},
   "source": [
    "In the second set of experiments (Set B) you kept $[MB]$ fixed and varied the concentration of HCl, i.e. you changed the pH of the solution. However, your UV/Vis apparatus is still tracking the behavior of the methylene blue. The effective decay rate of MB will be given by $k_{eff}^C=k[MB]^m[AA]^n[H^+]^p$, where the $[MB]$ and $[AA]$ terms will be the same in the four runs. By fitting the effective decay rate as a function of $[H^+]$ or pH we can determine the reaction order with respect to a potential component of the redox reaction. "
   ]
  },
  {
   "cell_type": "markdown",
   "metadata": {},
   "source": [
    "* Manually inspect each of your files, one by one, and adjust the transient time (`time_skip`), the order of the fit, and the initial guesses of the fit parameters. Report the correct values in the dictionaries below for each of your runs. NOTE: you can add more dictionaries if you performed more than four experiments in this set. **For this task you will need to compute the $pH$ of your experiments and add the correct values to the dictionaries.**"
   ]
  },
  {
   "cell_type": "code",
   "execution_count": null,
   "metadata": {},
   "outputs": [],
   "source": [
    "setC_run1 = {'path':path, 'name':'SetCRun1.csv', 'label':'Run1', 'set':'C', '[MB]': 0.1, '[AA]': 0.1, '[HCl]': 0.1, 'pH': 1, 'order': 'first', 'MB0_guess': 0.4, 'k_guess': 0.2, 'offset_guess': 0.05, 'time_skip': 50 }\n",
    "setC_run2 = {'path':path, 'name':'SetCRun2.csv', 'label':'Run2', 'set':'C', '[MB]': 0.1, '[AA]': 0.1, '[HCl]': 0.01, 'pH': 2, 'order': 'first', 'MB0_guess': 0.4, 'k_guess': 0.2, 'offset_guess': 0.05, 'time_skip': 50 }\n",
    "setC_run3 = {'path':path, 'name':'SetCRun3.csv', 'label':'Run3', 'set':'C', '[MB]': 0.1, '[AA]': 0.1, '[HCl]': 0.001, 'pH': 3, 'order': 'first', 'MB0_guess': 0.4, 'k_guess': 0.2, 'offset_guess': 0.05, 'time_skip': 50 }\n",
    "setC_run4 = {'path':path, 'name':'SetCRun4.csv', 'label':'Run4', 'set':'C', '[MB]': 0.1, '[AA]': 0.1, '[HCl]': 0.0, 'pH': 4, 'order': 'first', 'MB0_guess': 0.4, 'k_guess': 0.2, 'offset_guess': 0.05, 'time_skip': 50 }\n",
    "\n",
    "setC_files = [setC_run1, setC_run2, setC_run3, setC_run4]"
   ]
  },
  {
   "attachments": {},
   "cell_type": "markdown",
   "metadata": {},
   "source": [
    "* Fit the exponential decays of the different runs and extract the effective decay rates. "
   ]
  },
  {
   "cell_type": "code",
   "execution_count": null,
   "metadata": {},
   "outputs": [],
   "source": [
    "for file in setC_files:\n",
    "    fit_kinetic(file)"
   ]
  },
  {
   "cell_type": "markdown",
   "metadata": {},
   "source": [
    "* Report a table with the fitted values of the decay rate for each run, together with the relevant information about the experiment. You can generate this table easily from the list of files, by converting it into a `Pandas.DataFrame`. You can then select the subset of columns you need to report and print them as a markdown table (or in any other format you like). The following command shows you how to select some of the relevant columns (you can add others). NOTE: also in this case, make sure you adjust the final table so that it has clean labels, units, currect number of significant figures, etc. "
   ]
  },
  {
   "cell_type": "code",
   "execution_count": null,
   "metadata": {},
   "outputs": [],
   "source": [
    "setC_data = pd.DataFrame(setC_files)\n",
    "print(setC_data[['label','[HCl]','[AA]','pH','k','k_SE']].to_markdown(index=False))"
   ]
  },
  {
   "cell_type": "markdown",
   "metadata": {},
   "source": [
    "| label   |   [HCl] |   [AA] |   pH |          k |        k_SE |\n",
    "|:--------|--------:|-------:|-----:|-----------:|------------:|\n",
    "| Run1    |   0.1   |    0.1 |    1 | 0.0363349  | 2.58731e-05 |\n",
    "| Run2    |   0.01  |    0.1 |    2 | 0.0225728  | 1.11192e-05 |\n",
    "| Run3    |   0.001 |    0.1 |    3 | 0.0362645  | 0.000136833 |\n",
    "| Run4    |   0     |    0.1 |    4 | 0.00145945 | 3.72351e-06 |"
   ]
  },
  {
   "cell_type": "markdown",
   "metadata": {},
   "source": [
    "* Plot the behavior of $\\log(k_{eff}^C)$ vs. $pH$, the slope of the plot should provide an estimate for the order of the reaction wrt the concentration of protons in solution.\n",
    "  * Is there a clear order of the reaction with respect to $pH$? What could be the role of pH?"
   ]
  },
  {
   "cell_type": "code",
   "execution_count": null,
   "metadata": {},
   "outputs": [],
   "source": [
    "x=setC_data['pH'].values.reshape(-1,1)\n",
    "y=np.log(setC_data['k'].values)\n",
    "pH_order=LinearRegression()\n",
    "pH_order.fit(x,y)\n",
    "print(\"The order of the reaction with respect to pH is {}\".format(pH_order.coef_[0]))\n",
    "plt.plot(x,y,'o')\n",
    "plt.plot(x,pH_order.predict(x))\n",
    "plt.xlabel('$pH$')\n",
    "plt.ylabel('$\\log{k^{eff}}$')\n",
    "plt.show()"
   ]
  },
  {
   "attachments": {},
   "cell_type": "markdown",
   "metadata": {},
   "source": [
    "YOUR COMMENTS HERE"
   ]
  },
  {
   "cell_type": "code",
   "execution_count": null,
   "metadata": {},
   "outputs": [],
   "source": [
    "# This cell is used to allow Google Colab to install the tools to convert the notebook to a pdf file\n",
    "# Un-comment the following lines when you are ready to export the pdf \n",
    "#!apt-get install texlive texlive-xetex texlive-latex-extra pandoc\n",
    "#!pip install pypandoc"
   ]
  },
  {
   "cell_type": "code",
   "execution_count": null,
   "metadata": {},
   "outputs": [],
   "source": [
    "# Use this command to convert the finished worksheet into a pdf \n",
    "# NOTE : you may want to change the path of the file, if you are working in a different folder of the Google Drive\n",
    "#!jupyter nbconvert --no-input --to PDF \"/content/drive/MyDrive/Colab Notebooks/Kinetics_Worksheet.ipynb\""
   ]
  }
 ],
 "metadata": {
  "kernelspec": {
   "display_name": "Python 3",
   "language": "python",
   "name": "python3"
  },
  "language_info": {
   "codemirror_mode": {
    "name": "ipython",
    "version": 3
   },
   "file_extension": ".py",
   "mimetype": "text/x-python",
   "name": "python",
   "nbconvert_exporter": "python",
   "pygments_lexer": "ipython3"
  },
  "vscode": {
   "interpreter": {
    "hash": "949777d72b0d2535278d3dc13498b2535136f6dfe0678499012e853ee9abcab1"
   }
  }
 },
 "nbformat": 4,
 "nbformat_minor": 2
}

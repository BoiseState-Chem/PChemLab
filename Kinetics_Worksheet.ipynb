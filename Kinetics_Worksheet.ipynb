{
 "cells": [
  {
   "attachments": {},
   "cell_type": "markdown",
   "metadata": {},
   "source": [
    "Student's Name and Email Address\n",
    "\n",
    "Boise State University, Department of Chemistry and Biochemistry"
   ]
  },
  {
   "attachments": {},
   "cell_type": "markdown",
   "metadata": {},
   "source": [
    "## CHEM 324: PChem Lab\n",
    "# Worksheet 2: Kinetics of Methylene-Blue RedOx"
   ]
  },
  {
   "cell_type": "code",
   "execution_count": null,
   "metadata": {},
   "outputs": [],
   "source": [
    "# Import the main modules used in this worksheet\n",
    "import numpy as np\n",
    "import matplotlib.pyplot as plt\n",
    "import pandas as pd\n",
    "from sklearn.linear_model import LinearRegression\n",
    "import scipy.optimize"
   ]
  },
  {
   "cell_type": "code",
   "execution_count": null,
   "metadata": {},
   "outputs": [],
   "source": [
    "# Load the google drive with your files \n",
    "from google.colab import drive\n",
    "drive.mount('/content/drive')\n",
    "# The following needs to be the path of the folder with all your collected data in .csv format\n",
    "path='/content/drive/MyDrive/Colab Notebooks/Kinetics_Data/'\n",
    "path='Kinetics_Data/'"
   ]
  },
  {
   "cell_type": "code",
   "execution_count": null,
   "metadata": {},
   "outputs": [],
   "source": [
    "# As a preliminary step, you need to create a .csv file with the important \n",
    "# information on each experiment and the corresponding filename.\n",
    "# You can use the template provided by the instructors, but make sure check\n",
    "# your experimental data and filenames\n",
    "concentration_file='concentrations.csv'"
   ]
  },
  {
   "cell_type": "code",
   "execution_count": null,
   "metadata": {},
   "outputs": [],
   "source": [
    "# The following commands will read all the .csv files and will create a \n",
    "# DataFrame with all the absorbance curves for the different experiments\n",
    "#\n",
    "concentrations=pd.read_csv(path+concentration_file)\n",
    "maxtime = 0.\n",
    "for index,row in concentrations.iterrows() : \n",
    "    data=pd.read_csv(path+row['Filename'],header=1,usecols=(0,1))\n",
    "    data=data.apply(pd.to_numeric,errors='coerce').dropna()\n",
    "    time = data.loc[len(data.index)-1,'Time (sec)']\n",
    "    if time > maxtime : maxtime = time\n",
    "full_data=pd.DataFrame({'time':np.arange(0.25,maxtime,0.5)})\n",
    "for index,row in concentrations.iterrows() : \n",
    "    data=pd.read_csv(path+row['Filename'],header=1,usecols=(0,1))\n",
    "    data=data.apply(pd.to_numeric,errors='coerce').dropna()\n",
    "    full_data['abs'+row['Set']+str(row['Run'])]=data['Abs']"
   ]
  },
  {
   "attachments": {},
   "cell_type": "markdown",
   "metadata": {},
   "source": [
    "### Task 1: Reaction Order with Respect to Methylene-Blue"
   ]
  },
  {
   "attachments": {},
   "cell_type": "markdown",
   "metadata": {},
   "source": [
    "Based on your analyses, is the order with respect to methylene blue first or second? What evidence do you have for this finding?"
   ]
  },
  {
   "cell_type": "markdown",
   "metadata": {},
   "source": [
    "## Task 2: EFfect of initial of [MB] on rate constant"
   ]
  },
  {
   "cell_type": "code",
   "execution_count": null,
   "metadata": {},
   "outputs": [],
   "source": [
    "full_data"
   ]
  },
  {
   "cell_type": "code",
   "execution_count": null,
   "metadata": {},
   "outputs": [],
   "source": [
    "plt.plot(full_data['time'],full_data['absA1'])\n",
    "plt.plot(full_data['time'],full_data['absA2'])\n",
    "plt.plot(full_data['time'],full_data['absA3'])\n",
    "plt.plot(full_data['time'],full_data['absA4'])"
   ]
  },
  {
   "cell_type": "code",
   "execution_count": null,
   "metadata": {},
   "outputs": [],
   "source": [
    "plt.semilogy(full_data['time'],full_data['absA1'])\n",
    "plt.semilogy(full_data['time'],full_data['absA2'])\n",
    "plt.semilogy(full_data['time'],full_data['absA3'])\n",
    "plt.semilogy(full_data['time'],full_data['absA4'])"
   ]
  },
  {
   "cell_type": "code",
   "execution_count": null,
   "metadata": {},
   "outputs": [],
   "source": [
    "def monoExp(x, m, t, b):\n",
    "    return m * np.exp(-x/t) + b\n",
    "def biExp(x, m1, t1, m2, t2, b):\n",
    "    return m1 * np.exp(-x/t1) + m2 * np.exp(-x/t2) + b"
   ]
  },
  {
   "cell_type": "code",
   "execution_count": null,
   "metadata": {},
   "outputs": [],
   "source": [
    "x,y=np.split(full_data[full_data['time']>0][['time','abs'+'A'+'1']].dropna().values,2,1)"
   ]
  },
  {
   "cell_type": "code",
   "execution_count": null,
   "metadata": {},
   "outputs": [],
   "source": [
    "p0 = (1., 45., 0.05)\n",
    "params, cv = scipy.optimize.curve_fit(monoExp, x.flatten(), y.flatten(), p0)\n",
    "params"
   ]
  },
  {
   "cell_type": "code",
   "execution_count": null,
   "metadata": {},
   "outputs": [],
   "source": [
    "p0 = (1., 45., 0.05)\n",
    "for index,row in concentrations.iterrows() : \n",
    "    x,y=np.split(full_data[full_data['time']>80][['time','abs'+row['Set']+str(row['Run'])]].dropna().values,2,1)\n",
    "    params, cv = scipy.optimize.curve_fit(monoExp, x.flatten(), y.flatten(), p0)\n",
    "    concentrations.loc[index,'scale']=params[0]\n",
    "    concentrations.loc[index,'scale_sigma']=np.sqrt(cv[0,0])\n",
    "    concentrations.loc[index,'k']=1./params[1]\n",
    "    concentrations.loc[index,'k_sigma']=1./params[1]**2*np.sqrt(cv[1,1])\n",
    "    concentrations.loc[index,'base']=params[2]\n",
    "    concentrations.loc[index,'base_sigma']=cv[2,2]\n",
    "    full_data['fit'+row['Set']+str(row['Run'])]=monoExp(full_data['time'].values,params[0],params[1],params[2]) \n"
   ]
  },
  {
   "cell_type": "code",
   "execution_count": null,
   "metadata": {},
   "outputs": [],
   "source": [
    "concentrations['k']"
   ]
  },
  {
   "cell_type": "code",
   "execution_count": null,
   "metadata": {},
   "outputs": [],
   "source": [
    "p0 = (1., 45., 0.05)\n",
    "for index,row in concentrations.iterrows() : \n",
    "    x,y=np.split(full_data[full_data['time']>50][['time','abs'+row['Set']+str(row['Run'])]].dropna().values,2,1)\n",
    "    params, cv = scipy.optimize.curve_fit(monoExp, x.flatten(), y.flatten(), p0)\n",
    "    concentrations.loc[index,'scale']=params[0]\n",
    "    concentrations.loc[index,'scale_sigma']=np.sqrt(cv[0,0])\n",
    "    concentrations.loc[index,'k']=1./params[1]\n",
    "    concentrations.loc[index,'k_sigma']=1./params[1]**2*np.sqrt(cv[1,1])\n",
    "    concentrations.loc[index,'base']=params[2]\n",
    "    concentrations.loc[index,'base_sigma']=cv[2,2]\n",
    "    full_data['fit'+row['Set']+str(row['Run'])]=monoExp(full_data['time'].values,params[0],params[1],params[2]) "
   ]
  },
  {
   "cell_type": "code",
   "execution_count": null,
   "metadata": {},
   "outputs": [],
   "source": [
    "concentrations['k']"
   ]
  },
  {
   "cell_type": "code",
   "execution_count": null,
   "metadata": {},
   "outputs": [],
   "source": [
    "#plt.semilogy(full_data['time'],full_data['absC3'])\n",
    "#plt.semilogy(full_data['time'],full_data['fitC3'])\n",
    "plt.semilogy(full_data['time'],full_data['absC3'],'o')\n",
    "plt.semilogy(full_data['time'],full_data['fitC3'])\n"
   ]
  },
  {
   "cell_type": "code",
   "execution_count": null,
   "metadata": {},
   "outputs": [],
   "source": [
    "# This cell is used to allow Google Colab to install the tools to convert the notebook to a pdf file\n",
    "# Un-comment the following lines when you are ready to export the pdf \n",
    "#!apt-get install texlive texlive-xetex texlive-latex-extra pandoc\n",
    "#!pip install pypandoc"
   ]
  },
  {
   "cell_type": "code",
   "execution_count": null,
   "metadata": {},
   "outputs": [],
   "source": [
    "# Use this command to convert the finished worksheet into a pdf \n",
    "# NOTE : you may want to change the path of the file, if you are working in a different folder of the Google Drive\n",
    "#!jupyter nbconvert --no-input --to PDF \"/content/drive/MyDrive/Colab Notebooks/Kinetics_Worksheet.ipynb\""
   ]
  }
 ],
 "metadata": {
  "kernelspec": {
   "display_name": "Python 3",
   "language": "python",
   "name": "python3"
  },
  "language_info": {
   "codemirror_mode": {
    "name": "ipython",
    "version": 3
   },
   "file_extension": ".py",
   "mimetype": "text/x-python",
   "name": "python",
   "nbconvert_exporter": "python",
   "pygments_lexer": "ipython3",
   "version": "3.9.6"
  },
  "orig_nbformat": 4,
  "vscode": {
   "interpreter": {
    "hash": "949777d72b0d2535278d3dc13498b2535136f6dfe0678499012e853ee9abcab1"
   }
  }
 },
 "nbformat": 4,
 "nbformat_minor": 2
}

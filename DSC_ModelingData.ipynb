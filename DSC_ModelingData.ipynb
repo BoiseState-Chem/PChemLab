{
 "cells": [
  {
   "attachments": {},
   "cell_type": "markdown",
   "metadata": {},
   "source": [
    "Dr Oliviero Andreussi, olivieroandreuss@boisestate.edu\n",
    "\n",
    "Boise State University, Department of Chemistry and Biochemistry"
   ]
  },
  {
   "attachments": {},
   "cell_type": "markdown",
   "metadata": {},
   "source": [
    "# Fitting and Data Analysis for the Differential Scanning Calorimetry Experiment {-}"
   ]
  },
  {
   "cell_type": "markdown",
   "metadata": {},
   "source": [
    "## Preliminary Setup {-}"
   ]
  },
  {
   "attachments": {},
   "cell_type": "markdown",
   "metadata": {},
   "source": [
    "Before we start, let us import the main modules that we will need for this lecture. You may see some new modules in the list below, we will add more details in the right sections."
   ]
  },
  {
   "cell_type": "code",
   "execution_count": null,
   "metadata": {},
   "outputs": [],
   "source": [
    "# @title Notebook Setup { display-mode: \"form\" }\n",
    "# Import the main modules used in this worksheet\n",
    "import numpy as np\n",
    "import matplotlib.pyplot as plt\n",
    "import pandas as pd\n",
    "from sklearn.linear_model import LinearRegression\n",
    "from scipy.signal import medfilt\n",
    "from scipy.integrate import simps, cumulative_trapezoid\n",
    "# Load the google drive with your files \n",
    "#from google.colab import drive\n",
    "#drive.mount('/content/drive')\n",
    "# The following needs to be the path of the folder with all your datafile in .csv format\n",
    "base_path = '/content/drive/MyDrive/'"
   ]
  },
  {
   "cell_type": "code",
   "execution_count": null,
   "metadata": {},
   "outputs": [],
   "source": [
    "# @title Functions to load the data { display-mode: \"form\" }\n",
    "def load_data_to_file_dict(file_dict):\n",
    "    \"\"\"\n",
    "    Load a DSC .txt file. \n",
    "    The format of the file should have two rows of headers, one extra line of text at the end, and five columns of data\n",
    "    The columns are: index, time, heat flow, temperature of sample, temperature of reference\n",
    "\n",
    "    Input variables:\n",
    "        file_dict : a dictionary with 'path' and 'name' keys corresponding to the file to be loaded\n",
    "    \n",
    "    Action: \n",
    "        Add to file_dict a Pandas DataFrame with four columns: time (in seconds), heat flow (in W/g), \n",
    "        temperature of sample (in C), and temperature of reference (in C)\n",
    "    \"\"\"\n",
    "    data = pd.read_csv(file_dict['path']+file_dict['name'],skiprows=2,skipfooter=1,names=['Time','Heat-Flow','Ts','Tr'],sep=' +',index_col=0,engine='python',encoding='unicode_escape') \n",
    "    file_dict['data'] = data\n",
    "    return\n",
    "\n",
    "def plot_peak(peak_dict,xaxis='Time'):\n",
    "    \"\"\" \n",
    "    \"\"\"\n",
    "    if not ('data' in peak_dict): \n",
    "        load_data_to_file_dict(peak_dict)\n",
    "    time_start = peak_dict['time_start']\n",
    "    time_end = peak_dict['time_end']\n",
    "    if time_end == 0 : time_end = peak_dict['data'].Time.iat[-1]\n",
    "    # \n",
    "    filtered_data = peak_dict['data'].query(f'Time > {time_start} and Time < {time_end}')\n",
    "    #\n",
    "    baseline=medfilt(filtered_data['Heat-Flow'],peak_dict['baseline_width'])\n",
    "    #\n",
    "    if xaxis not in peak_dict['data']:\n",
    "        print(\"ERROR: Invalid value for xaxis argument\")\n",
    "        return\n",
    "    elif xaxis == 'Time' :\n",
    "        plt.xlabel('Time [s]')\n",
    "    elif xaxis == 'Ts' :\n",
    "        plt.xlabel('Ts [C]')\n",
    "    elif xaxis == 'Tr' :\n",
    "        plt.xlabel('Tr [C]')\n",
    "    plt.plot(filtered_data[xaxis],filtered_data['Heat-Flow'])\n",
    "    plt.plot(filtered_data[xaxis],baseline)\n",
    "    plt.ylabel('Heat Flow [W/g]')\n",
    "    plt.show()\n",
    "\n",
    "def plot_peak_list(peak_list,xaxis='Time',key='',value=['']):\n",
    "    \"\"\"\n",
    "    Given a list of dictionary files, plot temperature vs. time for each file into the same plot.\n",
    "    If key/value are specified, only plot the files for which the key has the specified value.\n",
    "\n",
    "    Input variables:\n",
    "        file_list : a list of dictionary files, each with 'path' and 'name' keys corresponding to the file to be loaded\n",
    "        key: a string with the name of the key to shortlist the files\n",
    "        value: the value of the key used to select the shortlist of files\n",
    "    \n",
    "    Action: \n",
    "        Plot temperature vs. time for the selected files  \n",
    "    \"\"\"\n",
    "    if value == '' or key == '':\n",
    "        peak_shortlist = peak_list\n",
    "    else :\n",
    "        peak_shortlist = [f for f in peak_list if f[key] in value ]\n",
    "    #\n",
    "    fig, ax = plt.subplots()\n",
    "    if xaxis == 'Time' :\n",
    "        plt.xlabel('Time [s]')\n",
    "    elif xaxis == 'Ts' :\n",
    "        plt.xlabel('Ts [C]')\n",
    "    elif xaxis == 'Tr' :\n",
    "        plt.xlabel('Tr [C]')\n",
    "    else:\n",
    "        print(\"ERROR: unexpected xaxis label\")\n",
    "        return\n",
    "    #\n",
    "    for peak in peak_shortlist : \n",
    "        if not ('data' in peak): \n",
    "            load_data_to_file_dict(peak)\n",
    "        filtered_data = peak['data'].query(f\"Time > {peak['time_start']} and Time < {peak['time_end']}\")\n",
    "        plt.plot(filtered_data[xaxis],filtered_data['Heat-Flow'],label=peak['label'])\n",
    "    plt.ylabel('Heat-Flow [W/g]')\n",
    "    plt.legend()\n",
    "    plt.show()"
   ]
  },
  {
   "cell_type": "code",
   "execution_count": null,
   "metadata": {},
   "outputs": [],
   "source": [
    "def analyze_peak(peak_dict,verbose=False):\n",
    "    \"\"\" \n",
    "    \"\"\"\n",
    "    if not ('data' in peak_dict): \n",
    "        load_data_to_file_dict(peak_dict)\n",
    "    # Clean signal (filter and baseline)\n",
    "    time_start = peak_dict['time_start']\n",
    "    time_end = peak_dict['time_end']\n",
    "    if time_end == 0 : time_end = peak_dict['data'].Time.iat[-1]\n",
    "    # \n",
    "    filtered_data = peak_dict['data'].query(f'Time > {time_start} and Time < {time_end}').copy()\n",
    "    #\n",
    "    baseline=medfilt(filtered_data['Heat-Flow'],peak_dict['baseline_width'])\n",
    "    filtered_data['Heat-Flow-Clean'] = filtered_data['Heat-Flow'] - baseline\n",
    "    # Compute the integral\n",
    "    peak_integral = simps(filtered_data['Heat-Flow-Clean'],filtered_data['Time'])\n",
    "    peak_dict['integral'] = peak_integral\n",
    "    if verbose : print(f'The peak integral is {peak_integral:8.6f}')\n",
    "    # Compute the second derivative of the Heat-Flow wrt Time\n",
    "    first_derivative = np.gradient(filtered_data['Heat-Flow'], filtered_data['Time'])\n",
    "    second_derivative = np.gradient(first_derivative, filtered_data['Time'])\n",
    "    if peak_integral < 0 : \n",
    "        # use the minimum value\n",
    "        transition_index = np.argmax(second_derivative)\n",
    "    else:\n",
    "        # use the maximum value\n",
    "        transition_index = np.argmin(second_derivative)\n",
    "    transition_temperature = filtered_data.Ts.iat[transition_index]\n",
    "    peak_dict['T_transition'] = transition_temperature\n",
    "    if verbose : print(f'The transition temperature is {transition_temperature:6.4f}')"
   ]
  },
  {
   "cell_type": "markdown",
   "metadata": {},
   "source": [
    "## Visualize the Systems {-}"
   ]
  },
  {
   "cell_type": "markdown",
   "metadata": {},
   "source": [
    "The following module needs to be installed on Colab. We won't need it too much for this analysis, but they offer a lot of nice features for chemistry programming. "
   ]
  },
  {
   "cell_type": "code",
   "execution_count": null,
   "metadata": {},
   "outputs": [],
   "source": [
    "# @title Install and load RDKit { display-mode: \"form\" }\n",
    "!pip install rdkit\n",
    "from rdkit import Chem\n",
    "from rdkit.Chem import Draw\n",
    "!pip install cirpy\n",
    "import cirpy"
   ]
  },
  {
   "cell_type": "markdown",
   "metadata": {},
   "source": [
    "In particular we can use them to draw the molecules in our experiments. While for some molecules you can just write their names and RDKit will plot them, for most molecules you will need to provide their SMILES or their CAS numbers. Luckily, CIRpy can usually find SMILES for you, if you type the common name correctly or if you know the CAS number. \n",
    "\n",
    "These are the SMILES for the molecules in your DSC experiments:\n",
    "* paracetamol: 'CC(=O)Nc1ccc(O)cc1'"
   ]
  },
  {
   "cell_type": "code",
   "execution_count": null,
   "metadata": {},
   "outputs": [],
   "source": [
    "# @title Choose the molecule to draw { display-mode: \"form\" }\n",
    "input = 'paracetamol' # @param {type:\"string\"}\n",
    "input_type = 'name' # @param [\"smiles\", \"name\", \"cas\"] {allow-input: true}\n",
    "if input_type != 'smiles' :\n",
    "    smiles=cirpy.resolve( input, 'smiles')\n",
    "else:\n",
    "    smiles=input\n",
    "img = Draw.MolToImage( Chem.MolFromSmiles(smiles), size=(300, 300) )\n",
    "display(img)"
   ]
  },
  {
   "cell_type": "markdown",
   "metadata": {},
   "source": [
    "## Loading the Data {-}"
   ]
  },
  {
   "cell_type": "markdown",
   "metadata": {},
   "source": [
    "We need to load the Google Drive and access an example of a dataset from a kinetics experiment. You can use the same set that I am using by downloading it from Canvas, [here](). Or you can use your own files. I am assuming the file in question will be located in a `Kinetics_Data/` subfolder in your `Colab Notebook/` folder. "
   ]
  },
  {
   "cell_type": "code",
   "execution_count": null,
   "metadata": {},
   "outputs": [],
   "source": [
    "# @title Set Local Path { display-mode: \"form\" }\n",
    "# The following needs to be the path of the folder with all your collected data in .csv format\n",
    "local_path=\"Colab Notebooks/DSC_Data/\" # @param {type:\"string\"}\n",
    "path = base_path+local_path"
   ]
  },
  {
   "cell_type": "code",
   "execution_count": null,
   "metadata": {},
   "outputs": [],
   "source": [
    "path = './DSC_Data/'"
   ]
  },
  {
   "cell_type": "markdown",
   "metadata": {},
   "source": [
    "In order to streamline the fitting of the data, we will be storing the file that corresponds to each experiment into a Python dictionary (`dict`), together with all the relevant information of that experiment and the parameters that we need for the fit. You can use the same statement in the following, but make sure to change the file name from 'indium.txt' (the one that I am using) to the one you want to use."
   ]
  },
  {
   "cell_type": "code",
   "execution_count": null,
   "metadata": {},
   "outputs": [],
   "source": [
    "indium_melting = {'path':path, 'name':'indium.txt', 'label':'In melting', 'time_start': 300, 'time_end': 350, 'baseline_width': 61}\n",
    "indium_freezing = {'path':path, 'name':'indium.txt', 'label':'In freezing', 'time_start': 0, 'time_end': 0, 'baseline_width': 61}\n",
    "\n",
    "indium_peaks = [indium_melting, indium_freezing]"
   ]
  },
  {
   "cell_type": "code",
   "execution_count": null,
   "metadata": {},
   "outputs": [],
   "source": []
  },
  {
   "cell_type": "code",
   "execution_count": null,
   "metadata": {},
   "outputs": [],
   "source": [
    "plot_peak_list(indium_peaks,'Ts')"
   ]
  },
  {
   "cell_type": "code",
   "execution_count": null,
   "metadata": {},
   "outputs": [],
   "source": [
    "load_data_to_file_dict(indium_melting)"
   ]
  },
  {
   "cell_type": "markdown",
   "metadata": {},
   "source": [
    "We should always check that the loaded data looks ok, say by checking the number of columns and rows and, maybe, plotting the two columns"
   ]
  },
  {
   "cell_type": "code",
   "execution_count": null,
   "metadata": {},
   "outputs": [],
   "source": [
    "indium_melting['data'].info()"
   ]
  },
  {
   "cell_type": "markdown",
   "metadata": {},
   "source": [
    "## Adjust the Analysis Parameters {-}"
   ]
  },
  {
   "cell_type": "code",
   "execution_count": null,
   "metadata": {},
   "outputs": [],
   "source": [
    "# @title Find a reasonable time interval around the melting peak { display-mode: \"form\" }\n",
    "time_start = 0 # @param {type:\"number\"}\n",
    "time_end = 0 # @param {type:\"number\"}\n",
    "baseline_width = 61 # @param {type:\"integer\"}\n",
    "indium_melting['time_start'] = time_start\n",
    "indium_melting['time_end'] = time_end\n",
    "indium_melting['baseline_width'] = baseline_width\n",
    "plot_peak(indium_melting,xaxis='Time')"
   ]
  },
  {
   "cell_type": "code",
   "execution_count": null,
   "metadata": {},
   "outputs": [],
   "source": [
    "# @title Find the transition temperature and the peak integral { display-mode: \"form\" }\n",
    "analyze_peak(indium_melting,verbose=True)"
   ]
  },
  {
   "cell_type": "code",
   "execution_count": null,
   "metadata": {},
   "outputs": [],
   "source": [
    "para1 = {'path':path, 'name':'para1.txt', 'label':'In melting', 'time_start': 0, 'time_end': 0, 'baseline_width': 201}\n",
    "para2 = {'path':path, 'name':'para2.txt', 'label':'In melting', 'time_start': 0, 'time_end': 0, 'baseline_width': 201}\n"
   ]
  },
  {
   "cell_type": "code",
   "execution_count": null,
   "metadata": {},
   "outputs": [],
   "source": [
    "plot_peak(para2)"
   ]
  },
  {
   "cell_type": "code",
   "execution_count": null,
   "metadata": {},
   "outputs": [],
   "source": [
    "nylon = {'path':path, 'name':'nylon.txt', 'label':'In melting', 'time_start': 0, 'time_end': 0, 'baseline_width': 201}\n"
   ]
  },
  {
   "cell_type": "code",
   "execution_count": null,
   "metadata": {},
   "outputs": [],
   "source": [
    "plot_peak(nylon)"
   ]
  },
  {
   "cell_type": "code",
   "execution_count": null,
   "metadata": {},
   "outputs": [],
   "source": [
    "cotton = {'path':path, 'name':'cotton.txt', 'label':'In melting', 'time_start': 0, 'time_end': 0, 'baseline_width': 201}\n"
   ]
  },
  {
   "cell_type": "code",
   "execution_count": null,
   "metadata": {},
   "outputs": [],
   "source": [
    "plot_peak(cotton)"
   ]
  },
  {
   "cell_type": "code",
   "execution_count": null,
   "metadata": {},
   "outputs": [],
   "source": [
    "peak_dict = cotton\n",
    "\n",
    "time_start = 650\n",
    "time_end = 850\n",
    "if time_end == 0 : time_end = peak_dict['data'].Time.iat[-1]\n",
    "# \n",
    "filtered_data = peak_dict['data'].query(f'Time > {time_start} and Time < {time_end}').copy()"
   ]
  },
  {
   "cell_type": "code",
   "execution_count": null,
   "metadata": {},
   "outputs": [],
   "source": [
    "first_derivative = np.gradient(filtered_data['Heat-Flow'], filtered_data['Time'])"
   ]
  },
  {
   "cell_type": "code",
   "execution_count": null,
   "metadata": {},
   "outputs": [],
   "source": [
    "plt.plot(first_derivative)"
   ]
  },
  {
   "cell_type": "code",
   "execution_count": null,
   "metadata": {},
   "outputs": [],
   "source": [
    "left_baseline_slope = first_derivative[0]\n",
    "left_baseline_x0 = filtered_data['Time'].iat[0]\n",
    "left_baseline_y0 = filtered_data['Heat-Flow'].iat[0]\n",
    "left_baseline_y = left_baseline_y0 + left_baseline_slope * (filtered_data['Time'] - left_baseline_x0)\n",
    "#\n",
    "right_baseline_slope = first_derivative[-1]\n",
    "right_baseline_x0 = filtered_data['Time'].iat[-1]\n",
    "right_baseline_y0 = filtered_data['Heat-Flow'].iat[-1]\n",
    "right_baseline_y = right_baseline_y0 + right_baseline_slope * (filtered_data['Time'] - right_baseline_x0)"
   ]
  },
  {
   "cell_type": "code",
   "execution_count": null,
   "metadata": {},
   "outputs": [],
   "source": [
    "baseline = np.ones(filtered_data['Heat-Flow'].shape)*(left_baseline_y0+right_baseline_y0)*0.5\n",
    "for i in range(10): \n",
    "    gamma = cumulative_trapezoid(filtered_data['Heat-Flow']-baseline,initial=0)/simps(filtered_data['Heat-Flow']-baseline)\n",
    "    baseline = (1-gamma)*left_baseline_y + gamma*right_baseline_y\n",
    "plt.plot(gamma)"
   ]
  },
  {
   "cell_type": "code",
   "execution_count": null,
   "metadata": {},
   "outputs": [],
   "source": [
    "left_baseline_slope = 0\n",
    "left_baseline_x0 = filtered_data['Time'].iat[0]\n",
    "left_baseline_y0 = filtered_data['Heat-Flow'].iat[0]\n",
    "left_baseline_y = left_baseline_y0 + left_baseline_slope * (filtered_data['Time'] - left_baseline_x0)\n",
    "#\n",
    "right_baseline_slope = 0\n",
    "right_baseline_x0 = filtered_data['Time'].iat[-1]\n",
    "right_baseline_y0 = filtered_data['Heat-Flow'].iat[-1]\n",
    "right_baseline_y = right_baseline_y0 + right_baseline_slope * (filtered_data['Time'] - right_baseline_x0)"
   ]
  },
  {
   "cell_type": "code",
   "execution_count": null,
   "metadata": {},
   "outputs": [],
   "source": [
    "left_tangent_index = np.argmin(first_derivative)\n",
    "left_tangent_x0 = filtered_data['Time'].iat[left_tangent_index]\n",
    "left_tangent_y0 = filtered_data['Heat-Flow'].iat[left_tangent_index]\n",
    "left_tangent_slope = first_derivative[left_tangent_index]\n",
    "\n",
    "right_tangent_index = np.argmax(first_derivative)\n",
    "right_tangent_x0 = filtered_data['Time'].iat[right_tangent_index]\n",
    "right_tangent_y0 = filtered_data['Heat-Flow'].iat[right_tangent_index]\n",
    "right_tangent_slope = first_derivative[right_tangent_index]"
   ]
  },
  {
   "cell_type": "markdown",
   "metadata": {},
   "source": [
    "y = y01 + a1*(x-x01)\n",
    "y = y02 + a2*(x-x02)\n",
    "x = (y02-y01 + a1*x01-a2*x02)/(a1-a2) \n"
   ]
  },
  {
   "cell_type": "code",
   "execution_count": null,
   "metadata": {},
   "outputs": [],
   "source": [
    "onset_x = (left_baseline_y0 - left_tangent_y0 + left_tangent_slope*left_tangent_x0 - left_baseline_slope*left_baseline_x0)/(left_tangent_slope-left_baseline_slope)\n",
    "onset_y = left_baseline_y0 + left_baseline_slope * (onset_x - left_baseline_x0)\n",
    "\n",
    "endset_x = (right_baseline_y0 - right_tangent_y0 + right_tangent_slope*right_tangent_x0 - right_baseline_slope*right_baseline_x0)/(right_tangent_slope-right_baseline_slope)\n",
    "endset_y = right_baseline_y0 + right_baseline_slope * (endset_x - right_baseline_x0)\n",
    "\n",
    "extrapolated_peak_x = (right_tangent_y0 - left_tangent_y0 + left_tangent_slope*left_tangent_x0 - right_tangent_slope*right_tangent_x0)/(left_tangent_slope-right_tangent_slope)\n",
    "extrapolated_peak_y = right_tangent_y0 + right_tangent_slope * (extrapolated_peak_x - right_tangent_x0)"
   ]
  },
  {
   "cell_type": "code",
   "execution_count": null,
   "metadata": {},
   "outputs": [],
   "source": [
    "baseline = np.ones(filtered_data['Heat-Flow'].shape)*(left_baseline_y0+right_baseline_y0)*0.5\n",
    "for i in range(10): \n",
    "    gamma = cumulative_trapezoid(filtered_data['Heat-Flow']-baseline,initial=0)/simps(filtered_data['Heat-Flow']-baseline)\n",
    "    baseline = (1-gamma)*left_baseline_y + gamma*right_baseline_y\n",
    "plt.plot(gamma)"
   ]
  },
  {
   "cell_type": "code",
   "execution_count": null,
   "metadata": {},
   "outputs": [],
   "source": [
    "plt.plot(filtered_data['Time'],filtered_data['Heat-Flow'])\n",
    "plt.plot(filtered_data['Time'],left_baseline_y)\n",
    "plt.plot(filtered_data['Time'],right_baseline_y)\n",
    "plt.plot(filtered_data['Time'],baseline)\n",
    "plt.scatter(extrapolated_peak_x,extrapolated_peak_y,label=f'Extrapolated Peak = {extrapolated_peak_x:6.2f} s')\n",
    "plt.scatter(onset_x,onset_y,label=f'Onset = {onset_x:6.2f} s')\n",
    "plt.scatter(endset_x,endset_y,label=f'Endset = {endset_x:6.2f} s')\n",
    "plt.scatter([left_tangent_x0,right_tangent_x0],[left_tangent_y0,right_tangent_y0],marker='x',label='Inflections')\n",
    "delta_x = 10\n",
    "x_tmp = np.linspace(onset_x-delta_x,extrapolated_peak_x+delta_x,10)\n",
    "y_tmp = left_tangent_y0 + left_tangent_slope * (x_tmp - left_tangent_x0)\n",
    "plt.plot(x_tmp,y_tmp,':',color='grey')\n",
    "x_tmp = np.linspace(extrapolated_peak_x-delta_x,endset_x+delta_x,10)\n",
    "y_tmp = right_tangent_y0 + right_tangent_slope * (x_tmp - right_tangent_x0)\n",
    "plt.plot(x_tmp,y_tmp,':',color='grey')\n",
    "plt.legend()"
   ]
  },
  {
   "cell_type": "code",
   "execution_count": null,
   "metadata": {},
   "outputs": [],
   "source": []
  },
  {
   "cell_type": "code",
   "execution_count": null,
   "metadata": {},
   "outputs": [],
   "source": []
  }
 ],
 "metadata": {
  "kernelspec": {
   "display_name": "Python 3",
   "language": "python",
   "name": "python3"
  },
  "language_info": {
   "codemirror_mode": {
    "name": "ipython",
    "version": 3
   },
   "file_extension": ".py",
   "mimetype": "text/x-python",
   "name": "python",
   "nbconvert_exporter": "python",
   "pygments_lexer": "ipython3",
   "version": "3.9.6"
  },
  "vscode": {
   "interpreter": {
    "hash": "949777d72b0d2535278d3dc13498b2535136f6dfe0678499012e853ee9abcab1"
   }
  }
 },
 "nbformat": 4,
 "nbformat_minor": 2
}

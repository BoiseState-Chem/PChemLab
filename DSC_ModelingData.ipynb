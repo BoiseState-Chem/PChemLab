{
 "cells": [
  {
   "attachments": {},
   "cell_type": "markdown",
   "metadata": {},
   "source": [
    "Dr Oliviero Andreussi, olivieroandreuss@boisestate.edu\n",
    "\n",
    "Boise State University, Department of Chemistry and Biochemistry"
   ]
  },
  {
   "attachments": {},
   "cell_type": "markdown",
   "metadata": {},
   "source": [
    "# Fitting and Data Analysis for the Differential Scanning Calorimetry Experiment {-}"
   ]
  },
  {
   "cell_type": "markdown",
   "metadata": {},
   "source": [
    "## Preliminary Setup {-}"
   ]
  },
  {
   "attachments": {},
   "cell_type": "markdown",
   "metadata": {},
   "source": [
    "Before we start, let us import the main modules that we will need for this lecture. You may see some new modules in the list below, we will add more details in the right sections."
   ]
  },
  {
   "cell_type": "code",
   "execution_count": null,
   "metadata": {},
   "outputs": [],
   "source": [
    "# @title Notebook Setup { display-mode: \"form\" }\n",
    "# Import the main modules used in this worksheet\n",
    "import numpy as np\n",
    "import matplotlib.pyplot as plt\n",
    "import pandas as pd\n",
    "from sklearn.linear_model import LinearRegression\n",
    "from scipy.signal import medfilt\n",
    "from scipy.integrate import simps\n",
    "# Load the google drive with your files \n",
    "#from google.colab import drive\n",
    "#drive.mount('/content/drive')\n",
    "# The following needs to be the path of the folder with all your datafile in .csv format\n",
    "base_path = '/content/drive/MyDrive/'"
   ]
  },
  {
   "cell_type": "code",
   "execution_count": null,
   "metadata": {},
   "outputs": [],
   "source": [
    "# @title Functions to load the data { display-mode: \"form\" }\n",
    "def load_data_to_file_dict(file_dict):\n",
    "    \"\"\"\n",
    "    Load a DSC .txt file. \n",
    "    The format of the file should have two rows of headers, one extra line of text at the end, and five columns of data\n",
    "    The columns are: index, time, heat flow, temperature of sample, temperature of reference\n",
    "\n",
    "    Input variables:\n",
    "        file_dict : a dictionary with 'path' and 'name' keys corresponding to the file to be loaded\n",
    "    \n",
    "    Action: \n",
    "        Add to file_dict a Pandas DataFrame with four columns: time (in seconds), heat flow (in W/g), \n",
    "        temperature of sample (in C), and temperature of reference (in C)\n",
    "    \"\"\"\n",
    "    data = pd.read_csv(file_dict['path']+file_dict['name'],skiprows=2,skipfooter=1,names=['Time','Heat-Flow','Ts','Tr'],sep=' +',index_col=0,engine='python') \n",
    "    file_dict['data'] = data\n",
    "    return\n",
    "\n",
    "def plot_peak(peak_dict,xaxis='Time'):\n",
    "    \"\"\" \n",
    "    \"\"\"\n",
    "    time_start = peak_dict['time_start']\n",
    "    time_end = peak_dict['time_end']\n",
    "    if time_end == 0 : time_end = peak_dict['data'].Time.iat[-1]\n",
    "    # \n",
    "    filtered_data = peak_dict['data'].query(f'Time > {time_start} and Time < {time_end}')\n",
    "    #\n",
    "    baseline=medfilt(filtered_data['Heat-Flow'],peak_dict['baseline_width'])\n",
    "    #\n",
    "    plt.plot(filtered_data[xaxis],filtered_data['Heat-Flow'])\n",
    "    plt.plot(filtered_data[xaxis],baseline)\n",
    "    plt.ylabel('Heat Flow [W/g]')\n",
    "    if xaxis not in peak_dict['data']:\n",
    "        print(\"ERROR: Invalid value for xaxis argument\")\n",
    "        return\n",
    "    elif xaxis == 'Time' :\n",
    "        plt.xlabel('Time [s]')\n",
    "    elif xaxis == 'Ts' :\n",
    "        plt.xlabel('Ts [C]')\n",
    "    elif xaxis == 'Tr' :\n",
    "        plt.xlabel('Tr [C]')\n",
    "    plt.show()\n"
   ]
  },
  {
   "cell_type": "code",
   "execution_count": null,
   "metadata": {},
   "outputs": [],
   "source": [
    "# @title Functions to fit the data { display-mode: \"form\" }\n",
    "def analyze_peak(peak_dict,verbose=False):\n",
    "    \"\"\" \n",
    "    \"\"\"\n",
    "    if not ('data' in peak_dict): \n",
    "        load_data_to_file_dict(peak_dict)\n",
    "    # Clean signal (filter and baseline)\n",
    "    time_start = peak_dict['time_start']\n",
    "    time_end = peak_dict['time_end']\n",
    "    if time_end == 0 : time_end = peak_dict['data'].Time.iat[-1]\n",
    "    # \n",
    "    filtered_data = peak_dict['data'].query(f'Time > {time_start} and Time < {time_end}').copy()\n",
    "    #\n",
    "    baseline=medfilt(filtered_data['Heat-Flow'],peak_dict['baseline_width'])\n",
    "    filtered_data['Heat-Flow-Clean'] = filtered_data['Heat-Flow'] - baseline\n",
    "    # Compute the integral\n",
    "    peak_integral = simps(filtered_data['Heat-Flow-Clean'],filtered_data['Ts'])\n",
    "    peak_dict['integral'] = peak_integral\n",
    "    if verbose : print(f'The peak integral is {peak_integral:8.6f}')\n",
    "    # Compute the second derivative of the Heat-Flow wrt Time\n",
    "    first_derivative = np.gradient(filtered_data['Heat-Flow'], filtered_data['Time'])\n",
    "    second_derivative = np.gradient(first_derivative, filtered_data['Time'])\n",
    "    if peak_integral < 0 : \n",
    "        # use the minimum value\n",
    "        transition_index = np.argmax(second_derivative)\n",
    "    else:\n",
    "        # use the maximum value\n",
    "        transition_index = np.argmin(second_derivative)\n",
    "    transition_temperature = filtered_data.Ts.iat[transition_index]\n",
    "    peak_dict['T_transition'] = transition_temperature\n",
    "    if verbose : \n",
    "        print(f'The transition temperature is {transition_temperature:6.4f}')\n",
    "        plt.plot(filtered_data['Ts'],second_derivative)\n",
    "        plt.show()\n",
    "\n"
   ]
  },
  {
   "cell_type": "markdown",
   "metadata": {},
   "source": [
    "## Visualize the Systems {-}"
   ]
  },
  {
   "cell_type": "markdown",
   "metadata": {},
   "source": [
    "The following module needs to be installed on Colab. We won't need it too much for this analysis, but they offer a lot of nice features for chemistry programming. "
   ]
  },
  {
   "cell_type": "code",
   "execution_count": null,
   "metadata": {},
   "outputs": [],
   "source": [
    "# @title Install and load RDKit { display-mode: \"form\" }\n",
    "!pip install rdkit\n",
    "from rdkit import Chem\n",
    "from rdkit.Chem import Draw\n",
    "!pip install cirpy\n",
    "import cirpy"
   ]
  },
  {
   "cell_type": "markdown",
   "metadata": {},
   "source": [
    "In particular we can use them to draw the molecules in our experiments. While for some molecules you can just write their names and RDKit will plot them, for most molecules you will need to provide their SMILES or their CAS numbers. Luckily, CIRpy can usually find SMILES for you, if you type the common name correctly or if you know the CAS number. \n",
    "\n",
    "These are the SMILES for the molecules in your DSC experiments:\n",
    "* paracetamol: 'CC(=O)Nc1ccc(O)cc1'"
   ]
  },
  {
   "cell_type": "code",
   "execution_count": null,
   "metadata": {},
   "outputs": [],
   "source": [
    "# @title Choose the molecule to draw { display-mode: \"form\" }\n",
    "input = 'paracetamol' # @param {type:\"string\"}\n",
    "input_type = 'name' # @param [\"smiles\", \"name\", \"cas\"] {allow-input: true}\n",
    "if input_type != 'smiles' :\n",
    "    smiles=cirpy.resolve( input, 'smiles')\n",
    "else:\n",
    "    smiles=input\n",
    "img = Draw.MolToImage( Chem.MolFromSmiles(smiles), size=(300, 300) )\n",
    "display(img)"
   ]
  },
  {
   "cell_type": "markdown",
   "metadata": {},
   "source": [
    "## Loading the Data {-}"
   ]
  },
  {
   "cell_type": "markdown",
   "metadata": {},
   "source": [
    "We need to load the Google Drive and access an example of a dataset from a kinetics experiment. You can use the same set that I am using by downloading it from Canvas, [here](). Or you can use your own files. I am assuming the file in question will be located in a `Kinetics_Data/` subfolder in your `Colab Notebook/` folder. "
   ]
  },
  {
   "cell_type": "code",
   "execution_count": null,
   "metadata": {},
   "outputs": [],
   "source": [
    "# @title Set Local Path { display-mode: \"form\" }\n",
    "# The following needs to be the path of the folder with all your collected data in .csv format\n",
    "local_path=\"Colab Notebooks/DSC_Data/\" # @param {type:\"string\"}\n",
    "path = base_path+local_path"
   ]
  },
  {
   "cell_type": "markdown",
   "metadata": {},
   "source": [
    "In order to streamline the fitting of the data, we will be storing the file that corresponds to each experiment into a Python dictionary (`dict`), together with all the relevant information of that experiment and the parameters that we need for the fit. You can use the same statement in the following, but make sure to change the file name from 'indium.txt' (the one that I am using) to the one you want to use."
   ]
  },
  {
   "cell_type": "code",
   "execution_count": null,
   "metadata": {},
   "outputs": [],
   "source": [
    "indium_melting = {'path':path, 'name':'indium.txt', 'label':'Indium', 'time_start': 0, 'time_end': 0, 'baseline_width': 61}"
   ]
  },
  {
   "cell_type": "code",
   "execution_count": null,
   "metadata": {},
   "outputs": [],
   "source": [
    "load_data_to_file_dict(indium_melting)"
   ]
  },
  {
   "cell_type": "markdown",
   "metadata": {},
   "source": [
    "We should always check that the loaded data looks ok, say by checking the number of columns and rows and, maybe, plotting the two columns"
   ]
  },
  {
   "cell_type": "code",
   "execution_count": null,
   "metadata": {},
   "outputs": [],
   "source": [
    "indium_melting['data'].info()"
   ]
  },
  {
   "cell_type": "code",
   "execution_count": null,
   "metadata": {},
   "outputs": [],
   "source": [
    "# @title Find a reasonable time interval around the melting peak { display-mode: \"form\" }\n",
    "time_start = 250 # @param {type:\"number\"}\n",
    "time_end = 350 # @param {type:\"number\"}\n",
    "baseline_width = 61 # @param {type:\"integer\"}\n",
    "indium_melting['time_start'] = time_start\n",
    "indium_melting['time_end'] = time_end\n",
    "indium_melting['baseline_width'] = baseline_width\n",
    "plot_peak(indium_melting,xaxis='Time')"
   ]
  },
  {
   "cell_type": "code",
   "execution_count": null,
   "metadata": {},
   "outputs": [],
   "source": [
    "# @title Find the transition temperature and the peak integral { display-mode: \"form\" }\n",
    "analyze_peak(indium_melting,verbose=True)"
   ]
  }
 ],
 "metadata": {
  "kernelspec": {
   "display_name": "Python 3",
   "language": "python",
   "name": "python3"
  },
  "language_info": {
   "codemirror_mode": {
    "name": "ipython",
    "version": 3
   },
   "file_extension": ".py",
   "mimetype": "text/x-python",
   "name": "python",
   "nbconvert_exporter": "python",
   "pygments_lexer": "ipython3"
  },
  "vscode": {
   "interpreter": {
    "hash": "949777d72b0d2535278d3dc13498b2535136f6dfe0678499012e853ee9abcab1"
   }
  }
 },
 "nbformat": 4,
 "nbformat_minor": 2
}

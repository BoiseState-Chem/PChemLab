{
 "cells": [
  {
   "attachments": {},
   "cell_type": "markdown",
   "metadata": {},
   "source": [
    "Dr Oliviero Andreussi, olivieroandreuss@boisestate.edu\n",
    "\n",
    "Boise State University, Department of Chemistry and Biochemistry"
   ]
  },
  {
   "attachments": {},
   "cell_type": "markdown",
   "metadata": {},
   "source": [
    "# Fitting and Data Analysis for the UV-Vis Particle in a Box Experiment {-}"
   ]
  },
  {
   "attachments": {},
   "cell_type": "markdown",
   "metadata": {},
   "source": [
    "Before we start, let us import the main modules that we will need for this lecture. You may see some new modules in the list below, we will add more details in the right sections."
   ]
  },
  {
   "cell_type": "code",
   "execution_count": 4,
   "metadata": {},
   "outputs": [],
   "source": [
    "# Import the main modules used in this worksheet\n",
    "import numpy as np\n",
    "import matplotlib.pyplot as plt\n",
    "import pandas as pd\n",
    "from sklearn.linear_model import LinearRegression"
   ]
  },
  {
   "attachments": {},
   "cell_type": "markdown",
   "metadata": {},
   "source": [
    "We need to load the Google Drive and access a file that contains the information on the molecules studies and the measured absorption wavelengths. You can use the same set that I am using by downloading it from Canvas, [here](https://boisestatecanvas.instructure.com/courses/20544/files/10392339?wrap=1). Or you can use your own files. I am assuming the file in question will be located in a `ParticleBox_Data/` subfolder in your `Colab Notebook/` folder. I will be using a file named `particleinabox.csv`, make sure to change this name if you use a different file. Also, in the file you will need to change the absorption wavelengths into your own measured results, as they are all set to 500 nm in the template file."
   ]
  },
  {
   "cell_type": "code",
   "execution_count": null,
   "metadata": {},
   "outputs": [],
   "source": [
    "# Load the google drive with your files \n",
    "from google.colab import drive\n",
    "drive.mount('/content/drive')\n",
    "# The following needs to be the path of the folder with all your datafile in .csv format\n",
    "path='/content/drive/MyDrive/Colab Notebooks/ParticleBox_Data/'\n",
    "file='particleinabox.csv'"
   ]
  },
  {
   "attachments": {},
   "cell_type": "markdown",
   "metadata": {},
   "source": [
    "The following module needs to be installed on Colab. We won't need it too much for this analysis, but they offer a lot of nice features for chemistry programming. "
   ]
  },
  {
   "cell_type": "code",
   "execution_count": null,
   "metadata": {},
   "outputs": [],
   "source": [
    "# These modules are needed to draw chemical formulas\n",
    "#!pip install rdkit cirpy\n",
    "from rdkit import Chem\n",
    "from rdkit.Chem import Draw\n",
    "import cirpy"
   ]
  },
  {
   "attachments": {},
   "cell_type": "markdown",
   "metadata": {},
   "source": [
    "In particular we can use them to draw the molecules in our experiments"
   ]
  },
  {
   "cell_type": "code",
   "execution_count": null,
   "metadata": {},
   "outputs": [],
   "source": [
    "data=pd.read_csv(path+file)\n",
    "data"
   ]
  },
  {
   "attachments": {},
   "cell_type": "markdown",
   "metadata": {},
   "source": [
    "If we want to visualize the different molecules used in the experiment, we can convert the CAS codes into smiles and use them to generate the chemical structures"
   ]
  },
  {
   "cell_type": "code",
   "execution_count": null,
   "metadata": {},
   "outputs": [],
   "source": [
    "data['smiles']=[ cirpy.resolve( x['cas'],'smiles') for i,x in data.iterrows() ]\n",
    "# unfortunately one of the molecules is not in the databases and we need to enter the smiles by hand\n",
    "data.loc[5,'smiles']='[I-].CCN1C=CC(=CC=CC=CC2=CC=[N+](C3=CC=CC=C23)CC)C4=CC=CC=C41'\n",
    "data"
   ]
  },
  {
   "attachments": {},
   "cell_type": "markdown",
   "metadata": {},
   "source": [
    "We can now visualize the molecule that we like"
   ]
  },
  {
   "cell_type": "code",
   "execution_count": null,
   "metadata": {},
   "outputs": [],
   "source": [
    "index=0\n",
    "display(Draw.MolToImage( Chem.MolFromSmiles(data.loc[index,'smiles']), size=(300, 300) ))"
   ]
  },
  {
   "cell_type": "code",
   "execution_count": null,
   "metadata": {},
   "outputs": [],
   "source": [
    "def lambda_FE(p,alpha=0.):\n",
    "    \"\"\"\n",
    "    Function to compute the absorption wavelenght (in nm)\n",
    "    as a function of the number of carbon atoms in the conjugated chain\n",
    "    and an optional parameter alpha that accounts for some wiggle room\n",
    "    due to the aromatic rings\n",
    "    \"\"\"\n",
    "    return 63.7*(p+3+alpha)**2/(p+4)"
   ]
  },
  {
   "attachments": {},
   "cell_type": "markdown",
   "metadata": {},
   "source": [
    "Given the function above, we can compute a new column of the dataframe with the predicted lambdas in one command"
   ]
  },
  {
   "cell_type": "code",
   "execution_count": null,
   "metadata": {},
   "outputs": [],
   "source": [
    "data['lambda_FE']=lambda_FE(data['p'])\n",
    "data"
   ]
  },
  {
   "attachments": {},
   "cell_type": "markdown",
   "metadata": {},
   "source": [
    "We can visualize the results as usual"
   ]
  },
  {
   "cell_type": "code",
   "execution_count": null,
   "metadata": {},
   "outputs": [],
   "source": [
    "plt.scatter(data['p'],data['lambda'])\n",
    "plt.plot(data['p'],data['lambda_FE'],color='red')\n",
    "plt.show()"
   ]
  },
  {
   "attachments": {},
   "cell_type": "markdown",
   "metadata": {},
   "source": [
    "Given our experimental and predicted values of lambda, we can compute the sum of squares as follows:"
   ]
  },
  {
   "cell_type": "code",
   "execution_count": null,
   "metadata": {},
   "outputs": [],
   "source": [
    "TSS=np.sum((data['lambda']-data['lambda'].mean())**2)\n",
    "print(\"The total sum of squares is {:10.4f} \".format(TSS))"
   ]
  },
  {
   "cell_type": "code",
   "execution_count": null,
   "metadata": {},
   "outputs": [],
   "source": [
    "RSS=np.sum((data['lambda']-data['lambda_FE'])**2)\n",
    "print(\"The residual sum of squares is {:10.4f} \".format(RSS))"
   ]
  },
  {
   "cell_type": "code",
   "execution_count": null,
   "metadata": {},
   "outputs": [],
   "source": [
    "R2=1-(RSS/TSS)\n",
    "print(\"The coefficient of determination R2 for the particle in a box model is {:5.4f} \".format(R2))"
   ]
  },
  {
   "attachments": {},
   "cell_type": "markdown",
   "metadata": {},
   "source": [
    "## Huckel Model for Conjugated Molecules {-}"
   ]
  },
  {
   "cell_type": "code",
   "execution_count": 11,
   "metadata": {},
   "outputs": [
    {
     "name": "stdout",
     "output_type": "stream",
     "text": [
      "[[-2. -1.  0.  0.]\n",
      " [-1. -2. -1.  0.]\n",
      " [ 0. -1. -2. -1.]\n",
      " [ 0.  0. -1. -2.]]\n"
     ]
    }
   ],
   "source": [
    "n_conjugated = 4\n",
    "alpha = -2.\n",
    "beta = -1.\n",
    "topology = np.zeros((n_conjugated,n_conjugated))\n",
    "diagonal = np.ones(n_conjugated)*alpha\n",
    "offdiagonal = np.ones(n_conjugated-1)*beta\n",
    "topology = topology + np.diag(diagonal,0) + np.diag(offdiagonal,1) + np.diag(offdiagonal,-1)\n",
    "print(topology)"
   ]
  },
  {
   "cell_type": "code",
   "execution_count": 12,
   "metadata": {},
   "outputs": [
    {
     "data": {
      "text/plain": [
       "(array([-3.61803399, -2.61803399, -0.38196601, -1.38196601]),\n",
       " array([[ 0.37174803, -0.60150096, -0.37174803,  0.60150096],\n",
       "        [ 0.60150096, -0.37174803,  0.60150096, -0.37174803],\n",
       "        [ 0.60150096,  0.37174803, -0.60150096, -0.37174803],\n",
       "        [ 0.37174803,  0.60150096,  0.37174803,  0.60150096]]))"
      ]
     },
     "execution_count": 12,
     "metadata": {},
     "output_type": "execute_result"
    }
   ],
   "source": [
    "np.linalg.eig(topology)"
   ]
  },
  {
   "cell_type": "code",
   "execution_count": 15,
   "metadata": {},
   "outputs": [
    {
     "name": "stdout",
     "output_type": "stream",
     "text": [
      "[[-2. -1.  0.  0.  0. -1.]\n",
      " [-1. -2. -1.  0.  0.  0.]\n",
      " [ 0. -1. -2. -1.  0.  0.]\n",
      " [ 0.  0. -1. -2. -1.  0.]\n",
      " [ 0.  0.  0. -1. -2. -1.]\n",
      " [-1.  0.  0.  0. -1. -2.]]\n"
     ]
    }
   ],
   "source": [
    "n_conjugated = 6\n",
    "alpha = -2.\n",
    "beta = -1.\n",
    "topology = np.zeros((n_conjugated,n_conjugated))\n",
    "diagonal = np.ones(n_conjugated)*alpha\n",
    "offdiagonal = np.ones(n_conjugated-1)*beta\n",
    "topology[0,n_conjugated-1]=beta\n",
    "topology[n_conjugated-1,0]=beta\n",
    "topology = topology + np.diag(diagonal,0) + np.diag(offdiagonal,1) + np.diag(offdiagonal,-1)\n",
    "print(topology)"
   ]
  },
  {
   "cell_type": "code",
   "execution_count": 29,
   "metadata": {},
   "outputs": [],
   "source": [
    "eigenvalues,eigenvectors=np.linalg.eig(topology)\n",
    "idx = eigenvalues.argsort()[::-1]   \n",
    "eigenvalues = eigenvalues[idx]\n",
    "eigenvectors = eigenvectors[:,idx]"
   ]
  },
  {
   "cell_type": "code",
   "execution_count": 30,
   "metadata": {},
   "outputs": [
    {
     "data": {
      "image/png": "[encoded data removed]",
      "text/plain": [
       "<Figure size 640x480 with 2 Axes>"
      ]
     },
     "metadata": {},
     "output_type": "display_data"
    }
   ],
   "source": [
    "from matplotlib.colors import BoundaryNorm\n",
    "bounds = np.arange(np.min(eigenvectors),np.max(eigenvectors),.05)\n",
    "cmap = plt.get_cmap('seismic')\n",
    "idx=np.searchsorted(bounds,0)\n",
    "bounds=np.insert(bounds,idx,0)\n",
    "norm = BoundaryNorm(bounds, cmap.N)\n",
    "plt.imshow(eigenvectors,interpolation='none',norm=norm,cmap=cmap)\n",
    "plt.colorbar()\n",
    "plt.show()\n"
   ]
  },
  {
   "cell_type": "code",
   "execution_count": null,
   "metadata": {},
   "outputs": [],
   "source": []
  }
 ],
 "metadata": {
  "kernelspec": {
   "display_name": "Python 3",
   "language": "python",
   "name": "python3"
  },
  "language_info": {
   "codemirror_mode": {
    "name": "ipython",
    "version": 3
   },
   "file_extension": ".py",
   "mimetype": "text/x-python",
   "name": "python",
   "nbconvert_exporter": "python",
   "pygments_lexer": "ipython3",
   "version": "3.9.6"
  },
  "vscode": {
   "interpreter": {
    "hash": "949777d72b0d2535278d3dc13498b2535136f6dfe0678499012e853ee9abcab1"
   }
  }
 },
 "nbformat": 4,
 "nbformat_minor": 2
}

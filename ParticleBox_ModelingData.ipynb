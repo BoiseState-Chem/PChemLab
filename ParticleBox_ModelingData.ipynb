{
 "cells": [
  {
   "attachments": {},
   "cell_type": "markdown",
   "metadata": {},
   "source": [
    "Dr Oliviero Andreussi, olivieroandreuss@boisestate.edu\n",
    "\n",
    "Boise State University, Department of Chemistry and Biochemistry"
   ]
  },
  {
   "attachments": {},
   "cell_type": "markdown",
   "metadata": {},
   "source": [
    "# Fitting and Data Analysis for the UV-Vis Particle in a Box Experiment {-}"
   ]
  },
  {
   "attachments": {},
   "cell_type": "markdown",
   "metadata": {},
   "source": [
    "Before we start, let us import the main modules that we will need for this lecture. You may see some new modules in the list below, we will add more details in the right sections."
   ]
  },
  {
   "cell_type": "code",
   "execution_count": 29,
   "metadata": {},
   "outputs": [],
   "source": [
    "# Import the main modules used in this worksheet\n",
    "import numpy as np\n",
    "import matplotlib.pyplot as plt\n",
    "import pandas as pd\n",
    "from sklearn.linear_model import LinearRegression"
   ]
  },
  {
   "attachments": {},
   "cell_type": "markdown",
   "metadata": {},
   "source": [
    "We need to load the Google Drive and access an example of a dataset from a calorimetry experiment. You can use the same set that I am using by downloading it from Canvas, [here](). Or you can use your own files. I am assuming the file in question will be located in a `ParticleBox_Data/` subfolder in your `Colab Notebook/` folder. I will be using a file named `particleinabox.csv`, make sure to change this name if you use a different file."
   ]
  },
  {
   "cell_type": "code",
   "execution_count": 33,
   "metadata": {},
   "outputs": [],
   "source": [
    "# Load the google drive with your files \n",
    "#from google.colab import drive\n",
    "#drive.mount('/content/drive')\n",
    "# The following needs to be the path of the folder with all your datafile in .csv format\n",
    "path='/content/drive/MyDrive/Colab Notebooks/ParticleBox_Data/'\n",
    "path='./ParticleBox_Data/'\n",
    "file='particleinabox.csv'"
   ]
  },
  {
   "attachments": {},
   "cell_type": "markdown",
   "metadata": {},
   "source": [
    "The following module needs to be installed on Colab. We won't need it too much for this analysis, but they offer a lot of nice features for chemistry programming. "
   ]
  },
  {
   "cell_type": "code",
   "execution_count": 34,
   "metadata": {},
   "outputs": [],
   "source": [
    "# These modules are needed to draw chemical formulas\n",
    "#!pip install rdkit cirpy\n",
    "from rdkit import Chem\n",
    "from rdkit.Chem import Draw\n",
    "import cirpy"
   ]
  },
  {
   "attachments": {},
   "cell_type": "markdown",
   "metadata": {},
   "source": [
    "In particular we can use them to draw the molecules in our experiments"
   ]
  },
  {
   "cell_type": "code",
   "execution_count": 35,
   "metadata": {},
   "outputs": [
    {
     "data": {
      "text/html": [
       "<div>\n",
       "<style scoped>\n",
       "    .dataframe tbody tr th:only-of-type {\n",
       "        vertical-align: middle;\n",
       "    }\n",
       "\n",
       "    .dataframe tbody tr th {\n",
       "        vertical-align: top;\n",
       "    }\n",
       "\n",
       "    .dataframe thead th {\n",
       "        text-align: right;\n",
       "    }\n",
       "</style>\n",
       "<table border=\"1\" class=\"dataframe\">\n",
       "  <thead>\n",
       "    <tr style=\"text-align: right;\">\n",
       "      <th></th>\n",
       "      <th>cas</th>\n",
       "      <th>p</th>\n",
       "      <th>hasO</th>\n",
       "      <th>hasS</th>\n",
       "      <th>lambda</th>\n",
       "    </tr>\n",
       "  </thead>\n",
       "  <tbody>\n",
       "    <tr>\n",
       "      <th>0</th>\n",
       "      <td>977-96-8</td>\n",
       "      <td>3</td>\n",
       "      <td>0</td>\n",
       "      <td>0</td>\n",
       "      <td>523</td>\n",
       "    </tr>\n",
       "    <tr>\n",
       "      <th>1</th>\n",
       "      <td>605-91-4</td>\n",
       "      <td>5</td>\n",
       "      <td>0</td>\n",
       "      <td>0</td>\n",
       "      <td>604</td>\n",
       "    </tr>\n",
       "    <tr>\n",
       "      <th>2</th>\n",
       "      <td>4727-49-5</td>\n",
       "      <td>7</td>\n",
       "      <td>0</td>\n",
       "      <td>0</td>\n",
       "      <td>590</td>\n",
       "    </tr>\n",
       "    <tr>\n",
       "      <th>3</th>\n",
       "      <td>14187-31-6</td>\n",
       "      <td>7</td>\n",
       "      <td>0</td>\n",
       "      <td>0</td>\n",
       "      <td>707</td>\n",
       "    </tr>\n",
       "    <tr>\n",
       "      <th>4</th>\n",
       "      <td>4727-50-8</td>\n",
       "      <td>9</td>\n",
       "      <td>0</td>\n",
       "      <td>0</td>\n",
       "      <td>706</td>\n",
       "    </tr>\n",
       "    <tr>\n",
       "      <th>5</th>\n",
       "      <td>18300-31-7</td>\n",
       "      <td>11</td>\n",
       "      <td>0</td>\n",
       "      <td>0</td>\n",
       "      <td>814</td>\n",
       "    </tr>\n",
       "    <tr>\n",
       "      <th>6</th>\n",
       "      <td>2197-01-5</td>\n",
       "      <td>3</td>\n",
       "      <td>0</td>\n",
       "      <td>1</td>\n",
       "      <td>424</td>\n",
       "    </tr>\n",
       "    <tr>\n",
       "      <th>7</th>\n",
       "      <td>905-97-5</td>\n",
       "      <td>5</td>\n",
       "      <td>0</td>\n",
       "      <td>1</td>\n",
       "      <td>557</td>\n",
       "    </tr>\n",
       "    <tr>\n",
       "      <th>8</th>\n",
       "      <td>514-73-8</td>\n",
       "      <td>7</td>\n",
       "      <td>0</td>\n",
       "      <td>1</td>\n",
       "      <td>651</td>\n",
       "    </tr>\n",
       "    <tr>\n",
       "      <th>9</th>\n",
       "      <td>3071-70-3</td>\n",
       "      <td>9</td>\n",
       "      <td>0</td>\n",
       "      <td>1</td>\n",
       "      <td>681</td>\n",
       "    </tr>\n",
       "    <tr>\n",
       "      <th>10</th>\n",
       "      <td>905-96-4</td>\n",
       "      <td>5</td>\n",
       "      <td>1</td>\n",
       "      <td>0</td>\n",
       "      <td>483</td>\n",
       "    </tr>\n",
       "    <tr>\n",
       "      <th>11</th>\n",
       "      <td>14806-50-9</td>\n",
       "      <td>7</td>\n",
       "      <td>1</td>\n",
       "      <td>0</td>\n",
       "      <td>579</td>\n",
       "    </tr>\n",
       "  </tbody>\n",
       "</table>\n",
       "</div>"
      ],
      "text/plain": [
       "           cas   p  hasO  hasS  lambda\n",
       "0     977-96-8   3     0     0     523\n",
       "1     605-91-4   5     0     0     604\n",
       "2    4727-49-5   7     0     0     590\n",
       "3   14187-31-6   7     0     0     707\n",
       "4    4727-50-8   9     0     0     706\n",
       "5   18300-31-7  11     0     0     814\n",
       "6    2197-01-5   3     0     1     424\n",
       "7     905-97-5   5     0     1     557\n",
       "8     514-73-8   7     0     1     651\n",
       "9    3071-70-3   9     0     1     681\n",
       "10    905-96-4   5     1     0     483\n",
       "11  14806-50-9   7     1     0     579"
      ]
     },
     "execution_count": 35,
     "metadata": {},
     "output_type": "execute_result"
    }
   ],
   "source": [
    "data=pd.read_csv(path+file)\n",
    "data"
   ]
  },
  {
   "attachments": {},
   "cell_type": "markdown",
   "metadata": {},
   "source": [
    "If we want to visualize the different molecules used in the experiment, we can convert the CAS codes into smiles and use them to generate the chemical structures"
   ]
  },
  {
   "cell_type": "code",
   "execution_count": 36,
   "metadata": {},
   "outputs": [
    {
     "data": {
      "text/html": [
       "<div>\n",
       "<style scoped>\n",
       "    .dataframe tbody tr th:only-of-type {\n",
       "        vertical-align: middle;\n",
       "    }\n",
       "\n",
       "    .dataframe tbody tr th {\n",
       "        vertical-align: top;\n",
       "    }\n",
       "\n",
       "    .dataframe thead th {\n",
       "        text-align: right;\n",
       "    }\n",
       "</style>\n",
       "<table border=\"1\" class=\"dataframe\">\n",
       "  <thead>\n",
       "    <tr style=\"text-align: right;\">\n",
       "      <th></th>\n",
       "      <th>cas</th>\n",
       "      <th>p</th>\n",
       "      <th>hasO</th>\n",
       "      <th>hasS</th>\n",
       "      <th>lambda</th>\n",
       "      <th>smiles</th>\n",
       "    </tr>\n",
       "  </thead>\n",
       "  <tbody>\n",
       "    <tr>\n",
       "      <th>0</th>\n",
       "      <td>977-96-8</td>\n",
       "      <td>3</td>\n",
       "      <td>0</td>\n",
       "      <td>0</td>\n",
       "      <td>523</td>\n",
       "      <td>[I-].CCN1C(C=Cc2ccccc12)=Cc3ccc4ccccc4[n+]3CC</td>\n",
       "    </tr>\n",
       "    <tr>\n",
       "      <th>1</th>\n",
       "      <td>605-91-4</td>\n",
       "      <td>5</td>\n",
       "      <td>0</td>\n",
       "      <td>0</td>\n",
       "      <td>604</td>\n",
       "      <td>[I-].CCN1C(=CC=Cc2ccc3ccccc3[n+]2CC)C=Cc4ccccc14</td>\n",
       "    </tr>\n",
       "    <tr>\n",
       "      <th>2</th>\n",
       "      <td>4727-49-5</td>\n",
       "      <td>7</td>\n",
       "      <td>0</td>\n",
       "      <td>0</td>\n",
       "      <td>590</td>\n",
       "      <td>[I-].CCN1C=CC(=Cc2cc[n+](CC)c3ccccc23)c4ccccc14</td>\n",
       "    </tr>\n",
       "    <tr>\n",
       "      <th>3</th>\n",
       "      <td>14187-31-6</td>\n",
       "      <td>7</td>\n",
       "      <td>0</td>\n",
       "      <td>0</td>\n",
       "      <td>707</td>\n",
       "      <td>[I-].CCN1C(=CC=CC=Cc2ccc3ccccc3[n+]2CC)C=Cc4cc...</td>\n",
       "    </tr>\n",
       "    <tr>\n",
       "      <th>4</th>\n",
       "      <td>4727-50-8</td>\n",
       "      <td>9</td>\n",
       "      <td>0</td>\n",
       "      <td>0</td>\n",
       "      <td>706</td>\n",
       "      <td>[I-].CCN1C=CC(=CC=Cc2cc[n+](CC)c3ccccc23)c4ccc...</td>\n",
       "    </tr>\n",
       "    <tr>\n",
       "      <th>5</th>\n",
       "      <td>18300-31-7</td>\n",
       "      <td>11</td>\n",
       "      <td>0</td>\n",
       "      <td>0</td>\n",
       "      <td>814</td>\n",
       "      <td>[I-].CCN1C=CC(=CC=CC=CC2=CC=[N+](C3=CC=CC=C23)...</td>\n",
       "    </tr>\n",
       "    <tr>\n",
       "      <th>6</th>\n",
       "      <td>2197-01-5</td>\n",
       "      <td>3</td>\n",
       "      <td>0</td>\n",
       "      <td>1</td>\n",
       "      <td>424</td>\n",
       "      <td>[I-].CCN1\\C(Sc2ccccc12)=C\\c3sc4ccccc4[n+]3CC</td>\n",
       "    </tr>\n",
       "    <tr>\n",
       "      <th>7</th>\n",
       "      <td>905-97-5</td>\n",
       "      <td>5</td>\n",
       "      <td>0</td>\n",
       "      <td>1</td>\n",
       "      <td>557</td>\n",
       "      <td>[I-].CCN1\\C(Sc2ccccc12)=C\\C=Cc3sc4ccccc4[n+]3CC</td>\n",
       "    </tr>\n",
       "    <tr>\n",
       "      <th>8</th>\n",
       "      <td>514-73-8</td>\n",
       "      <td>7</td>\n",
       "      <td>0</td>\n",
       "      <td>1</td>\n",
       "      <td>651</td>\n",
       "      <td>[I-].CCN1\\C(Sc2ccccc12)=C/C=C/C=Cc3sc4ccccc4[n...</td>\n",
       "    </tr>\n",
       "    <tr>\n",
       "      <th>9</th>\n",
       "      <td>3071-70-3</td>\n",
       "      <td>9</td>\n",
       "      <td>0</td>\n",
       "      <td>1</td>\n",
       "      <td>681</td>\n",
       "      <td>[I-].CCN1\\C(Sc2ccccc12)=C\\C=C\\C=CC=Cc3sc4ccccc...</td>\n",
       "    </tr>\n",
       "    <tr>\n",
       "      <th>10</th>\n",
       "      <td>905-96-4</td>\n",
       "      <td>5</td>\n",
       "      <td>1</td>\n",
       "      <td>0</td>\n",
       "      <td>483</td>\n",
       "      <td>[I-].CCN1C(/Oc2ccccc12)=C/C=Cc3oc4ccccc4[n+]3CC</td>\n",
       "    </tr>\n",
       "    <tr>\n",
       "      <th>11</th>\n",
       "      <td>14806-50-9</td>\n",
       "      <td>7</td>\n",
       "      <td>1</td>\n",
       "      <td>0</td>\n",
       "      <td>579</td>\n",
       "      <td>[I-].CCN1C(/Oc2ccccc12)=C/C=C/C=Cc3oc4ccccc4[n...</td>\n",
       "    </tr>\n",
       "  </tbody>\n",
       "</table>\n",
       "</div>"
      ],
      "text/plain": [
       "           cas   p  hasO  hasS  lambda  \\\n",
       "0     977-96-8   3     0     0     523   \n",
       "1     605-91-4   5     0     0     604   \n",
       "2    4727-49-5   7     0     0     590   \n",
       "3   14187-31-6   7     0     0     707   \n",
       "4    4727-50-8   9     0     0     706   \n",
       "5   18300-31-7  11     0     0     814   \n",
       "6    2197-01-5   3     0     1     424   \n",
       "7     905-97-5   5     0     1     557   \n",
       "8     514-73-8   7     0     1     651   \n",
       "9    3071-70-3   9     0     1     681   \n",
       "10    905-96-4   5     1     0     483   \n",
       "11  14806-50-9   7     1     0     579   \n",
       "\n",
       "                                               smiles  \n",
       "0       [I-].CCN1C(C=Cc2ccccc12)=Cc3ccc4ccccc4[n+]3CC  \n",
       "1    [I-].CCN1C(=CC=Cc2ccc3ccccc3[n+]2CC)C=Cc4ccccc14  \n",
       "2     [I-].CCN1C=CC(=Cc2cc[n+](CC)c3ccccc23)c4ccccc14  \n",
       "3   [I-].CCN1C(=CC=CC=Cc2ccc3ccccc3[n+]2CC)C=Cc4cc...  \n",
       "4   [I-].CCN1C=CC(=CC=Cc2cc[n+](CC)c3ccccc23)c4ccc...  \n",
       "5   [I-].CCN1C=CC(=CC=CC=CC2=CC=[N+](C3=CC=CC=C23)...  \n",
       "6        [I-].CCN1\\C(Sc2ccccc12)=C\\c3sc4ccccc4[n+]3CC  \n",
       "7     [I-].CCN1\\C(Sc2ccccc12)=C\\C=Cc3sc4ccccc4[n+]3CC  \n",
       "8   [I-].CCN1\\C(Sc2ccccc12)=C/C=C/C=Cc3sc4ccccc4[n...  \n",
       "9   [I-].CCN1\\C(Sc2ccccc12)=C\\C=C\\C=CC=Cc3sc4ccccc...  \n",
       "10    [I-].CCN1C(/Oc2ccccc12)=C/C=Cc3oc4ccccc4[n+]3CC  \n",
       "11  [I-].CCN1C(/Oc2ccccc12)=C/C=C/C=Cc3oc4ccccc4[n...  "
      ]
     },
     "execution_count": 36,
     "metadata": {},
     "output_type": "execute_result"
    }
   ],
   "source": [
    "data['smiles']=[ cirpy.resolve( x['cas'],'smiles') for i,x in data.iterrows() ]\n",
    "# unfortunately one of the molecules is not in the databases and we need to enter the smiles by hand\n",
    "data.loc[5,'smiles']='[I-].CCN1C=CC(=CC=CC=CC2=CC=[N+](C3=CC=CC=C23)CC)C4=CC=CC=C41'\n",
    "data"
   ]
  },
  {
   "attachments": {},
   "cell_type": "markdown",
   "metadata": {},
   "source": [
    "We can now visualize the molecule that we like"
   ]
  },
  {
   "cell_type": "code",
   "execution_count": 37,
   "metadata": {},
   "outputs": [
    {
     "data": {
      "image/png": "[encoded data removed]",
      "text/plain": [
       "<PIL.PngImagePlugin.PngImageFile image mode=RGB size=300x300>"
      ]
     },
     "metadata": {},
     "output_type": "display_data"
    }
   ],
   "source": [
    "index=0\n",
    "display(Draw.MolToImage( Chem.MolFromSmiles(data.loc[index,'smiles']), size=(300, 300) ))"
   ]
  },
  {
   "cell_type": "code",
   "execution_count": 38,
   "metadata": {},
   "outputs": [],
   "source": [
    "def lambda_FE(p,alpha=0.):\n",
    "    \"\"\"\n",
    "    \"\"\"\n",
    "    return 63.7*(p+3+alpha)**2/(p+4)"
   ]
  },
  {
   "cell_type": "code",
   "execution_count": 39,
   "metadata": {},
   "outputs": [
    {
     "data": {
      "text/html": [
       "<div>\n",
       "<style scoped>\n",
       "    .dataframe tbody tr th:only-of-type {\n",
       "        vertical-align: middle;\n",
       "    }\n",
       "\n",
       "    .dataframe tbody tr th {\n",
       "        vertical-align: top;\n",
       "    }\n",
       "\n",
       "    .dataframe thead th {\n",
       "        text-align: right;\n",
       "    }\n",
       "</style>\n",
       "<table border=\"1\" class=\"dataframe\">\n",
       "  <thead>\n",
       "    <tr style=\"text-align: right;\">\n",
       "      <th></th>\n",
       "      <th>cas</th>\n",
       "      <th>p</th>\n",
       "      <th>hasO</th>\n",
       "      <th>hasS</th>\n",
       "      <th>lambda</th>\n",
       "      <th>smiles</th>\n",
       "      <th>lambda_FE</th>\n",
       "    </tr>\n",
       "  </thead>\n",
       "  <tbody>\n",
       "    <tr>\n",
       "      <th>0</th>\n",
       "      <td>977-96-8</td>\n",
       "      <td>3</td>\n",
       "      <td>0</td>\n",
       "      <td>0</td>\n",
       "      <td>523</td>\n",
       "      <td>[I-].CCN1C(C=Cc2ccccc12)=Cc3ccc4ccccc4[n+]3CC</td>\n",
       "      <td>327.600000</td>\n",
       "    </tr>\n",
       "    <tr>\n",
       "      <th>1</th>\n",
       "      <td>605-91-4</td>\n",
       "      <td>5</td>\n",
       "      <td>0</td>\n",
       "      <td>0</td>\n",
       "      <td>604</td>\n",
       "      <td>[I-].CCN1C(=CC=Cc2ccc3ccccc3[n+]2CC)C=Cc4ccccc14</td>\n",
       "      <td>452.977778</td>\n",
       "    </tr>\n",
       "    <tr>\n",
       "      <th>2</th>\n",
       "      <td>4727-49-5</td>\n",
       "      <td>7</td>\n",
       "      <td>0</td>\n",
       "      <td>0</td>\n",
       "      <td>590</td>\n",
       "      <td>[I-].CCN1C=CC(=Cc2cc[n+](CC)c3ccccc23)c4ccccc14</td>\n",
       "      <td>579.090909</td>\n",
       "    </tr>\n",
       "    <tr>\n",
       "      <th>3</th>\n",
       "      <td>14187-31-6</td>\n",
       "      <td>7</td>\n",
       "      <td>0</td>\n",
       "      <td>0</td>\n",
       "      <td>707</td>\n",
       "      <td>[I-].CCN1C(=CC=CC=Cc2ccc3ccccc3[n+]2CC)C=Cc4cc...</td>\n",
       "      <td>579.090909</td>\n",
       "    </tr>\n",
       "    <tr>\n",
       "      <th>4</th>\n",
       "      <td>4727-50-8</td>\n",
       "      <td>9</td>\n",
       "      <td>0</td>\n",
       "      <td>0</td>\n",
       "      <td>706</td>\n",
       "      <td>[I-].CCN1C=CC(=CC=Cc2cc[n+](CC)c3ccccc23)c4ccc...</td>\n",
       "      <td>705.600000</td>\n",
       "    </tr>\n",
       "    <tr>\n",
       "      <th>5</th>\n",
       "      <td>18300-31-7</td>\n",
       "      <td>11</td>\n",
       "      <td>0</td>\n",
       "      <td>0</td>\n",
       "      <td>814</td>\n",
       "      <td>[I-].CCN1C=CC(=CC=CC=CC2=CC=[N+](C3=CC=CC=C23)...</td>\n",
       "      <td>832.346667</td>\n",
       "    </tr>\n",
       "    <tr>\n",
       "      <th>6</th>\n",
       "      <td>2197-01-5</td>\n",
       "      <td>3</td>\n",
       "      <td>0</td>\n",
       "      <td>1</td>\n",
       "      <td>424</td>\n",
       "      <td>[I-].CCN1\\C(Sc2ccccc12)=C\\c3sc4ccccc4[n+]3CC</td>\n",
       "      <td>327.600000</td>\n",
       "    </tr>\n",
       "    <tr>\n",
       "      <th>7</th>\n",
       "      <td>905-97-5</td>\n",
       "      <td>5</td>\n",
       "      <td>0</td>\n",
       "      <td>1</td>\n",
       "      <td>557</td>\n",
       "      <td>[I-].CCN1\\C(Sc2ccccc12)=C\\C=Cc3sc4ccccc4[n+]3CC</td>\n",
       "      <td>452.977778</td>\n",
       "    </tr>\n",
       "    <tr>\n",
       "      <th>8</th>\n",
       "      <td>514-73-8</td>\n",
       "      <td>7</td>\n",
       "      <td>0</td>\n",
       "      <td>1</td>\n",
       "      <td>651</td>\n",
       "      <td>[I-].CCN1\\C(Sc2ccccc12)=C/C=C/C=Cc3sc4ccccc4[n...</td>\n",
       "      <td>579.090909</td>\n",
       "    </tr>\n",
       "    <tr>\n",
       "      <th>9</th>\n",
       "      <td>3071-70-3</td>\n",
       "      <td>9</td>\n",
       "      <td>0</td>\n",
       "      <td>1</td>\n",
       "      <td>681</td>\n",
       "      <td>[I-].CCN1\\C(Sc2ccccc12)=C\\C=C\\C=CC=Cc3sc4ccccc...</td>\n",
       "      <td>705.600000</td>\n",
       "    </tr>\n",
       "    <tr>\n",
       "      <th>10</th>\n",
       "      <td>905-96-4</td>\n",
       "      <td>5</td>\n",
       "      <td>1</td>\n",
       "      <td>0</td>\n",
       "      <td>483</td>\n",
       "      <td>[I-].CCN1C(/Oc2ccccc12)=C/C=Cc3oc4ccccc4[n+]3CC</td>\n",
       "      <td>452.977778</td>\n",
       "    </tr>\n",
       "    <tr>\n",
       "      <th>11</th>\n",
       "      <td>14806-50-9</td>\n",
       "      <td>7</td>\n",
       "      <td>1</td>\n",
       "      <td>0</td>\n",
       "      <td>579</td>\n",
       "      <td>[I-].CCN1C(/Oc2ccccc12)=C/C=C/C=Cc3oc4ccccc4[n...</td>\n",
       "      <td>579.090909</td>\n",
       "    </tr>\n",
       "  </tbody>\n",
       "</table>\n",
       "</div>"
      ],
      "text/plain": [
       "           cas   p  hasO  hasS  lambda  \\\n",
       "0     977-96-8   3     0     0     523   \n",
       "1     605-91-4   5     0     0     604   \n",
       "2    4727-49-5   7     0     0     590   \n",
       "3   14187-31-6   7     0     0     707   \n",
       "4    4727-50-8   9     0     0     706   \n",
       "5   18300-31-7  11     0     0     814   \n",
       "6    2197-01-5   3     0     1     424   \n",
       "7     905-97-5   5     0     1     557   \n",
       "8     514-73-8   7     0     1     651   \n",
       "9    3071-70-3   9     0     1     681   \n",
       "10    905-96-4   5     1     0     483   \n",
       "11  14806-50-9   7     1     0     579   \n",
       "\n",
       "                                               smiles   lambda_FE  \n",
       "0       [I-].CCN1C(C=Cc2ccccc12)=Cc3ccc4ccccc4[n+]3CC  327.600000  \n",
       "1    [I-].CCN1C(=CC=Cc2ccc3ccccc3[n+]2CC)C=Cc4ccccc14  452.977778  \n",
       "2     [I-].CCN1C=CC(=Cc2cc[n+](CC)c3ccccc23)c4ccccc14  579.090909  \n",
       "3   [I-].CCN1C(=CC=CC=Cc2ccc3ccccc3[n+]2CC)C=Cc4cc...  579.090909  \n",
       "4   [I-].CCN1C=CC(=CC=Cc2cc[n+](CC)c3ccccc23)c4ccc...  705.600000  \n",
       "5   [I-].CCN1C=CC(=CC=CC=CC2=CC=[N+](C3=CC=CC=C23)...  832.346667  \n",
       "6        [I-].CCN1\\C(Sc2ccccc12)=C\\c3sc4ccccc4[n+]3CC  327.600000  \n",
       "7     [I-].CCN1\\C(Sc2ccccc12)=C\\C=Cc3sc4ccccc4[n+]3CC  452.977778  \n",
       "8   [I-].CCN1\\C(Sc2ccccc12)=C/C=C/C=Cc3sc4ccccc4[n...  579.090909  \n",
       "9   [I-].CCN1\\C(Sc2ccccc12)=C\\C=C\\C=CC=Cc3sc4ccccc...  705.600000  \n",
       "10    [I-].CCN1C(/Oc2ccccc12)=C/C=Cc3oc4ccccc4[n+]3CC  452.977778  \n",
       "11  [I-].CCN1C(/Oc2ccccc12)=C/C=C/C=Cc3oc4ccccc4[n...  579.090909  "
      ]
     },
     "execution_count": 39,
     "metadata": {},
     "output_type": "execute_result"
    }
   ],
   "source": [
    "data['lambda_FE']=lambda_FE(data['p'])\n",
    "data"
   ]
  },
  {
   "cell_type": "code",
   "execution_count": 41,
   "metadata": {},
   "outputs": [
    {
     "data": {
      "text/plain": [
       "[<matplotlib.lines.Line2D at 0x12f675c70>]"
      ]
     },
     "execution_count": 41,
     "metadata": {},
     "output_type": "execute_result"
    },
    {
     "data": {
      "image/png": "[encoded data removed]",
      "text/plain": [
       "<Figure size 640x480 with 1 Axes>"
      ]
     },
     "metadata": {},
     "output_type": "display_data"
    }
   ],
   "source": [
    "plt.scatter(data['p'],data['lambda'])\n",
    "plt.plot(data['p'],data['lambda_FE'])"
   ]
  },
  {
   "cell_type": "code",
   "execution_count": 48,
   "metadata": {},
   "outputs": [
    {
     "data": {
      "text/plain": [
       "0.521021021021021"
      ]
     },
     "execution_count": 48,
     "metadata": {},
     "output_type": "execute_result"
    },
    {
     "data": {
      "image/png": "[encoded data removed]",
      "text/plain": [
       "<Figure size 640x480 with 1 Axes>"
      ]
     },
     "metadata": {},
     "output_type": "display_data"
    }
   ],
   "source": [
    "alphas=np.linspace(0,1.5,1000)\n",
    "errors=[]\n",
    "for alpha in alphas:\n",
    "    errors.append(np.sum((lambda_FE(data['p'],alpha)-data['lambda'])**2))\n",
    "plt.plot(alphas,errors)\n",
    "alphas[np.argmin(errors)]"
   ]
  },
  {
   "cell_type": "code",
   "execution_count": null,
   "metadata": {},
   "outputs": [],
   "source": [
    "lambda_FE(data['p'],alpha"
   ]
  }
 ],
 "metadata": {
  "kernelspec": {
   "display_name": "Python 3",
   "language": "python",
   "name": "python3"
  },
  "language_info": {
   "codemirror_mode": {
    "name": "ipython",
    "version": 3
   },
   "file_extension": ".py",
   "mimetype": "text/x-python",
   "name": "python",
   "nbconvert_exporter": "python",
   "pygments_lexer": "ipython3"
  },
  "vscode": {
   "interpreter": {
    "hash": "20bf69066c0dd38d51965b69d5e1b6e387082e3198ba56e97997ac55f4e50ad0"
   }
  }
 },
 "nbformat": 4,
 "nbformat_minor": 2
}

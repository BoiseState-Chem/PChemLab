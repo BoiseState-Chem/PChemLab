{
 "cells": [
  {
   "attachments": {},
   "cell_type": "markdown",
   "metadata": {},
   "source": [
    "Dr Oliviero Andreussi, olivieroandreuss@boisestate.edu\n",
    "\n",
    "Boise State University, Department of Chemistry and Biochemistry"
   ]
  },
  {
   "attachments": {},
   "cell_type": "markdown",
   "metadata": {},
   "source": [
    "# Fitting and Data Analysis for the Bomb Calorimetry Experiment {-}"
   ]
  },
  {
   "attachments": {},
   "cell_type": "markdown",
   "metadata": {},
   "source": [
    "Before we start, let us import the main modules that we will need for this lecture. You may see some new modules in the list below, we will add more details in the right sections."
   ]
  },
  {
   "cell_type": "code",
   "execution_count": null,
   "metadata": {},
   "outputs": [],
   "source": [
    "# Import the main modules used in this worksheet\n",
    "import numpy as np\n",
    "import matplotlib.pyplot as plt\n",
    "import pandas as pd\n",
    "from sklearn.linear_model import LinearRegression"
   ]
  },
  {
   "attachments": {},
   "cell_type": "markdown",
   "metadata": {},
   "source": [
    "We need to load the Google Drive and access an example of a dataset from a calorimetry experiment. You can use the same set that I am using by downloading it from Canvas, here. Or you can use your own files. I am assuming the file in question will be located in a `Bomb_Data/` subfolder in your `Colab Notebook/` folder. I will be using a file named `BA.csv`, make sure to change this name if you use a different file."
   ]
  },
  {
   "cell_type": "code",
   "execution_count": null,
   "metadata": {},
   "outputs": [],
   "source": [
    "# Load the google drive with your files \n",
    "from google.colab import drive\n",
    "drive.mount('/content/drive')\n",
    "# The following needs to be the path of the folder with all your datafile in .csv format\n",
    "path='/content/drive/MyDrive/Colab Notebooks/Bomb_Data/'\n",
    "file='BA1.csv'"
   ]
  },
  {
   "attachments": {},
   "cell_type": "markdown",
   "metadata": {},
   "source": [
    "We can read the file into a `Pandas.DataFrame` object using the `pd.read_csv()` function. Note that the file in question has three columns and no labels for the columns. The first column contains the time of the experiment in a HH:MM:SS format, the second column contains the temperature recorded by the calorimeter, while the last column contains the time of the experiment in seconds. For what we need we can skip the first column and only read the second and third, but we need to make sure to tell `Pandas` the names of the columns we are reading."
   ]
  },
  {
   "cell_type": "code",
   "execution_count": null,
   "metadata": {},
   "outputs": [],
   "source": [
    "data=pd.read_csv(path+file,usecols=(1,2),names=['temperature','time'])\n",
    "data.head()"
   ]
  },
  {
   "attachments": {},
   "cell_type": "markdown",
   "metadata": {},
   "source": [
    "For later analysis we will need to know the end time of the experiment. There are two alternative ways to access a single cell in a `DataFrame`. The `DataFrame.iloc[i,j]` method allows to access the cells using the same indexing as `Numpy.array`. The `DataFrame.loc['index','column']` approach allows to instead use the row's index and column name.  "
   ]
  },
  {
   "cell_type": "code",
   "execution_count": null,
   "metadata": {},
   "outputs": [],
   "source": [
    "time_end=data.iloc[-1,1]\n",
    "print(data.iloc[-1,1])\n",
    "print(data.loc[len(data)-1,'time'])"
   ]
  },
  {
   "attachments": {},
   "cell_type": "markdown",
   "metadata": {},
   "source": [
    "As usual we can plot the two columns using `Matplotlib.Pyplot` functions."
   ]
  },
  {
   "cell_type": "code",
   "execution_count": null,
   "metadata": {},
   "outputs": [],
   "source": [
    "plt.plot(data['time'],data['temperature'])\n",
    "plt.xlabel('Time (s)')\n",
    "plt.ylabel('Temperature ($^{\\circ}$C)')\n",
    "plt.show()"
   ]
  },
  {
   "attachments": {},
   "cell_type": "markdown",
   "metadata": {},
   "source": [
    "How can we fit this curve to extract the important information, i.e. the jump in temperature during combustion?\n",
    "\n",
    "There are three regimes in this curve, a linear drift in temperature in the pre-ignition part, an exponential growth during combustion, and a linear drift (with negative slope) in the post-ignition part. We need to find ways to identify the boundary of the three regions and to fit the individual regimes."
   ]
  },
  {
   "attachments": {},
   "cell_type": "markdown",
   "metadata": {},
   "source": [
    "## Finding the Pre-Ignition Temperature {-}"
   ]
  },
  {
   "attachments": {},
   "cell_type": "markdown",
   "metadata": {},
   "source": [
    "The very first part of the experiment is clearly not as clean and stable as we would need. We can assume there is an initial transient time that we need to wait before being able to use our data. As this initial time is not so critical in the following fitting steps, we can just identify a reasonable starting time from the plot. "
   ]
  },
  {
   "cell_type": "code",
   "execution_count": null,
   "metadata": {},
   "outputs": [],
   "source": [
    "time_start = 150"
   ]
  },
  {
   "attachments": {},
   "cell_type": "markdown",
   "metadata": {},
   "source": [
    "However, we need to be very accurate in identifying the point in time at which the combustion starts. At that moment the datapoints start to move away from the linear (almost flat) drifting regime. We could visually inspect our data to identify the point at which the curve starts to grow in a visible fashion. Or we could try to use Python to automate this task. If we perform a linear regression fit of the drift regime the quality of the fit will decrease significantly if we include points after the pre-ignition time."
   ]
  },
  {
   "cell_type": "code",
   "execution_count": null,
   "metadata": {},
   "outputs": [],
   "source": [
    "time_preignition_guess = 340\n",
    "preignition_lr=LinearRegression()\n",
    "preignition_data=data.query('time > {} and time < {}'.format(time_start,time_preignition_guess))\n",
    "x=preignition_data['time'].values.reshape(-1,1)\n",
    "y=preignition_data['temperature'].values\n",
    "preignition_lr.fit(x,y)\n",
    "plt.plot(x,y)\n",
    "plt.plot(x,preignition_lr.predict(x))\n",
    "plt.show()"
   ]
  },
  {
   "attachments": {},
   "cell_type": "markdown",
   "metadata": {},
   "source": [
    "Using this strategy we can systematically repeat the fit as a function of time and stop when the quality of the fit drops below a certain threshold. "
   ]
  },
  {
   "cell_type": "code",
   "execution_count": null,
   "metadata": {},
   "outputs": [],
   "source": [
    "times=np.arange(200,400,10.)\n",
    "preignition_lr=LinearRegression()\n",
    "score_threshold = 0.8\n",
    "for time in times:\n",
    "    preignition_data=data.query('time > {} and time < {}'.format(time_start,time))\n",
    "    x=preignition_data['time'].values.reshape(-1,1)\n",
    "    y=preignition_data['temperature'].values\n",
    "    preignition_lr.fit(x,y)\n",
    "    if preignition_lr.score(x,y) < score_threshold : \n",
    "        time_preignition = time - 10.\n",
    "        break\n",
    "print(time_preignition)"
   ]
  },
  {
   "attachments": {},
   "cell_type": "markdown",
   "metadata": {},
   "source": [
    "## Fitting the Pre-Ignition Drift {-}"
   ]
  },
  {
   "attachments": {},
   "cell_type": "markdown",
   "metadata": {},
   "source": [
    "Now that we have determined the pre-ignition time, we can repeat the fit on the left part of the curve to get the temperature drift and temperature right before the ignition. "
   ]
  },
  {
   "cell_type": "code",
   "execution_count": null,
   "metadata": {},
   "outputs": [],
   "source": [
    "preignition_data=data.query('time > {} and time < {}'.format(time_start,time_preignition))\n",
    "x=preignition_data['time'].values.reshape(-1,1)\n",
    "y=preignition_data['temperature'].values\n",
    "preignition_lr.fit(x,y)\n",
    "temperature_preignition = preignition_lr.predict(np.array([[time_preignition]]))\n",
    "print(\"The pre-ignition time is {} s\".format(time_preignition))\n",
    "print(\"The pre-ignition temperature is {} C\".format(temperature_preignition[0]))\n",
    "print(\"The pre-ignition drift in temperature is {} C/s\".format(preignition_lr.coef_[0]))"
   ]
  },
  {
   "attachments": {},
   "cell_type": "markdown",
   "metadata": {},
   "source": [
    "We can generate the datas associated with the first linear fit, for plotting the fits together with the experiment"
   ]
  },
  {
   "cell_type": "code",
   "execution_count": null,
   "metadata": {},
   "outputs": [],
   "source": [
    "times_preignition=np.arange(0,500,10.).reshape(-1,1)\n",
    "temperatures_preignition=preignition_lr.predict(times_preignition)"
   ]
  },
  {
   "attachments": {},
   "cell_type": "markdown",
   "metadata": {},
   "source": [
    "## Fitting the Post-Ignition Drift {-}"
   ]
  },
  {
   "attachments": {},
   "cell_type": "markdown",
   "metadata": {},
   "source": [
    "We can choose the post-ignition time as we like, provided it is in the linear drift region of the data. "
   ]
  },
  {
   "cell_type": "code",
   "execution_count": null,
   "metadata": {},
   "outputs": [],
   "source": [
    "time_postignition=750"
   ]
  },
  {
   "attachments": {},
   "cell_type": "markdown",
   "metadata": {},
   "source": [
    "We can perform the fit of the post-ignition drift using again a linear regression model. This step is left as an exercise for the student"
   ]
  },
  {
   "cell_type": "code",
   "execution_count": null,
   "metadata": {},
   "outputs": [],
   "source": [
    "postignition_lr = LinearRegression()\n",
    "postignition_data = 0.0\n",
    "temperature_postignition = 0.0\n",
    "print(\"The post-ignition time is {} s\".format(time_postignition))\n",
    "print(\"The post-ignition temperature is {} C\".format(temperature_postignition))\n",
    "print(\"The post-ignition drift in temperature is {} C/s\".format(postignition_lr.coef_[0]))"
   ]
  },
  {
   "attachments": {},
   "cell_type": "markdown",
   "metadata": {},
   "source": [
    "We can generate the datas associated with the second linear fit, for plotting the fits together with the experiment"
   ]
  },
  {
   "cell_type": "code",
   "execution_count": null,
   "metadata": {},
   "outputs": [],
   "source": [
    "times_postignition=np.arange(400,time_end,10.).reshape(-1,1)\n",
    "temperatures_postignition=postignition_lr.predict(times_postignition)"
   ]
  },
  {
   "attachments": {},
   "cell_type": "markdown",
   "metadata": {},
   "source": [
    "## Fitting the Exponential Curve {-}"
   ]
  },
  {
   "attachments": {},
   "cell_type": "markdown",
   "metadata": {},
   "source": [
    "For the combustion regime we want to fit the curve with the function $T(t)=T_i + (T_f-T_i)(1-e^{-kt})$. We can recast this formula into a linear fit if we look at the data as $\\frac{T_f-T(t)}{T_f-T_i}=e^{-kt}$ and we fit the natural logarithm of the data with a linear model. For convenience we will only perform the fit from the pre-ignition time and up to a certain time, shorter than the post-ignition time used above. "
   ]
  },
  {
   "cell_type": "code",
   "execution_count": null,
   "metadata": {},
   "outputs": [],
   "source": [
    "time_exponential = 650\n",
    "exponential_data=data.query('time > {} and time < {}'.format(time_preignition,time_exponential))\n",
    "x=exponential_data['time'].values.reshape(-1,1)\n",
    "y=np.log(temperature_postignition-exponential_data['temperature'].values)\n",
    "exponential_lr=LinearRegression()\n",
    "exponential_lr.fit(x,y)\n",
    "rate = -exponential_lr.coef_[0]\n",
    "print(\"The temperature increase rate is {} 1/s\".format(rate))\n",
    "time_determination = time_preignition+1/rate\n",
    "print(\"The time at which to determine the temperature difference is {} s\".format(time_determination))"
   ]
  },
  {
   "attachments": {},
   "cell_type": "markdown",
   "metadata": {},
   "source": [
    "We can generate the datas associated with the exponential increase"
   ]
  },
  {
   "cell_type": "code",
   "execution_count": null,
   "metadata": {},
   "outputs": [],
   "source": [
    "times_exponential=np.arange(time_preignition,time_postignition,0.1).reshape(-1,1)\n",
    "temperatures_exponential=temperature_preignition + (temperature_postignition-temperature_preignition) * (1 - np.exp(rate*(time_preignition-times_exponential))) "
   ]
  },
  {
   "attachments": {},
   "cell_type": "markdown",
   "metadata": {},
   "source": [
    "Finally, having determined the time at the middle of the exponential increase we can compute the corrected temperature jump in the experiment"
   ]
  },
  {
   "cell_type": "code",
   "execution_count": null,
   "metadata": {},
   "outputs": [],
   "source": [
    "temperature_preignition_corrected = preignition_lr.predict(np.array([[time_determination]]))[0]\n",
    "temperature_postignition_corrected = postignition_lr.predict(np.array([[time_determination]]))[0]\n",
    "deltaT = temperature_postignition_corrected - temperature_preignition_corrected\n",
    "print(\"The corresponding DeltaT is {} s\".format(deltaT))"
   ]
  },
  {
   "attachments": {},
   "cell_type": "markdown",
   "metadata": {},
   "source": [
    "## Plotting the Experiments with the Fitting Curves {-}"
   ]
  },
  {
   "cell_type": "code",
   "execution_count": null,
   "metadata": {},
   "outputs": [],
   "source": [
    "plt.plot(data['time'],data['run1'],'ko',ms=2)\n",
    "plt.plot(times_preignition,temperatures_preignition)\n",
    "plt.plot(times_postignition,temperatures_postignition)\n",
    "plt.plot(times_exponential,temperatures_exponential)\n",
    "plt.xlabel('Time (s)')\n",
    "plt.ylabel('Temperature ($^{\\circ}$C)')\n",
    "plt.show()"
   ]
  }
 ],
 "metadata": {
  "kernelspec": {
   "display_name": "Python 3",
   "language": "python",
   "name": "python3"
  },
  "language_info": {
   "codemirror_mode": {
    "name": "ipython",
    "version": 3
   },
   "file_extension": ".py",
   "mimetype": "text/x-python",
   "name": "python",
   "nbconvert_exporter": "python",
   "pygments_lexer": "ipython3"
  },
  "vscode": {
   "interpreter": {
    "hash": "949777d72b0d2535278d3dc13498b2535136f6dfe0678499012e853ee9abcab1"
   }
  }
 },
 "nbformat": 4,
 "nbformat_minor": 2
}

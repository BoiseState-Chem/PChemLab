{
 "cells": [
  {
   "attachments": {},
   "cell_type": "markdown",
   "metadata": {},
   "source": [
    "Dr Oliviero Andreussi, olivieroandreuss@boisestate.edu\n",
    "\n",
    "Boise State University, Department of Chemistry and Biochemistry"
   ]
  },
  {
   "attachments": {},
   "cell_type": "markdown",
   "metadata": {},
   "source": [
    "# Fitting and Data Analysis of the Isothermal Titration Calorimetry (ITC) Experiments {-}"
   ]
  },
  {
   "cell_type": "code",
   "execution_count": null,
   "metadata": {},
   "outputs": [],
   "source": [
    "# Import the main modules used in this worksheet\n",
    "import numpy as np\n",
    "import matplotlib.pyplot as plt\n",
    "import pandas as pd\n",
    "from sklearn.linear_model import LinearRegression"
   ]
  },
  {
   "cell_type": "code",
   "execution_count": null,
   "metadata": {},
   "outputs": [],
   "source": [
    "# These modules are needed to draw chemical formulas\n",
    "!pip install rdkit cirpy\n",
    "from rdkit import Chem\n",
    "from rdkit.Chem import Draw\n",
    "import cirpy"
   ]
  },
  {
   "attachments": {},
   "cell_type": "markdown",
   "metadata": {},
   "source": [
    "Given the CAS number of a compound, we can convert it into a smile using a couple of alternative approaches. We can use the `Cirpy` module (you may need to install it first using `pip install cirpy`)"
   ]
  },
  {
   "cell_type": "code",
   "execution_count": null,
   "metadata": {},
   "outputs": [],
   "source": [
    "smiles = cirpy.resolve('108-95-2', 'smiles')\n",
    "display(Draw.MolToImage( Chem.MolFromSmiles(smiles), size=(300, 300) ))"
   ]
  },
  {
   "attachments": {},
   "cell_type": "markdown",
   "metadata": {},
   "source": [
    "Alternatively we can use a website from NIH to get the smiles from CAS numbers as follows:"
   ]
  },
  {
   "cell_type": "code",
   "execution_count": null,
   "metadata": {},
   "outputs": [],
   "source": [
    "from urllib.request import urlopen\n",
    "cas = '108-95-2'\n",
    "url = 'http://cactus.nci.nih.gov/chemical/structure/' + cas + '/smiles'\n",
    "smiles = urlopen(url).read().decode('utf8')\n",
    "display(Draw.MolToImage( Chem.MolFromSmiles(smiles), size=(300, 300) ))"
   ]
  },
  {
   "attachments": {},
   "cell_type": "markdown",
   "metadata": {},
   "source": [
    "# Plotting and Fitting ITC Curves {-}"
   ]
  },
  {
   "cell_type": "code",
   "execution_count": null,
   "metadata": {},
   "outputs": [],
   "source": [
    "# Load the google drive with your files \n",
    "from google.colab import drive\n",
    "drive.mount('/content/drive')\n",
    "# The following needs to be the path of the folder with all your datafile in .csv format\n",
    "path='/content/drive/MyDrive/Colab Notebooks/ITC_Data/'\n",
    "file_Ca_int='CaCl2_EDTA_integrated.csv'\n",
    "file_Mg_int='MgCl2_EDTA_integrated.csv'\n",
    "file_Ca_raw='CaCl2_EDTA_raw.csv'\n",
    "file_Mg_raw='MgCl2_EDTA_raw.csv'"
   ]
  },
  {
   "cell_type": "code",
   "execution_count": null,
   "metadata": {},
   "outputs": [],
   "source": [
    "Ca_raw=pd.read_csv(path+file_Ca_raw,header=0,names=['X','Y'])\n",
    "plt.plot(Ca_raw['X'],Ca_raw['Y'])"
   ]
  },
  {
   "cell_type": "code",
   "execution_count": null,
   "metadata": {},
   "outputs": [],
   "source": [
    "Ca_int=pd.read_csv(path+file_Ca_int,header=0,names=['Xfit','Yfit','X','Y'])\n",
    "plt.scatter(Ca_int['Xfit'],Ca_int['Yfit'])"
   ]
  }
 ],
 "metadata": {
  "kernelspec": {
   "display_name": "Python 3",
   "language": "python",
   "name": "python3"
  },
  "language_info": {
   "codemirror_mode": {
    "name": "ipython",
    "version": 3
   },
   "file_extension": ".py",
   "mimetype": "text/x-python",
   "name": "python",
   "nbconvert_exporter": "python",
   "pygments_lexer": "ipython3",
   "version": "3.9.6"
  },
  "vscode": {
   "interpreter": {
    "hash": "31f2aee4e71d21fbe5cf8b01ff0e069b9275f58929596ceb00d14d90e3e16cd6"
   }
  }
 },
 "nbformat": 4,
 "nbformat_minor": 2
}

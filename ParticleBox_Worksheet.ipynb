{
 "cells": [
  {
   "cell_type": "markdown",
   "metadata": {},
   "source": [
    "Student's Name and Email Address\n",
    "\n",
    "Boise State University, Department of Chemistry and Biochemistry"
   ]
  },
  {
   "attachments": {},
   "cell_type": "markdown",
   "metadata": {},
   "source": [
    "## CHEM 324: PChem Lab {-}\n",
    "# Worksheet 4: UV-Vis Particle in a Box Experiment {-}"
   ]
  },
  {
   "cell_type": "code",
   "execution_count": null,
   "metadata": {},
   "outputs": [],
   "source": [
    "# Import the main modules used in this worksheet\n",
    "import numpy as np\n",
    "import matplotlib.pyplot as plt\n",
    "import pandas as pd\n",
    "from sklearn.linear_model import LinearRegression"
   ]
  },
  {
   "attachments": {},
   "cell_type": "markdown",
   "metadata": {},
   "source": [
    "We need to load the Google Drive and access an example of a dataset from a calorimetry experiment. You can use the same set that I am using by downloading it from Canvas, [here](). Or you can use your own files. I am assuming the file in question will be located in a `ParticleBox_Data/` subfolder in your `Colab Notebook/` folder. I will be using a file named `particleinabox.csv`, make sure to change this name if you use a different file."
   ]
  },
  {
   "cell_type": "code",
   "execution_count": null,
   "metadata": {},
   "outputs": [],
   "source": [
    "# Load the google drive with your files \n",
    "from google.colab import drive\n",
    "drive.mount('/content/drive')\n",
    "# The following needs to be the path of the folder with all your datafile in .csv format\n",
    "path='/content/drive/MyDrive/Colab Notebooks/ParticleBox_Data/'\n",
    "file='particleinabox.csv'"
   ]
  },
  {
   "attachments": {},
   "cell_type": "markdown",
   "metadata": {},
   "source": [
    "In particular we can use them to draw the molecules in our experiments"
   ]
  },
  {
   "cell_type": "code",
   "execution_count": null,
   "metadata": {},
   "outputs": [],
   "source": [
    "data = pd.read_csv(path+file)"
   ]
  },
  {
   "attachments": {},
   "cell_type": "markdown",
   "metadata": {},
   "source": [
    "## Task 1: A Particle in a Box Model with no Parameters {-}"
   ]
  },
  {
   "attachments": {},
   "cell_type": "markdown",
   "metadata": {},
   "source": [
    "For the first task, we will consider the hypothesis that for all the molecules in the experiment, the electrons in $\\pi$ orbitals behave as free electrons in a one-dimensional box. The energy levels of particles in a box only depend on basic physical constants and the length of the box $L$ according to the formula $E_n=\\frac{h^2n^2}{8mL}$, where $n$ is a quantum number that identifies the step in the ladder of single-electron states. The absorption maximum will correspond to the highest occupied state being excited to the lowest unoccupied state. For a system with $N$ $\\pi$ electrons, the difference in energy between the two states is $\\Delta E = \\frac{h^2}{8mL}(N+1)$, which corresponds to an absorption wavelength of $\\lambda^{FE}=\\frac{8mc}{h}\\frac{L^2}{N+1}$. For the conjugated systems in our experiments, the number of electrons is $N=p+3$ and the length of the box can be assumed to be $L=(p+3)l$, where $p$ is the number of carbon atoms in between the two nitrogens, while $l=0.139$ nm is the typical C-C bond length in aromatic systems. Accounting for all the constants, the free electrons (particle in a box) prediction for the absorption maximum is $\\lambda^{FE}(\\textrm{in nm})=63.7\\frac{(p+3)^2}{p+4}$.\n",
    "\n",
    "* For each molecule, compute the expected absorption maximum in the free electron (particle in a box) picture using the formula above in terms of $p$. Compute the deviation from the experiments of this model in terms of the sum of errors squared, i.e. $RSS=\\sum_i(\\lambda^{exp}_i-\\lambda^{FE}_i)^2$\n",
    "* Make a scatter plot of the experimental absorption maximum for all the molecules together with your prediction. Compute the coefficient of determination $R^2=1-RSS/TSS$ from the residual sum of square and the total sum of squares, $TSS=\\sum_i(\\lambda^{exp}_i-\\bar{\\lambda}^{exp})^2$."
   ]
  },
  {
   "attachments": {},
   "cell_type": "markdown",
   "metadata": {},
   "source": [
    "## Task 2: A Single-Parameter Model {-}"
   ]
  },
  {
   "attachments": {},
   "cell_type": "markdown",
   "metadata": {},
   "source": [
    "The model described above is clearly simplified. We could try to improve it by including the effect of the aromatic rings on the potential of the box. For example, we could assume that the presence of the aromatic rings soften the box, so that the effective lenght is a bit larger than the one used above. This could be achieved by introducing an empirical parameter $\\alpha$ in the equation, as follows $\\lambda^{FE}(\\textrm{in nm})=63.7\\frac{(p+3+\\alpha)^2}{p+4}$.\n",
    "The parameter $\\alpha$ needs to be determined from the experimental results (fit). Similar to standard least-squares fit, we want to identify the value of the parameter that minimizes the sum of errors squared, i.e. the $RSS$. This can be done in a few alternative ways: \n",
    "\n",
    "* Given the experimental values of $\\lambda$, we could compute the optimal alpha for each molecule and than take the average over all the molecules.\n",
    "* More accurately, we could generate a range of values of $\\alpha$ and for each of them compute the $RSS$. The best fit is the one for which the $RSS$ is the lowest. \n",
    "* We could linearize the dependence on $p$ in the formula above and use linear regression to fit the experimental data. From the slope and/or intercept we could estimate $\\alpha$. \n",
    "\n",
    "Choose one of the approaches above and determine the value of $\\alpha$ the best reproduces the experiments. Plot the experimental points together with the fitted model and compute the $R^2$ of the fit. "
   ]
  },
  {
   "attachments": {},
   "cell_type": "markdown",
   "metadata": {},
   "source": [
    "## Task 3: Fitting Different Series {-}"
   ]
  },
  {
   "attachments": {},
   "cell_type": "markdown",
   "metadata": {},
   "source": [
    "We could extend the idea above by introducing more empirical parameters in the model. In particular, the size and shape of the one-dimensional box may be affected by the presence of sulfur or oxygen atoms at the two edges. For this reason, we want to investigate the possibility to improve our particle in a box model by individually fitting the three different series of molecules: the ones with no S nor O, the ones containing S, and the ones containing O. The dataset contains two additional variables ('hasS' and 'hasO') that you can use to filter the entries. \n",
    "\n",
    "* Repeat the calculations above to individually fit the particle-in-a-box model for the three series of molecules and compute the relative $R^2$ values. \n",
    "* Make a scatter plot in which the three series of molecules are reported with different colors and markers. Add the three fits to the plot.\n",
    "* For each series of molecules, plot the measured UV-Vis spectra showing the changes in electronic excitations as the conjugation increases. You can use Python (recommended) or any other tool to prepare these Figures. \n",
    "* Comment on your results (2-3 sentences). Is the improvement in the models significant enough to justify adding more parameter? Do the fitted parameters have a chemical/physical meaning? "
   ]
  },
  {
   "attachments": {},
   "cell_type": "markdown",
   "metadata": {},
   "source": [
    "YOUR COMMENTS HERE"
   ]
  },
  {
   "attachments": {},
   "cell_type": "markdown",
   "metadata": {},
   "source": [
    "## Task 4: Multivariate Fits {-}"
   ]
  },
  {
   "attachments": {},
   "cell_type": "markdown",
   "metadata": {},
   "source": [
    "While the particle-in-a-box fitting is motivated by physical reasons, we could try to fit all our data with a linear model but using a multivariate regression, i.e. by using multiple independent variables (features) for our fit. In particular, we could use both the number of carbon atoms and the two categorical variables 'hasS' and 'hasO' as independent variables for our linear regression algorithm. \n",
    "\n",
    "* Perform a linear regression using 'p', 'hasS', ans 'hasO' as features to predict 'lamba'. How many parameters are we fitting in this model? What is the resulting $R^2$? \n",
    "* Make a scatter plot of the experimental data and of the predicted data from the model.  \n"
   ]
  },
  {
   "attachments": {},
   "cell_type": "markdown",
   "metadata": {},
   "source": [
    "Using features related to the molecular structure to predict molecular properties is becoming a common strategy in machine-learning for chemical applications. The two features that we used above have obvious reasons to be linked to the absorption maximum, as we have seen when discussing the particle-in-a-box physics-based models. However, it is possible that other characteristics of the molecules have some strong connection with their excitation energies. Is there a single variable or a combination of variables that can predict the experimental absorption maximumum with higher accuracy? \n",
    "\n",
    "* Explore different variables that could be linked to the absorption maximum. For example, you may consider the total number of aromatic C, the total number of heteroatoms, the first two digits of the CAS code, etc. \n",
    "* Plot your best results and comment on this approach."
   ]
  },
  {
   "attachments": {},
   "cell_type": "markdown",
   "metadata": {},
   "source": [
    "YOUR COMMENTS HERE"
   ]
  }
 ],
 "metadata": {
  "kernelspec": {
   "display_name": "Python 3",
   "language": "python",
   "name": "python3"
  },
  "language_info": {
   "codemirror_mode": {
    "name": "ipython",
    "version": 3
   },
   "file_extension": ".py",
   "mimetype": "text/x-python",
   "name": "python",
   "nbconvert_exporter": "python",
   "pygments_lexer": "ipython3"
  },
  "vscode": {
   "interpreter": {
    "hash": "20bf69066c0dd38d51965b69d5e1b6e387082e3198ba56e97997ac55f4e50ad0"
   }
  }
 },
 "nbformat": 4,
 "nbformat_minor": 2
}

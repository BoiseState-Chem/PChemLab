{
 "cells": [
  {
   "attachments": {},
   "cell_type": "markdown",
   "metadata": {},
   "source": [
    "Student's Name and Email Address\n",
    "\n",
    "Boise State University, Department of Chemistry and Biochemistry"
   ]
  },
  {
   "attachments": {},
   "cell_type": "markdown",
   "metadata": {},
   "source": [
    "## CHEM 324: PChem Lab {-}\n",
    "# Worksheet 6: Vibrational-Rotational Spectroscopy of HCl and DCl {-}"
   ]
  },
  {
   "cell_type": "code",
   "execution_count": null,
   "metadata": {},
   "outputs": [],
   "source": [
    "# Import the main modules used in this worksheet\n",
    "import numpy as np\n",
    "import matplotlib.pyplot as plt\n",
    "import pandas as pd\n",
    "from sklearn.linear_model import LinearRegression"
   ]
  },
  {
   "cell_type": "code",
   "execution_count": null,
   "metadata": {},
   "outputs": [],
   "source": [
    "# I am assuming the file in question will be located in a `RoVib_Data/` subfolder in your `Colab Notebook/` folder. \n",
    "# I will be using files named `H35Cl_peaks.csv`,`H37Cl_peaks.csv`,`D35Cl_peaks.csv`,`D37Cl_peaks.csv`\n",
    "# Make sure to change these names if you use different files.\n",
    "# Load the google drive with your files \n",
    "from google.colab import drive\n",
    "drive.mount('/content/drive')\n",
    "# The following needs to be the path of the folder with all your datafile in .csv format\n",
    "path='/content/drive/MyDrive/Colab Notebooks/RoVib_Data/'"
   ]
  },
  {
   "attachments": {},
   "cell_type": "markdown",
   "metadata": {},
   "source": [
    "## Task 1: Spectra and Peaks {-}"
   ]
  },
  {
   "attachments": {},
   "cell_type": "markdown",
   "metadata": {},
   "source": [
    "* Plot the two IR absorption spectra for HCl and DCl. Make sure you center your figures on the relevant parts of the spectra. Try to make all the relevant peaks visible in the figures. \n",
    "* Use one or more tables to report the positions of the peaks with the associated quantum number $m$ for the four molecules involved in the experiments ($H ^{35}Cl$, $H ^{37}Cl$, $D ^{35}Cl$, $D ^{37}Cl$) "
   ]
  },
  {
   "cell_type": "code",
   "execution_count": null,
   "metadata": {},
   "outputs": [],
   "source": [
    "HCl_file='HCl_0.5cm_4scans.csv'\n",
    "HCl_spectra=pd.read_csv(path+HCl_file,header=3,names=['frequency','absorbance'])\n",
    "DCl_file='DCl_0.5cm_4scans.csv'\n",
    "DCl_spectra=pd.read_csv(path+DCl_file,header=3,names=['frequency','absorbance'])"
   ]
  },
  {
   "cell_type": "code",
   "execution_count": null,
   "metadata": {},
   "outputs": [],
   "source": [
    "H35Cl_peaks=pd.read_csv(path+'H35Cl_peaks.csv')\n",
    "H37Cl_peaks=pd.read_csv(path+'H37Cl_peaks.csv')\n",
    "D35Cl_peaks=pd.read_csv(path+'D35Cl_peaks.csv')\n",
    "D37Cl_peaks=pd.read_csv(path+'D37Cl_peaks.csv')"
   ]
  },
  {
   "attachments": {},
   "cell_type": "markdown",
   "metadata": {},
   "source": [
    "## Task 2: Molecular Properties from Polynomial Fit of Peaks {-}"
   ]
  },
  {
   "attachments": {},
   "cell_type": "markdown",
   "metadata": {},
   "source": [
    "The frequencies of the peaks in the IR spectra are related to an effective quantum number $m$ by a cubic relation that involves some important molecular properties \n",
    "\n",
    "$\\tilde{\\nu}(m)=\\tilde{\\nu}_0+(2B_e-2\\alpha _e)m-\\alpha _em^2 -4D_em^3$\n",
    "\n",
    "* Perform a polynomial fit (cubic) on the measured peaks as a function of $m$ for the four molecules involved in the experiments ($H ^{35}Cl$, $H ^{37}Cl$, $D ^{35}Cl$, $D ^{37}Cl$).  \n",
    "* By performing the basic algebra involved in Eq. 10 of the handout, compute and report the fundamental vibrational frequency, $\\tilde{\\nu}_0$, the rotational constant, $B_e$, the rovibrational coupling constant, $\\alpha _e$, and the centrifugal distortion constant, $D_e$, for all the molecules involved in the experiments.\n",
    "NOTE: you should report the measured quantities with an appropriate number of digits and units. "
   ]
  },
  {
   "attachments": {},
   "cell_type": "markdown",
   "metadata": {},
   "source": [
    "## Task 3: Isotope Effect and Rotational Constants {-}"
   ]
  },
  {
   "attachments": {},
   "cell_type": "markdown",
   "metadata": {},
   "source": [
    "The rotational constant is related to the moment of inertia of the molecule in the equilibrium configuration, $I_e$, by\n",
    "\n",
    "$B_e=\\frac{h}{8\\pi^2I_ec}$\n",
    "\n",
    "where $h$ is Planck's constant and $c$ is the speed of light. For a diatomic molecule, the moment of intertia is given by \n",
    "\n",
    "$I=\\mu r^2$\n",
    "\n",
    "where $r$ is the internuclear distance and $\\mu$ is the reduced mass. For a diatomic molecule with atoms of masses $m_1$ and $m_2$, the reduced mass is given by $\\mu=m_1m_2/(m_1+m_2)$\n",
    "\n",
    "* Compute and report the reduced masses of the different molecules involved in the experiment. \n",
    "* Compute and report the internuclear distance between the H and Cl atoms using your experimentally determined rotational constants. Is the distance the same for different isotopes?"
   ]
  },
  {
   "cell_type": "code",
   "execution_count": null,
   "metadata": {},
   "outputs": [],
   "source": [
    "# The masses of the different H and Cl isotopes involved in the experiments are reported in the following\n",
    "H_mass = 1.007825\n",
    "D_mass = 2.014102\n",
    "Cl35_mass = 34.968853\n",
    "Cl37_mass = 36.965903"
   ]
  },
  {
   "attachments": {},
   "cell_type": "markdown",
   "metadata": {},
   "source": [
    "* The ratio between reduced masses is inversely related to the ratio between rotational constants (see Eq. 11 of the handout): $\\frac{B^*_e}{B_e}=\\frac{\\mu}{\\mu^*}$. Compare the ratios obtained from the experiments with the ones computed from the known atomic masses of the different isotopes."
   ]
  },
  {
   "attachments": {},
   "cell_type": "markdown",
   "metadata": {},
   "source": [
    "## Task 4: Vibrational Constants and Vibrational Partition Function {-}"
   ]
  },
  {
   "attachments": {},
   "cell_type": "markdown",
   "metadata": {},
   "source": [
    "Apart from the change in the rotational constants (due to the change in the moment of inertia of the molecule) an isotopic substitution in a diatomic molecule will also affect its vibrational frequency. The fundamental vibrational frequency of a diatomic molecule can be expressed in terms of a harmonic vibrational frequency for a vibration around the equilibrium bond lenght, $\\tilde{\\nu}_e$, and an anharmonic correction proportional to $x_e$ as \n",
    "\n",
    "$\\tilde{\\nu}_0=\\tilde{\\nu}_e-2\\tilde{\\nu}_e x_e.$\n",
    "\n",
    "When considering the isotope effect on vibrational frequencies of diatomic molecules, the expression above can be modified into\n",
    "\n",
    "$\\tilde{\\nu}^*_0=\\tilde{\\nu}_e\\left(\\frac{\\mu}{\\mu^*}\\right)^{1/2}-2\\tilde{\\nu}_e x_e\\frac{\\mu}{\\mu^*}$\n",
    "\n",
    "* By following the algebraic procedure outlined in the document \"Methods to solve for Rovibrational Constants\", use the experimental results for the rotational constants, $B_e$, and the fundamental vibrational frequencies, $\\tilde{\\nu}_0$, for the four molecules to determine and report the values of $\\tilde{\\nu}_e$ and $x_e$."
   ]
  },
  {
   "attachments": {},
   "cell_type": "markdown",
   "metadata": {},
   "source": [
    "The harmonic frequency of a diatomic molecule is related to the force constant of the bond, $k$, and the reduced mass by the following relation\n",
    "\n",
    "$\\tilde{\\nu}_e = \\frac{1}{2\\pi}\\sqrt{\\frac{k}{\\mu}}$\n",
    "\n",
    "* Determine the force constants for the H-Cl bond from the harmonic vibrational frequency obtained above for the four different molecules considered in the experiment. Does the force constant depend on the isotopes? "
   ]
  },
  {
   "attachments": {},
   "cell_type": "markdown",
   "metadata": {},
   "source": [
    "The thermodynamic quantities for an ideal gas can usually be expressed as a sum of translational, rotational, and vibrational contributions. For the molar heat capacity at constant volume, $\\tilde{C}_v$, the translational and rotational contributions at room temperature and above are constant and equal to $\\tilde{C}_v(\\mathrm{trans})=\\frac{3}{2}R$ and $\\tilde{C}_v(\\mathrm{rot})=R$. However, the vibrational contribution will depend on temperature as (see Eq. 20 of the handout)\n",
    "\n",
    "$\\tilde{C}_v(\\mathrm{vib})=R\\frac{u^2e^{-u}}{(1-e^{-u})^2}$\n",
    "\n",
    "where $u=1.4388\\tilde{\\nu}/T$. \n",
    "\n",
    "* Using your values of $\\tilde{\\nu}_0$ for HCl and DCl, calculate and plot $\\tilde{C}_v(\\mathrm{vib})$ as a function of temperature, from room temperature to 1000 K. "
   ]
  },
  {
   "cell_type": "code",
   "execution_count": null,
   "metadata": {},
   "outputs": [],
   "source": [
    "# This cell is used to allow Google Colab to install the tools to convert the notebook to a pdf file\n",
    "# Un-comment the following lines when you are ready to export the pdf \n",
    "#!apt-get install texlive texlive-xetex texlive-latex-extra pandoc\n",
    "#!pip install pypandoc"
   ]
  },
  {
   "cell_type": "code",
   "execution_count": null,
   "metadata": {},
   "outputs": [],
   "source": [
    "# Use this command to convert the finished worksheet into a pdf \n",
    "# NOTE : you may want to change the path of the file, if you are working in a different folder of the Google Drive\n",
    "#!jupyter nbconvert --no-input --to PDF \"/content/drive/MyDrive/Colab Notebooks/RoVib_Worksheet.ipynb\""
   ]
  }
 ],
 "metadata": {
  "kernelspec": {
   "display_name": "Python 3",
   "language": "python",
   "name": "python3"
  },
  "language_info": {
   "codemirror_mode": {
    "name": "ipython",
    "version": 3
   },
   "file_extension": ".py",
   "mimetype": "text/x-python",
   "name": "python",
   "nbconvert_exporter": "python",
   "pygments_lexer": "ipython3"
  }
 },
 "nbformat": 4,
 "nbformat_minor": 2
}

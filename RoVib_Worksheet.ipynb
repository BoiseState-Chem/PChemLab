{
 "cells": [
  {
   "attachments": {},
   "cell_type": "markdown",
   "metadata": {},
   "source": [
    "Student's Name and Email Address\n",
    "\n",
    "Boise State University, Department of Chemistry and Biochemistry"
   ]
  },
  {
   "attachments": {},
   "cell_type": "markdown",
   "metadata": {},
   "source": [
    "## CHEM 324: PChem Lab {-}\n",
    "# Worksheet 6: Vibrational-Rotational Spectroscopy of HCl and DCl {-}"
   ]
  },
  {
   "cell_type": "code",
   "execution_count": null,
   "metadata": {},
   "outputs": [],
   "source": [
    "# Import the main modules used in this worksheet\n",
    "import numpy as np\n",
    "import matplotlib.pyplot as plt\n",
    "import pandas as pd\n",
    "from sklearn.linear_model import LinearRegression"
   ]
  },
  {
   "cell_type": "code",
   "execution_count": null,
   "metadata": {},
   "outputs": [],
   "source": [
    "# I am assuming the file in question will be located in a `RoVib_Data/` subfolder in your `Colab Notebook/` folder. \n",
    "# I will be using files named `H35Cl_peaks.csv`,`H37Cl_peaks.csv`,`D35Cl_peaks.csv`,`D37Cl_peaks.csv`\n",
    "# Make sure to change these names if you use different files.\n",
    "# Load the google drive with your files \n",
    "from google.colab import drive\n",
    "drive.mount('/content/drive')\n",
    "# The following needs to be the path of the folder with all your datafile in .csv format\n",
    "path='/content/drive/MyDrive/Colab Notebooks/ParticleBox_Data/'"
   ]
  },
  {
   "attachments": {},
   "cell_type": "markdown",
   "metadata": {},
   "source": [
    "## Task 1: Spectra and Peaks {-}"
   ]
  },
  {
   "attachments": {},
   "cell_type": "markdown",
   "metadata": {},
   "source": [
    "* Plot the two IR absorption spectra for HCl and DCl. Make sure you center your figures on the relevant parts of the spectra. Try to make all the relevant peaks visible in the figures. \n",
    "* Use one or more tables to report the positions of the peaks with the associated quantum number $m$ for the four molecules involved in the experiments ($H ^{35}Cl$, $H ^{37}Cl$, $D ^{35}Cl$, $D ^{37}Cl$) "
   ]
  },
  {
   "cell_type": "code",
   "execution_count": null,
   "metadata": {},
   "outputs": [],
   "source": [
    "HCl_file='HCl_0.5cm_4scans.csv'\n",
    "HCl_spectra=pd.read_csv(path+HCl_file,header=3,names=['frequency','absorbance'])\n",
    "DCl_file='DCl_0.5cm_4scans.csv'\n",
    "DCl_spectra=pd.read_csv(path+HCl_file,header=3,names=['frequency','absorbance'])"
   ]
  },
  {
   "cell_type": "code",
   "execution_count": null,
   "metadata": {},
   "outputs": [],
   "source": [
    "H35Cl_peaks=pd.read_csv(path+'H35Cl_peaks.csv')\n",
    "H37Cl_peaks=pd.read_csv(path+'H37Cl_peaks.csv')\n",
    "D35Cl_peaks=pd.read_csv(path+'D35Cl_peaks.csv')\n",
    "D37Cl_peaks=pd.read_csv(path+'D37Cl_peaks.csv')"
   ]
  },
  {
   "attachments": {},
   "cell_type": "markdown",
   "metadata": {},
   "source": [
    "## Task 2: Molecular Properties from Polynomial Fit of Peaks {-}"
   ]
  },
  {
   "attachments": {},
   "cell_type": "markdown",
   "metadata": {},
   "source": [
    "* Perform a polynomial fit (cubic) on the measured peaks for the four molecules involved in the experiments ($H ^{35}Cl$, $H ^{37}Cl$, $D ^{35}Cl$, $D ^{37}Cl$).  \n",
    "* By performing the basic algebra involved in Eq. 10 of the handout, compute and report the fundamental vibrational frequency, $\\tilde{\\nu}_0$, the rotational constant, $B_e$, the rovibrational coupling constant, $\\alpha _e$, and the centrifugal distortion constant, $D_e$, for all the molecules involved in the experiments.\n",
    "NOTE: you should report the measured quantities with the appropriate number of digits and units. "
   ]
  },
  {
   "attachments": {},
   "cell_type": "markdown",
   "metadata": {},
   "source": [
    "## Task 3: Isotope Effect {-}"
   ]
  },
  {
   "attachments": {},
   "cell_type": "markdown",
   "metadata": {},
   "source": [
    "* Compute and report the reduced masses of the different molecules involved in the experiment. For a diatomic molecule with atoms of masses $m_1$ and $m_2$, the reduced mass is given by $\\mu=m_1m_2/(m_1+m_2)$\n",
    "* Verify that the measured fundamental vibrational frequencies, $\\tilde{\\nu}_0$, satisfy the isotope effect relation (Eq. 16 of the handout), namely that\n",
    "  $\\tilde{\\nu}^*_0=\\tilde{\\nu}_e\\left(\\frac{\\mu}{\\mu^*}\\right)^{1/2}-2\\tilde{\\nu}_e x_e\\frac{\\mu}{\\mu^*}$\n",
    "  where $\\tilde{\\nu}_e$ is the fundamental harmonic frequency of the molecule vibrating around its equilibrium position, while $x_e$ is related to the anharmonicity of the bond vibration.\n",
    "* By using the results for HCl and DCl, determine and report the value of $\\tilde{\\nu}_e$ and $x_e$ "
   ]
  },
  {
   "cell_type": "code",
   "execution_count": null,
   "metadata": {},
   "outputs": [],
   "source": [
    "# The masses of the different H and Cl isotopes involved in the experiments are reported in the following\n",
    "H_mass = 1.007825\n",
    "D_mass = 2.014102\n",
    "Cl35_mass = 34.968853\n",
    "Cl37_mass = 36.965903"
   ]
  },
  {
   "attachments": {},
   "cell_type": "markdown",
   "metadata": {},
   "source": [
    "## Task 4: Vibrational Partition Function {-}"
   ]
  },
  {
   "attachments": {},
   "cell_type": "markdown",
   "metadata": {},
   "source": [
    "The thermodynamic quantities for an ideal gas can usually be expressed as a sum of translational, rotational, and vibrational contributions. For the molar heat capacity at constant volume, $\\tilde{C}_v$, the translational and rotational contributions at room temperature and above are constant and equal to $\\tilde{C}_v(\\mathrm{trans})=\\frac{3}{2}R$ and $\\tilde{C}_v(\\mathrm{rot})=R$. However, the vibrational contribution will depend on temperature as (see Eq. 20 of the handout)\n",
    "\n",
    "$\\tilde{C}_v(\\mathrm{vib})=R\\frac{u^2e^{-u}}{(1-e^{-u})^2}$\n",
    "\n",
    "where $u=1.4388\\tilde{\\nu}/T$. \n",
    "\n",
    "* Using your values of $\\tilde{\\nu}_0$ for HCl and DCl, calculate and plot $\\tilde{C}_v(\\mathrm{vib})$ as a function of temperature, from room temperature to 1000 K. "
   ]
  }
 ],
 "metadata": {
  "kernelspec": {
   "display_name": "Python 3",
   "language": "python",
   "name": "python3"
  },
  "language_info": {
   "codemirror_mode": {
    "name": "ipython",
    "version": 3
   },
   "file_extension": ".py",
   "mimetype": "text/x-python",
   "name": "python",
   "nbconvert_exporter": "python",
   "pygments_lexer": "ipython3"
  }
 },
 "nbformat": 4,
 "nbformat_minor": 2
}

{
 "cells": [
  {
   "cell_type": "markdown",
   "metadata": {},
   "source": [
    "Student's Name and Email Address\n",
    "\n",
    "Boise State University, Department of Chemistry and Biochemistry"
   ]
  },
  {
   "attachments": {},
   "cell_type": "markdown",
   "metadata": {},
   "source": [
    "## CHEM 324: PChem Lab {-}\n",
    "# Worksheet 5: ITC of $MgCl_2$ and $CaCl_2$ with EDTA {-}"
   ]
  },
  {
   "cell_type": "code",
   "execution_count": 3,
   "metadata": {},
   "outputs": [],
   "source": [
    "# Import the main modules used in this worksheet\n",
    "import numpy as np\n",
    "import matplotlib.pyplot as plt\n",
    "import pandas as pd\n",
    "from sklearn.linear_model import LinearRegression"
   ]
  },
  {
   "cell_type": "code",
   "execution_count": 27,
   "metadata": {},
   "outputs": [],
   "source": [
    "# Load the google drive with your files \n",
    "#from google.colab import drive\n",
    "#drive.mount('/content/drive')\n",
    "# The following needs to be the path of the folder with all your datafile in .csv format\n",
    "#path='/content/drive/MyDrive/Colab Notebooks/ITC_Data/'\n",
    "path='ITC_Data/'\n",
    "file_Ca_int='CaCl2_EDTA_integrated.csv'\n",
    "file_Mg_int='MgCl2_EDTA_integrated.csv'\n",
    "file_Ca_raw='CaCl2_EDTA_raw.csv'\n",
    "file_Mg_raw='MgCl2_EDTA_raw.csv'"
   ]
  },
  {
   "attachments": {},
   "cell_type": "markdown",
   "metadata": {},
   "source": [
    "## Task 1: Ca vs Mg {-}\n",
    "Two ITC measurements were performed on a magnesium ($Mg$) and calcium ($Ca$) systems. Plot the two results and describe in 2-3 sentences why, based on the data, one is exothermic and one is endothermic. "
   ]
  },
  {
   "cell_type": "code",
   "execution_count": 28,
   "metadata": {},
   "outputs": [],
   "source": [
    "plt.show()"
   ]
  },
  {
   "attachments": {},
   "cell_type": "markdown",
   "metadata": {},
   "source": [
    "YOUR COMMENTS HERE"
   ]
  },
  {
   "attachments": {},
   "cell_type": "markdown",
   "metadata": {},
   "source": [
    "## Task 2: Thermodynamics of Binding"
   ]
  },
  {
   "attachments": {},
   "cell_type": "markdown",
   "metadata": {},
   "source": [
    "From the integrated curves it is possible to determine the main thermodynamic properties of the $Ca^{2+}$ and $Mg^{2+}$ binding to ethylenediaminetetraacetic acid (EDTA) in a HES buffer at a pH of 6.\n",
    "* Use the first and last points in the integrated datasets to determine the binding enthalpy $\\Delta H$ for the two systems.\n",
    "* Perform a linear fit of the integrated curves in the transition region. From the slopes of the linear regression models you can obtain the binding constants ($k^{bind}$) for the two processes. \n",
    "* Report the experimental binding stoichiometry. Provide a one or two sentence explanation on why the stoichiometry is not exactly equal to 1. \n",
    "* From the binding constants, compute the binding free energy ($\\Delta G$) and the binding entropy ($\\Delta S$) for the two systems."
   ]
  },
  {
   "cell_type": "code",
   "execution_count": null,
   "metadata": {},
   "outputs": [],
   "source": []
  },
  {
   "attachments": {},
   "cell_type": "markdown",
   "metadata": {},
   "source": [
    "YOUR COMMENTS HERE"
   ]
  },
  {
   "attachments": {},
   "cell_type": "markdown",
   "metadata": {},
   "source": [
    "## Task 3: Endothermic vs. Exothermic {-}"
   ]
  },
  {
   "attachments": {},
   "cell_type": "markdown",
   "metadata": {},
   "source": [
    "The fact that a binding process is endothermic or exothermic depends significantly on the binding agent and on the environment conditions.\n",
    "* Visualize the structures of EDTA (CAS number 6381-92-6) and MES (CAS number 4432-31-9). \n",
    "* Based on the structures, argue why one reaction is exothermic and one endothermic. (Tipp: Effective Charge Ions, pkA values EDTA functional groups)"
   ]
  },
  {
   "cell_type": "code",
   "execution_count": null,
   "metadata": {},
   "outputs": [],
   "source": []
  },
  {
   "attachments": {},
   "cell_type": "markdown",
   "metadata": {},
   "source": [
    "YOUR COMMENTS HERE"
   ]
  },
  {
   "attachments": {},
   "cell_type": "markdown",
   "metadata": {},
   "source": [
    "* What would happen to the reaction with EDTA (exothermic vs. endothermic) if the experiments were performed at a) pH 3 and b) pH 11?"
   ]
  },
  {
   "attachments": {},
   "cell_type": "markdown",
   "metadata": {},
   "source": [
    "YOUR COMMENTS HERE"
   ]
  },
  {
   "attachments": {},
   "cell_type": "markdown",
   "metadata": {},
   "source": [
    "## Task 4: Sources of Errors {-}"
   ]
  },
  {
   "attachments": {},
   "cell_type": "markdown",
   "metadata": {},
   "source": [
    "ITC experiments can be tricky. Name two major sources of error that can occur and explain in 1-2 sentences why that can negatively affect the measurements. "
   ]
  },
  {
   "attachments": {},
   "cell_type": "markdown",
   "metadata": {},
   "source": [
    "YOUR COMMENTS HERE"
   ]
  },
  {
   "cell_type": "code",
   "execution_count": 29,
   "metadata": {},
   "outputs": [],
   "source": [
    "# This cell is used to allow Google Colab to install the tools to convert the notebook to a pdf file\n",
    "# Un-comment the following lines when you are ready to export the pdf \n",
    "#!apt-get install texlive texlive-xetex texlive-latex-extra pandoc\n",
    "#!pip install pypandoc"
   ]
  },
  {
   "cell_type": "code",
   "execution_count": 34,
   "metadata": {},
   "outputs": [
    {
     "name": "stdout",
     "output_type": "stream",
     "text": [
      "[NbConvertApp] Converting notebook ./ITC_Worksheet.ipynb to PDF\n",
      "[NbConvertApp] ERROR | Error while converting './ITC_Worksheet.ipynb'\n",
      "Traceback (most recent call last):\n",
      "  File \"/Users/oliviero/Library/Python/3.9/lib/python/site-packages/nbconvert/nbconvertapp.py\", line 483, in export_single_notebook\n",
      "    output, resources = self.exporter.from_filename(\n",
      "  File \"/Users/oliviero/Library/Python/3.9/lib/python/site-packages/nbconvert/exporters/templateexporter.py\", line 383, in from_filename\n",
      "    return super().from_filename(filename, resources, **kw)  # type:ignore\n",
      "  File \"/Users/oliviero/Library/Python/3.9/lib/python/site-packages/nbconvert/exporters/exporter.py\", line 198, in from_filename\n",
      "    return self.from_file(f, resources=resources, **kw)\n",
      "  File \"/Users/oliviero/Library/Python/3.9/lib/python/site-packages/nbconvert/exporters/templateexporter.py\", line 389, in from_file\n",
      "    return super().from_file(file_stream, resources, **kw)  # type:ignore\n",
      "  File \"/Users/oliviero/Library/Python/3.9/lib/python/site-packages/nbconvert/exporters/exporter.py\", line 217, in from_file\n",
      "    return self.from_notebook_node(\n",
      "  File \"/Users/oliviero/Library/Python/3.9/lib/python/site-packages/nbconvert/exporters/pdf.py\", line 181, in from_notebook_node\n",
      "    latex, resources = super().from_notebook_node(nb, resources=resources, **kw)\n",
      "  File \"/Users/oliviero/Library/Python/3.9/lib/python/site-packages/nbconvert/exporters/latex.py\", line 76, in from_notebook_node\n",
      "    return super().from_notebook_node(nb, resources, **kw)\n",
      "  File \"/Users/oliviero/Library/Python/3.9/lib/python/site-packages/nbconvert/exporters/templateexporter.py\", line 421, in from_notebook_node\n",
      "    output = self.template.render(nb=nb_copy, resources=resources)\n",
      "  File \"/Users/oliviero/Library/Python/3.9/lib/python/site-packages/jinja2/environment.py\", line 1301, in render\n",
      "    self.environment.handle_exception()\n",
      "  File \"/Users/oliviero/Library/Python/3.9/lib/python/site-packages/jinja2/environment.py\", line 936, in handle_exception\n",
      "    raise rewrite_traceback_stack(source=source)\n",
      "  File \"/Users/oliviero/Library/Python/3.9/share/jupyter/nbconvert/templates/latex/index.tex.j2\", line 8, in top-level template code\n",
      "    ((* extends cell_style *))\n",
      "  File \"/Users/oliviero/Library/Python/3.9/share/jupyter/nbconvert/templates/latex/style_jupyter.tex.j2\", line 176, in top-level template code\n",
      "    \\prompt{(((prompt)))}{(((prompt_color)))}{(((execution_count)))}{(((extra_space)))}\n",
      "  File \"/Users/oliviero/Library/Python/3.9/share/jupyter/nbconvert/templates/latex/base.tex.j2\", line 7, in top-level template code\n",
      "    ((*- extends 'document_contents.tex.j2' -*))\n",
      "  File \"/Users/oliviero/Library/Python/3.9/share/jupyter/nbconvert/templates/latex/document_contents.tex.j2\", line 51, in top-level template code\n",
      "    ((*- block figure scoped -*))\n",
      "  File \"/Users/oliviero/Library/Python/3.9/share/jupyter/nbconvert/templates/latex/display_priority.j2\", line 5, in top-level template code\n",
      "    ((*- extends 'null.j2' -*))\n",
      "  File \"/Users/oliviero/Library/Python/3.9/share/jupyter/nbconvert/templates/latex/null.j2\", line 30, in top-level template code\n",
      "    ((*- block body -*))\n",
      "  File \"/Users/oliviero/Library/Python/3.9/share/jupyter/nbconvert/templates/latex/base.tex.j2\", line 215, in block 'body'\n",
      "    ((( super() )))\n",
      "  File \"/Users/oliviero/Library/Python/3.9/share/jupyter/nbconvert/templates/latex/null.j2\", line 32, in block 'body'\n",
      "    ((*- block any_cell scoped -*))\n",
      "  File \"/Users/oliviero/Library/Python/3.9/share/jupyter/nbconvert/templates/latex/null.j2\", line 85, in block 'any_cell'\n",
      "    ((*- block markdowncell scoped-*)) ((*- endblock markdowncell -*))\n",
      "  File \"/Users/oliviero/Library/Python/3.9/share/jupyter/nbconvert/templates/latex/document_contents.tex.j2\", line 68, in block 'markdowncell'\n",
      "    ((( cell.source | citation2latex | strip_files_prefix | convert_pandoc('markdown+tex_math_double_backslash', 'json',extra_args=[]) | resolve_references | convert_pandoc('json','latex'))))\n",
      "  File \"/Users/oliviero/Library/Python/3.9/lib/python/site-packages/nbconvert/filters/pandoc.py\", line 25, in convert_pandoc\n",
      "    return pandoc(source, from_format, to_format, extra_args=extra_args)\n",
      "  File \"/Users/oliviero/Library/Python/3.9/lib/python/site-packages/nbconvert/utils/pandoc.py\", line 51, in pandoc\n",
      "    check_pandoc_version()\n",
      "  File \"/Users/oliviero/Library/Python/3.9/lib/python/site-packages/nbconvert/utils/pandoc.py\", line 99, in check_pandoc_version\n",
      "    v = get_pandoc_version()\n",
      "  File \"/Users/oliviero/Library/Python/3.9/lib/python/site-packages/nbconvert/utils/pandoc.py\", line 76, in get_pandoc_version\n",
      "    raise PandocMissing()\n",
      "nbconvert.utils.pandoc.PandocMissing: Pandoc wasn't found.\n",
      "Please check that pandoc is installed:\n",
      "https://pandoc.org/installing.html\n"
     ]
    }
   ],
   "source": [
    "# Use this command to convert the finished worksheet into a pdf \n",
    "# NOTE : you may want to change the path of the file, if you are working in a different folder of the Google Drive\n",
    "!jupyter nbconvert --no-input --to PDF \"./ITC_Worksheet.ipynb\""
   ]
  },
  {
   "cell_type": "code",
   "execution_count": null,
   "metadata": {},
   "outputs": [],
   "source": []
  }
 ],
 "metadata": {
  "kernelspec": {
   "display_name": "Python 3",
   "language": "python",
   "name": "python3"
  },
  "language_info": {
   "codemirror_mode": {
    "name": "ipython",
    "version": 3
   },
   "file_extension": ".py",
   "mimetype": "text/x-python",
   "name": "python",
   "nbconvert_exporter": "python",
   "pygments_lexer": "ipython3",
   "version": "3.9.6"
  },
  "vscode": {
   "interpreter": {
    "hash": "20bf69066c0dd38d51965b69d5e1b6e387082e3198ba56e97997ac55f4e50ad0"
   }
  }
 },
 "nbformat": 4,
 "nbformat_minor": 2
}

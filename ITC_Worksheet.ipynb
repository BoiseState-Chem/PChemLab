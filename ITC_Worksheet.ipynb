{
 "cells": [
  {
   "cell_type": "markdown",
   "metadata": {},
   "source": [
    "Student's Name and Email Address\n",
    "\n",
    "Boise State University, Department of Chemistry and Biochemistry"
   ]
  },
  {
   "attachments": {},
   "cell_type": "markdown",
   "metadata": {},
   "source": [
    "## CHEM 324: PChem Lab {-}\n",
    "# Worksheet 5: Isothermal Titration Calorimetry of $MgCl_2$ and $CaCl_2$ with EDTA {-}"
   ]
  },
  {
   "cell_type": "code",
   "execution_count": null,
   "metadata": {},
   "outputs": [],
   "source": [
    "# Import the main modules used in this worksheet\n",
    "import numpy as np\n",
    "import matplotlib.pyplot as plt\n",
    "import pandas as pd\n",
    "from sklearn.linear_model import LinearRegression"
   ]
  },
  {
   "cell_type": "code",
   "execution_count": null,
   "metadata": {},
   "outputs": [],
   "source": [
    "# These modules are needed to draw chemical formulas\n",
    "!pip install rdkit cirpy\n",
    "from rdkit import Chem\n",
    "from rdkit.Chem import Draw\n",
    "import cirpy"
   ]
  },
  {
   "cell_type": "code",
   "execution_count": null,
   "metadata": {},
   "outputs": [],
   "source": [
    "# Load the google drive with your files \n",
    "from google.colab import drive\n",
    "drive.mount('/content/drive')\n",
    "# The following needs to be the path of the folder with all your datafile in .csv format\n",
    "path='/content/drive/MyDrive/Colab Notebooks/ITC_Data/'\n",
    "file_Ca_int='CaCl2_EDTA_integrated.csv'\n",
    "file_Mg_int='MgCl2_EDTA_integrated.csv'\n",
    "file_Ca_raw='CaCl2_EDTA_raw.csv'\n",
    "file_Mg_raw='MgCl2_EDTA_raw.csv'"
   ]
  },
  {
   "attachments": {},
   "cell_type": "markdown",
   "metadata": {},
   "source": [
    "## Task 1: Ca vs Mg {-}\n",
    "Two ITC measurements were performed on magnesium ($Mg$) and calcium ($Ca$) systems. Plot the two results and describe in 2-3 sentences why, based on the raw data, one is exothermic and one is endothermic. "
   ]
  },
  {
   "cell_type": "code",
   "execution_count": null,
   "metadata": {},
   "outputs": [],
   "source": [
    "plt.show()"
   ]
  },
  {
   "attachments": {},
   "cell_type": "markdown",
   "metadata": {},
   "source": [
    "YOUR COMMENTS HERE"
   ]
  },
  {
   "attachments": {},
   "cell_type": "markdown",
   "metadata": {},
   "source": [
    "## Task 2: Thermodynamics of Binding {-}"
   ]
  },
  {
   "attachments": {},
   "cell_type": "markdown",
   "metadata": {},
   "source": [
    "From the integrated curves it is possible to determine the main thermodynamic properties of the $Ca^{2+}$ and $Mg^{2+}$ binding to ethylenediaminetetraacetic acid (EDTA) in a MES buffer at a pH of 6.\n",
    "\n",
    "* Use the first and last points in the integrated datasets to determine the binding enthalpy $\\Delta H$ for the two systems.\n",
    "* Perform a linear fit of the integrated curves in the transition region. From the slopes of the linear regression models you can obtain the binding constants ($k^{bind}$) for the two processes. \n",
    "* Report the experimental binding stoichiometry. Provide a one or two sentence explanation on why the stoichiometry is not exactly equal to 1. \n",
    "* From the binding constants, compute the binding free energy ($\\Delta G$) and the binding entropy ($\\Delta S$) for the two systems."
   ]
  },
  {
   "attachments": {},
   "cell_type": "markdown",
   "metadata": {},
   "source": [
    "YOUR COMMENTS HERE"
   ]
  },
  {
   "attachments": {},
   "cell_type": "markdown",
   "metadata": {},
   "source": [
    "## Task 3: Endothermic vs. Exothermic {-}"
   ]
  },
  {
   "attachments": {},
   "cell_type": "markdown",
   "metadata": {},
   "source": [
    "The fact that a binding process is endothermic or exothermic depends significantly on the binding agent and on the environment conditions.\n",
    "\n",
    "* Visualize the structures of EDTA (CAS number 6381-92-6) and MES (CAS number 4432-31-9). \n",
    "* Based on the structures, argue why one reaction is exothermic and one endothermic. (Tipp: Effective Charge Ions, pkA values EDTA functional groups)"
   ]
  },
  {
   "attachments": {},
   "cell_type": "markdown",
   "metadata": {},
   "source": [
    "YOUR COMMENTS HERE"
   ]
  },
  {
   "attachments": {},
   "cell_type": "markdown",
   "metadata": {},
   "source": [
    "* What would happen to the reaction with EDTA (exothermic vs. endothermic) if the experiments were performed at a) pH 3 and b) pH 11?"
   ]
  },
  {
   "attachments": {},
   "cell_type": "markdown",
   "metadata": {},
   "source": [
    "YOUR COMMENTS HERE"
   ]
  },
  {
   "attachments": {},
   "cell_type": "markdown",
   "metadata": {},
   "source": [
    "## Task 4: Sources of Errors {-}"
   ]
  },
  {
   "attachments": {},
   "cell_type": "markdown",
   "metadata": {},
   "source": [
    "ITC experiments can be tricky. Name two major sources of error that can occur and explain in 1-2 sentences why that can negatively affect the measurements. "
   ]
  },
  {
   "attachments": {},
   "cell_type": "markdown",
   "metadata": {},
   "source": [
    "YOUR COMMENTS HERE"
   ]
  },
  {
   "cell_type": "code",
   "execution_count": null,
   "metadata": {},
   "outputs": [],
   "source": [
    "# This cell is used to allow Google Colab to install the tools to convert the notebook to a pdf file\n",
    "# Un-comment the following lines when you are ready to export the pdf \n",
    "#!apt-get install texlive texlive-xetex texlive-latex-extra pandoc\n",
    "#!pip install pypandoc"
   ]
  },
  {
   "cell_type": "code",
   "execution_count": null,
   "metadata": {},
   "outputs": [],
   "source": [
    "# Use this command to convert the finished worksheet into a pdf \n",
    "# NOTE : you may want to change the path of the file, if you are working in a different folder of the Google Drive\n",
    "#!jupyter nbconvert --no-input --to PDF \"/content/drive/MyDrive/Colab Notebooks/ITC_Worksheet.ipynb\""
   ]
  }
 ],
 "metadata": {
  "kernelspec": {
   "display_name": "Python 3",
   "language": "python",
   "name": "python3"
  },
  "language_info": {
   "codemirror_mode": {
    "name": "ipython",
    "version": 3
   },
   "file_extension": ".py",
   "mimetype": "text/x-python",
   "name": "python",
   "nbconvert_exporter": "python",
   "pygments_lexer": "ipython3"
  },
  "vscode": {
   "interpreter": {
    "hash": "31f2aee4e71d21fbe5cf8b01ff0e069b9275f58929596ceb00d14d90e3e16cd6"
   }
  }
 },
 "nbformat": 4,
 "nbformat_minor": 2
}
